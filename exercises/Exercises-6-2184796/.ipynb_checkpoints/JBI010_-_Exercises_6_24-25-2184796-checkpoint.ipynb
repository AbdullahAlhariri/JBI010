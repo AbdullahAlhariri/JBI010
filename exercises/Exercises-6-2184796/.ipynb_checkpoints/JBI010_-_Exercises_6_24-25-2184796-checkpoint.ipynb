{
 "cells": [
  {
   "cell_type": "markdown",
   "metadata": {},
   "source": [
    "# JBI010 - Exercises 6 24-25\n",
    "\n",
    "This Jupyter notebook provides exercises for practicing your programming skills.\n",
    " \n",
    "**Notes**:\n",
    "\n",
    "* Submit your _personalized_ notebook to Canvas.\n",
    "\n",
    "* You then get automatic feedback from Momotor.\n",
    "\n",
    "* A score below 80% is treated as a 0.\n",
    "\n",
    "* A score of 80% or more is treated as a 10.\n",
    "\n",
    "* The best five out of six exercise sets count."
   ]
  },
  {
   "cell_type": "markdown",
   "metadata": {},
   "source": [
    "## Table of Contents\n",
    "\n",
    "<div class=\"toc\" style=\"margin-top: 1em;\">\n",
    "    <ul class=\"toc-item\">\n",
    "        <li>\n",
    "            <span><a href=\"#1-music-player\" data-toc-modified-id=\"1.-Music-Player\">1. Music Player</a></span>\n",
    "        </li>\n",
    "        <li>\n",
    "            <span><a href=\"#2-bread\" data-toc-modified-id=\"2.-Bread\">2. Bread</a></span>\n",
    "        </li>\n",
    "        <li>\n",
    "            <span><a href=\"#3-compare-breads\" data-toc-modified-id=\"3.-Compare-Breads\">3. Compare Breads</a></span>\n",
    "        </li>\n",
    "        <li>\n",
    "            <span><a href=\"#4-audio-book\" data-toc-modified-id=\"4.-Audio-Book\">4. Audio Book</a></span>\n",
    "        </li>\n",
    "        <li>\n",
    "            <span><a href=\"#5-record-and-cassette-players\" data-toc-modified-id=\"5.-Record-and-Cassette-Players\">5. Record and Cassette Players</a></span>\n",
    "        </li>\n",
    "        <li>\n",
    "            <span><a href=\"#6-modern-music-players\" data-toc-modified-id=\"6.-Modern-Music-Players\">6. Modern Music Players</a></span>\n",
    "        </li>\n",
    "        <li>\n",
    "            <span><a href=\"#7-beating-some-rps-players(class-`beatmarkovplayer`)\" data-toc-modified-id=\"7.-Beating-some-RPS-players(Class-`BeatMarkovPlayer`)\">7. Beating some RPS players(Class `BeatMarkovPlayer`)</a></span>\n",
    "        </li>\n",
    "        </ul>\n",
    "</div>"
   ]
  },
  {
   "cell_type": "markdown",
   "metadata": {},
   "source": [
    "\n",
    "# Introduction to This Template Notebook\n",
    "\n",
    "<div class=\"alert alert-danger\" role=\"danger\">\n",
    "<h3>Integrity</h3>\n",
    "<ul>\n",
    "    <li>In this course, you must act according to the rules of the TU/e code of scientific conduct.</li>\n",
    "    <li>All the exercises and the graded assignments are to be done within your programming homework group.</li>\n",
    "    <li>You must not copy from the Internet, your friends, books... If you represent other people's work as your own, then that constitutes fraud and will be reported to the Examination Committee.</li>\n",
    "    <li>Making your work available to others (complicity) also constitutes fraud.</li>\n",
    "</ul>\n",
    "</div>\n",
    "\n",
    "You are expected to work with Python 3 code in this notebook.\n",
    "\n",
    "The locations where you should write your solutions can be recognized by\n",
    "**marker lines**,\n",
    "which look like this:\n",
    "\n",
    ">`#//`\n",
    ">    `BEGIN_TODO [Label]` `Description` `(n points)`\n",
    ">\n",
    ">`#//`\n",
    ">    `END_TODO [Label]`\n",
    "\n",
    "<div class=\"alert alert-warning\" role=\"alert\">\n",
    "    <h3>Markers</h3>\n",
    "    Do NOT modify or delete these marker lines.  Keep them as they are.<br/>\n",
    "    NEVER write code that is needed for grading <i>outside</i> the marked blocks. It is invisible there.\n",
    "</div>\n",
    "\n",
    "Proceed in this notebook as follows:\n",
    "* **Personalize** the notebook (see below).\n",
    "* **Read** the text.\n",
    "* **Fill in** your solutions between `BEGIN_TODO` and `END_TODO` marker lines.\n",
    "* **Run** _all_ code cells (also the ones _without_ your code),\n",
    "    _in linear order_ from the first code cell.\n",
    "\n",
    "**Personalize your notebook**:\n",
    "1. Fill in your _full name_, _identification number_, and the current _date_ as strings between quotes.\n",
    "1. Run the code cell by putting the cursor there and typing **Control-Enter**.\n"
   ]
  },
  {
   "cell_type": "code",
   "metadata": {
    "ExecuteTime": {
     "end_time": "2024-10-07T08:42:03.689253Z",
     "start_time": "2024-10-07T08:42:03.675055Z"
    }
   },
   "source": [
    "#// BEGIN_TODO [Author] Name, Id.nr., Date, as strings (1 point)\n",
    "\n",
    "AUTHOR_NAME = 'Abdullah Alhariri'\n",
    "AUTHOR_ID_NR = '2184796'\n",
    "AUTHOR_DATE = '2024-10-07'  # when first modified, e.g. '2024-01-10'\n",
    "\n",
    "#// END_TODO [Author]\n",
    "\n",
    "AUTHOR_NAME, AUTHOR_ID_NR, AUTHOR_DATE"
   ],
   "outputs": [
    {
     "data": {
      "text/plain": [
       "('Abdullah Alhariri', '2184796', '2024-10-07')"
      ]
     },
     "execution_count": 1,
     "metadata": {},
     "output_type": "execute_result"
    }
   ],
   "execution_count": 1
  },
  {
   "cell_type": "markdown",
   "metadata": {},
   "source": [
    "\n",
    "## How to Submit Your Work\n",
    "\n",
    "1. **Rename the notebook**, replacing `...-template.ipynb` with `...-yourIDnr.ipynb`, where `yourIDnr` is your TU/e identification number.\n",
    "\n",
    "1. **Before submitting**, you must run your notebook by doing **Kernel > Restart & Run All**. Make sure that your notebook runs without errors **in linear order**.\n",
    "\n",
    "1. Submit the executed notebook with your work for the appropriate assignment in **Canvas**.\n",
    "\n",
    "1. In the **Momotor** tab in Canvas, you can select that assignment again to find some feedback on your submitted work.\n",
    "  \n",
    "1. If there are any problems reported by _Momotor_, then you need to fix those issues and **resubmit the fixed notebook**.\n"
   ]
  },
  {
   "cell_type": "markdown",
   "metadata": {},
   "source": [
    "## Preliminaries\n",
    "\n",
    "Run the cell below. This cell will import additional modules providing additional Python functionality."
   ]
  },
  {
   "cell_type": "code",
   "metadata": {
    "ExecuteTime": {
     "end_time": "2024-10-07T08:42:04.311580Z",
     "start_time": "2024-10-07T08:42:04.298064Z"
    }
   },
   "source": [
    "# Imports\n",
    "import datasets.rps as rps\n",
    "import doctest\n",
    "from datasets.rps import *\n",
    "from typing import Counter, List, Mapping, Optional"
   ],
   "outputs": [],
   "execution_count": 2
  },
  {
   "cell_type": "markdown",
   "metadata": {},
   "source": [
    "\n",
    "## Important Reminder\n",
    "\n",
    "Follow all coding conventions defined in the Python Coding Standard document. Remember that you are not just programming for a **machine**, you are mainly programming for other **humans**! In particular:  \n",
    "- all function definitions must have **type hints** and a **docstring**, and;\n",
    "- a *valid docstring* starts with a **capital letter** and ends with a **dot**. "
   ]
  },
  {
   "cell_type": "markdown",
   "metadata": {},
   "source": [
    "## Nb Mypy\n",
    "\n",
    "The following cell will attempt to enable `mypy` type checking in the notebook.\n",
    "`mypy` is an optional static type checker for Python,\n",
    "which can help you identify type errors in your code.\n",
    "If you prefer not to use it, just comment the code cell.\n",
    "\n",
    "For this to work, you need to have installed [`Nb-Mypy`](https://pypi.org/project/nb-mypy/).\n",
    "This is experimental and optional.\n",
    "Some additional examples on its use can be found [here](https://gitlab.tue.nl/jupyter-projects/nb_mypy/-/blob/master/Nb_Mypy.ipynb).\n",
    "\n",
    "**Note**:\n",
    "\n",
    "* Type checking can be picky.\n",
    "  In some cases, you can ignore the `nb-mypy` message.\n",
    "* In case of doubt, ask for help."
   ]
  },
  {
   "cell_type": "code",
   "metadata": {
    "ExecuteTime": {
     "end_time": "2024-10-07T08:42:58.298634Z",
     "start_time": "2024-10-07T08:42:58.006092Z"
    }
   },
   "source": [
    "# Enable mypy type checking\n",
    "\n",
    "try:\n",
    "    %load_ext nb_mypy\n",
    "except ModuleNotFoundError:\n",
    "    print('Type checking facility (Nb Mypy) is not installed.')\n",
    "    print('To use this facility, install Nb Mypy by executing (in a cell):')\n",
    "    print('  !python3 -m pip install nb_mypy')"
   ],
   "outputs": [
    {
     "name": "stdout",
     "output_type": "stream",
     "text": [
      "The nb_mypy extension is already loaded. To reload it, use:\n",
      "  %reload_ext nb_mypy\n"
     ]
    }
   ],
   "execution_count": 6
  },
  {
   "cell_type": "markdown",
   "metadata": {},
   "source": [
    "## 1. Music Player"
   ]
  },
  {
   "cell_type": "markdown",
   "metadata": {},
   "source": [
    "Create the class `MusicPlayer`, which contains the attributes `name` (string), `data_format` (string), and `state` (integer). \n",
    "The `name` and `data_format` attributes can be any string, and their default value is an empty string.\n",
    "The `state` attribute can have three values, `0`, `1`, or `2`, and its default value is `0`: \n",
    "- `0`: the music player is **playing** some music.\n",
    "- `1`: the music player has been **paused**.\n",
    "- `2`: the music player has been **stopped**.\n",
    "\n",
    "Define the `__str__` method so it returns the following message: \"Music Player(`name`, `data_format`, `state`)\".\n",
    "Now, create the methods `play`, `pause`, and `stop`, which will change the `state` attribute of the music player, accordingly.\n",
    "\n",
    "**Example:**\n",
    "```python\n",
    "# Program\n",
    "cd_player = MusicPlayer('CD Player', 'CD', 2)\n",
    "\n",
    "cd_player.play()\n",
    "print(str(cd_player))\n",
    "\n",
    "cd_player.pause()\n",
    "print(str(cd_player))\n",
    "\n",
    "\n",
    "# Output \n",
    "Music Player(CD Player, CD, 0)\n",
    "Music Player(CD Player, CD, 1)\n",
    "```"
   ]
  },
  {
   "cell_type": "code",
   "execution_count": null,
   "metadata": {},
   "outputs": [],
   "source": [
    "#// BEGIN_TODO [Music_player] Music player \n",
    "\n",
    "# ===== =====> Replace this line by your code. <===== ===== #\n",
    "\n",
    "#// END_TODO [Music_player]\n",
    "\n",
    "cd_player = MusicPlayer('CD Player', 'CD', 2)\n",
    "\n",
    "cd_player.play()\n",
    "print(str(cd_player))\n",
    "\n",
    "cd_player.pause()\n",
    "print(str(cd_player))"
   ]
  },
  {
   "cell_type": "markdown",
   "metadata": {},
   "source": [
    "## 2. Bread"
   ]
  },
  {
   "cell_type": "markdown",
   "metadata": {},
   "source": [
    "Create the class `Bread`, which has the attributes `name` (string), `flour` (string), `color` (string), `calories` (integer), and `units` (integer).\n",
    "Then, create the methods `take_slice` and `buy_units`:\n",
    "- `take_slice`: it has no parameters and returns a Boolean. The method decreases the number of units of the bread by one and returns `True`. If the number of units is equal to zero it won't decrease the attribute's value and will return `False`.\n",
    "- `buy_units`: it gets an integer as a parameter and does not return anything. The method increases the number of units of the bread by the value that comes as the parameter.\n",
    "\n",
    "**Example:**\n",
    "```python\n",
    "# Program\n",
    "whole_bread = Bread('Whole', 'Wheat', 'Light brown', 220, 12)\n",
    "print(whole_bread.units)\n",
    "\n",
    "whole_bread.take_slice()  # 12 - 1 = 11\n",
    "whole_bread.take_slice()  # 11 - 1 = 10\n",
    "print(whole_bread.units)\n",
    "\n",
    "whole_bread.buy_units(12) # 10 + 12 = 22\n",
    "print(whole_bread.units)\n",
    "\n",
    "# Output \n",
    "12\n",
    "10\n",
    "22\n",
    "\n",
    "```"
   ]
  },
  {
   "cell_type": "code",
   "execution_count": null,
   "metadata": {},
   "outputs": [],
   "source": [
    "#// BEGIN_TODO [Bread] Bread \n",
    "\n",
    "# ===== =====> Replace this line by your code. <===== ===== #\n",
    "\n",
    "#// END_TODO [Bread]\n",
    "\n",
    "whole_bread = Bread('Whole', 'Wheat', 'Brown', 220, 12)\n",
    "print(whole_bread.units)\n",
    "\n",
    "whole_bread.take_slice()\n",
    "whole_bread.take_slice()\n",
    "print(whole_bread.units)\n",
    "\n",
    "whole_bread.buy_units(12)\n",
    "print(whole_bread.units)"
   ]
  },
  {
   "cell_type": "markdown",
   "metadata": {},
   "source": [
    "## 3. Compare Breads"
   ]
  },
  {
   "cell_type": "markdown",
   "metadata": {},
   "source": [
    "Copy the `Bread` class you defined in the \"Bread\" exercise. Now, we will extend it with new methods. We want to be able to compare breads depending on how many calories they have. That is, a bread is less than others if it has fewer calories, and so on. To do so, we need to redefine the `>`, `>=`, `<`, `<=`, `==`, and `!=` operators. These operators will be redefined by implementing the following methods on the class `Bread`:\n",
    "\n",
    "* `__gt__(self, other)`: object `>` other\n",
    "* `__ge__(self, other)`: object `>=` other\n",
    "* `__lt__(self, other)`: object `<` other\n",
    "* `__le__(self, other)`: object `<=` other\n",
    "* `__eq__(self, other)`: object `==` other\n",
    "* `__ne__(self, other)`: object `!=` other\n",
    "\n",
    "\n",
    "**Example:**\n",
    "```python\n",
    "# Input\n",
    "whole_bread = Bread('Whole', 'Wheat', 'Brown', 220, 12)\n",
    "white_bread = Bread('White', 'Wheat', 'White', 250, 10)\n",
    "spelt_bread = Bread('Spelt', 'Spelt', 'Light brown', 245, 2)\n",
    "\n",
    "print(whole_bread > white_bread)\n",
    "print(whole_bread <= spelt_bread)\n",
    "print(spelt_bread != white_bread)\n",
    "\n",
    "# Output \n",
    "False\n",
    "True\n",
    "True\n",
    "```"
   ]
  },
  {
   "cell_type": "code",
   "execution_count": null,
   "metadata": {},
   "outputs": [],
   "source": [
    "#// BEGIN_TODO [Compare_breads] Compare breads\n",
    "\n",
    "# ===== =====> Replace this line by your code. <===== ===== #\n",
    "\n",
    "#// END_TODO [Compare_breads]\n",
    "\n",
    "whole_bread = Bread('Whole', 'Wheat', 'Brown', 220, 12)\n",
    "white_bread = Bread('White', 'Wheat', 'White', 250, 10)\n",
    "spelt_bread = Bread('Spelt', 'Spelt', 'Light brown', 245, 2)\n",
    "\n",
    "print(whole_bread > white_bread)\n",
    "print(whole_bread <= spelt_bread)\n",
    "print(spelt_bread != white_bread)"
   ]
  },
  {
   "cell_type": "markdown",
   "metadata": {},
   "source": [
    "## 4. Audio Book"
   ]
  },
  {
   "cell_type": "markdown",
   "metadata": {},
   "source": [
    "Create the `AudioBook` class. The initializer of the class takes as input the `title` (string), `author` (string), and `content` (list of strings) of an audiobook in the given order.\n",
    "It then stores those values as attributes (keep using the same names).\n",
    "You should also add the `current_line` attribute which will point to the line that is currently being read.\n",
    "However, this last attribute won't be received as input.\n",
    "The class must have the following methods:\n",
    "\n",
    "- `__init__`: initializes an object of type `AudioBook`.\n",
    "- `read_line`: returns the following line that will be read, starting from the first line in the content of the book. When there are no more lines to read, it starts over again. Notice that you might need to modify the `current_line` attribute.\n",
    "- `restart`: modifies the `current_line` pointer to the beginning of the book content.\n",
    "- `read_book`: returns the whole content of the book as a string and sets `current_line` to zero. All lines are joined with a newline character as a separator. For instance, if the content is equal to ['A', 'B', 'C'], the resulting string should look like 'A\\nB\\nC'\n",
    "\n",
    "**Note:** some code has been provided to test your implementation of the `AudioBook` class.\n",
    "Use this code to verify that your implementation works as expected.\n",
    "In particular, you will be using the `read_little_prince` function.\n",
    "All code is found as an additional cell at the end of the exercise.\n",
    "Do not modify its content, just run it.\n",
    "\n",
    "**Example:**\n",
    "```python\n",
    "# Play with and excerpt of The Little Prince.\n",
    "```"
   ]
  },
  {
   "cell_type": "code",
   "execution_count": null,
   "metadata": {},
   "outputs": [],
   "source": [
    "#// BEGIN_TODO [Audio_book] Audio book\n",
    "\n",
    "# ===== =====> Replace this line by your code. <===== ===== #\n",
    "\n",
    "#// END_TODO [Audio_book]"
   ]
  },
  {
   "cell_type": "code",
   "execution_count": null,
   "metadata": {},
   "outputs": [],
   "source": [
    "# Run this cell to test your code and DO NOT modify the code in this cell\n",
    "\n",
    "import time\n",
    "\n",
    "def get_content(path: str) -> List[str]:\n",
    "    \"\"\" \n",
    "    Get's the content of an audio book as a list of strings.\n",
    "    :param path: path to the book\n",
    "    :returns: list of strings with the book lines\n",
    "    \"\"\"\n",
    "    content = ''\n",
    "    with open(path) as file:\n",
    "        content = file.readlines()\n",
    "    \n",
    "    return content\n",
    "\n",
    "\n",
    "def read_little_prince() -> None:\n",
    "    \"\"\" \n",
    "    Reads an extract of The Little Prince book. \n",
    "    \"\"\"\n",
    "    content = get_content('datasets/little-prince.txt')\n",
    "    little_prince = AudioBook('The Little Prince', 'Antoine de Saint-Exupéry', content)\n",
    "\n",
    "    for _ in range(len(little_prince.content)):\n",
    "        line = little_prince.read_line().rstrip()\n",
    "        stop = len(line) // 15\n",
    "        print(line)\n",
    "        time.sleep(stop)\n",
    "        \n",
    "read_little_prince()"
   ]
  },
  {
   "cell_type": "markdown",
   "metadata": {},
   "source": [
    "## 5. Record and Cassette Players"
   ]
  },
  {
   "cell_type": "markdown",
   "metadata": {},
   "source": [
    "Remember the \"Music Player\" exercise? There are different types of music players. In this exercise, we want to create two special types of music players: record and cassette players.\n",
    "Create the `RecordPlayer` and `CassettePlayer` classes, which will inherit from the `MusicPlayer` class.\n",
    "Now, fulfill the following requirements:\n",
    "- The name of all `RecordPlayer` objects must be set to \"Record Player\".\n",
    "- The data format of all `RecordPlayer` objects must be set to \"Record\".\n",
    "- The name of all `CassettePlayer` objects must be set to \"Cassette Player\".\n",
    "- The data format of all `CassettePlayer` objects must be set to \"Cassette\".\n",
    "- Initializers of both classes do not require any parameter.\n",
    "- Modify the `__str__` method of the `RecordPlayer` and the `CassettePlayer` classes, so they return the message '`name`(`state`)'.\n",
    "\n",
    "**Note:** Investigate how to use the `super` statement, especially when defining the initializer of each child class.\n",
    "\n",
    "**Example:**\n",
    "```python\n",
    "# Program\n",
    "record_player = RecordPlayer()\n",
    "cassette_player = CassettePlayer()\n",
    "\n",
    "print(record_player)\n",
    "print(cassette_player)\n",
    "\n",
    "# Output \n",
    "Record Player(0)\n",
    "Cassette Player(0)\n",
    "```"
   ]
  },
  {
   "cell_type": "code",
   "execution_count": null,
   "metadata": {},
   "outputs": [],
   "source": [
    "# Do not modify this code. This one is needed to solve \n",
    "# the rest of the exercise.\n",
    "\n",
    "class MusicPlayer:\n",
    "    \"\"\" \n",
    "    Represents a music player\n",
    "    \"\"\"\n",
    "    \n",
    "    # Optional constants\n",
    "    PLAY = 0  # Play state\n",
    "    PAUSE = 1 # Pause state\n",
    "    STOP = 2  # Stop state\n",
    "    \n",
    "    def __init__(self, name: str=\"\", data_format: str=\"\", state: int=PLAY) -> None:\n",
    "        \"\"\" \n",
    "        Initializes the music player attributes.\n",
    "        :param name: name of the music player (default = \"\")\n",
    "        :param data_format: data format of th emusic player (default = \"\")\n",
    "        :param state: state of the music player where 0 stands for \"play\", 1 \n",
    "            for \"pause\", and 2 for \"stop\" (default = 0)\n",
    "        \"\"\"\n",
    "        self.name = name\n",
    "        self.data_format = data_format\n",
    "        self.state = state\n",
    "        \n",
    "        \n",
    "    def __str__(self) -> str:\n",
    "        \"\"\" \n",
    "        Returns a representation of a `MusicPlayer` object.\n",
    "        :returns: string representing the `MusicPlayer` object.\n",
    "        \"\"\"\n",
    "        return f'Music Player({self.name}, {self.data_format}, {self.state})'"
   ]
  },
  {
   "cell_type": "code",
   "execution_count": null,
   "metadata": {},
   "outputs": [],
   "source": [
    "#// BEGIN_TODO [Record_and_cassette_players] Record and cassette players\n",
    "\n",
    "# ===== =====> Replace this line by your code. <===== ===== #\n",
    "\n",
    "#// END_TODO [Record_and_cassette_players]\n",
    "\n",
    "record_player = RecordPlayer()\n",
    "cassette_player = CassettePlayer()\n",
    "\n",
    "print(record_player)\n",
    "print(cassette_player)"
   ]
  },
  {
   "cell_type": "markdown",
   "metadata": {},
   "source": [
    "## 6. Modern Music Players"
   ]
  },
  {
   "cell_type": "markdown",
   "metadata": {},
   "source": [
    "The record and cassette players are old-school music players.\n",
    "More modern players have new features that can be used by users, such as having a list of songs and playing them independently.\n",
    "Create the `ModernPlayer` class that inherits from the `MusicPlayer` class.\n",
    "This modern player will get all the music player attributes plus the `songs` attribute as parameters.\n",
    "The `songs` attribute is a list of strings representing the titles of the songs.\n",
    "Furthermore, the `ModernPlayer` has the following two methods:\n",
    "- `next_song`: this method changes the position of the current song to the next song in the list. If the current song is the last song, it should point to the first song after calling this method. It seems that having a new attribute that keeps track of this index would be handy. It should start by pointing to the first item on the list.\n",
    "- `play_current_song`: this method returns the title of the current song of the `songs` attribute. Consider the attribute you created previously.\n",
    "\n",
    "Afterward, create the classes `CDPlayer` and `MP3Player` which inherit from the `ModernPlayer` class.\n",
    "Now, fulfill the following requirements:\n",
    "\n",
    "- The name of all `CDPlayer` objects must be 'CD Player'.\n",
    "- The data format of all `CDPlayer` objects must be 'CD'.\n",
    "- The name of all `MP3Player` objects must be 'MP3 Player'.\n",
    "- The data format of all `MP3Player` objects must be 'MP3'.\n",
    "- Constructors for both classes require one parameter: the list of `songs` that is also required by the `ModernPlayer`.\n",
    "\n",
    "**Note:** You will need to use the `super` statement again.\n",
    "\n",
    "**Example:**\n",
    "```python\n",
    "# Input\n",
    "hey_jude_songs = [\n",
    "    'Can\\'t Buy Me Love', \n",
    "    'I Should Have Known Better',\n",
    "    'Paperback Writer',\n",
    "    'Rain',\n",
    "    'Lady Madonna',\n",
    "    'Revolution',\n",
    "    'Hey Jude',\n",
    "    'Old Brown Shoe',\n",
    "    'Don\\'t Let Me Down',\n",
    "    'The Ballad of John and Yoko'\n",
    "]\n",
    "\n",
    "cd_player = CDPlayer(hey_jude_songs)\n",
    "mp3_player = MP3Player(hey_jude_songs)\n",
    "\n",
    "for _ in range(6):\n",
    "    cd_player.next_song()\n",
    "    mp3_player.next_song()\n",
    "\n",
    "print(f'CD player song: {cd_player.play_current_song()}')\n",
    "print(f'MP3 player song: {mp3_player.play_current_song()}')\n",
    "\n",
    "# Output \n",
    "CD player song: Hey Jude\n",
    "MP3 player song: Hey Jude\n",
    "```"
   ]
  },
  {
   "cell_type": "code",
   "execution_count": null,
   "metadata": {},
   "outputs": [],
   "source": [
    "#// BEGIN_TODO [Modern_music_players] Modern music players\n",
    "\n",
    "# ===== =====> Replace this line by your code. <===== ===== #\n",
    "\n",
    "#// END_TODO [Modern_music_players]\n",
    "\n",
    "hey_jude_songs = [\n",
    "    'Can\\'t Buy Me Love', \n",
    "    'I Should Have Known Better',\n",
    "    'Paperback Writer',\n",
    "    'Rain',\n",
    "    'Lady Madonna',\n",
    "    'Revolution',\n",
    "    'Hey Jude',\n",
    "    'Old Brown Shoe',\n",
    "    'Don\\'t Let Me Down',\n",
    "    'The Ballad of John and Yoko'\n",
    "]\n",
    "\n",
    "cd_player = CDPlayer(hey_jude_songs)\n",
    "mp3_player = MP3Player(hey_jude_songs)\n",
    "\n",
    "for _ in range(6):\n",
    "    cd_player.next_song()\n",
    "    mp3_player.next_song()\n",
    "\n",
    "print(f'CD player song: {cd_player.play_current_song()}')\n",
    "print(f'MP3 player song: {mp3_player.play_current_song()}')"
   ]
  },
  {
   "attachments": {},
   "cell_type": "markdown",
   "metadata": {},
   "source": [
    "## 7. Beating some RPS players(Class `BeatMarkovPlayer`)"
   ]
  },
  {
   "attachments": {},
   "cell_type": "markdown",
   "metadata": {},
   "source": [
    "Given is the module `rps` with some definitions for Rock-Paper-Scissors (RPS).\n",
    "These are (a slight variation on) the definitions in Lectures 4-B and 6-A.\n",
    "Make sure that the file `rps.py` is in the same directory as this notebook.\n",
    "\n",
    "Overview of `rps` (also see `help(rps)` below):\n",
    "* Type `Option` with values `ROCK`, `PAPER`, `SCISSORS`, combined in list `OPTIONS`\n",
    "* Type `Outcome` with values `TIE`, `WIN`, `LOSS` (from perspective of first player)\n",
    "* Function `judge_encounter`, taking two `Option` values and returning an `Outcome`\n",
    "* Type `Distribution` and function `random_choice`\n",
    "* Abstract base class `Player`\n",
    "* Class `OutcomeStats`\n",
    "* Class `Referee`, with two `Player` objects, and\n",
    "  - Method `play_encounter`, for a single encounter between the two players\n",
    "  - Method `play_games`, to play multiple encounters, returning outcome statistics"
   ]
  },
  {
   "cell_type": "code",
   "execution_count": null,
   "metadata": {},
   "outputs": [],
   "source": [
    "import datasets.rps as rps  # to run its doctest examples, and to get help\n",
    "from datasets.rps import *"
   ]
  },
  {
   "cell_type": "code",
   "execution_count": null,
   "metadata": {},
   "outputs": [],
   "source": [
    "doctest.testmod(rps, verbose=False, name='rps')"
   ]
  },
  {
   "cell_type": "code",
   "execution_count": null,
   "metadata": {},
   "outputs": [],
   "source": [
    "help(rps)"
   ]
  },
  {
   "attachments": {},
   "cell_type": "markdown",
   "metadata": {},
   "source": [
    "#### Given Class `MarkovPlayer`\n",
    "\n",
    "Previously, a player `MarkovPlayer` was defined\n",
    "that chooses according to a distribution\n",
    "depending on its previous choice.\n",
    "Here is its definition again."
   ]
  },
  {
   "cell_type": "code",
   "execution_count": null,
   "metadata": {},
   "outputs": [],
   "source": [
    "#: Type for order-1 Markov models\n",
    "MarkovModel_1 = Mapping[Option, Distribution]"
   ]
  },
  {
   "cell_type": "code",
   "execution_count": null,
   "metadata": {},
   "outputs": [],
   "source": [
    "class MarkovPlayer(Player):\n",
    "    \"\"\"A player who chooses according\n",
    "    to given order-1 Markov model.\n",
    "    \n",
    "    First time, chooses uniformly among all options.\n",
    "    \"\"\"\n",
    "    \n",
    "    def __init__(self, name: str, mm: MarkovModel_1) -> None:\n",
    "        \"\"\"Initialize the player for given Markov model.\n",
    "        \"\"\"\n",
    "        super().__init__(name)\n",
    "        self.mm = mm\n",
    "        self.previous: Optional[Option] = None\n",
    "        \n",
    "    def choose(self) -> Option:\n",
    "        \"\"\"Return player's choice.\n",
    "        \"\"\"\n",
    "        distr: Distribution  # (needed for type checking)\n",
    "        if self.previous is None:\n",
    "            distr = [1, 1, 1]\n",
    "        else:\n",
    "            distr = self.mm[self.previous]\n",
    "        choice = choose_random(distr)\n",
    "        self.previous = choice\n",
    "        return choice"
   ]
  },
  {
   "attachments": {},
   "cell_type": "markdown",
   "metadata": {},
   "source": [
    "In particular, player `markov` was defined,\n",
    "who avoids its previous choice, and chooses among the remaining options with probability 0.5 each:"
   ]
  },
  {
   "cell_type": "code",
   "execution_count": null,
   "metadata": {},
   "outputs": [],
   "source": [
    "mm = {ROCK:     [0.0, 0.5, 0.5],\n",
    "      PAPER:    [0.5, 0.0, 0.5],\n",
    "      SCISSORS: [0.5, 0.5, 0.0],\n",
    "     }\n",
    "markov = MarkovPlayer(\"Mar Kov\", mm)"
   ]
  },
  {
   "cell_type": "code",
   "execution_count": null,
   "metadata": {},
   "outputs": [],
   "source": [
    "# A run of 20 choices\n",
    "\n",
    "[markov.choose() for _ in range(20)]"
   ]
  },
  {
   "cell_type": "code",
   "execution_count": null,
   "metadata": {},
   "outputs": [],
   "source": [
    "# Overall statistics\n",
    "\n",
    "Counter(markov.choose() for _ in range(10000))"
   ]
  },
  {
   "attachments": {},
   "cell_type": "markdown",
   "metadata": {},
   "source": [
    "Define player `BeatMarkovPlayer` who\n",
    "* on the very first turn, chooses randomly (uniform)\n",
    "* on all subsequent turns, chooses the best option to outplay `markov`\n",
    "  (defined above).\n",
    "\n",
    "**Notes**:\n",
    "* Introduce an attribute `self.opponent_previous`\n",
    "  that tracks the previous choice of the opponent.\n",
    "* For that, you need to override `__init__()`.\n",
    "  * Don't forget to call `super().__init__(name)`.\n",
    "  * Initialize `self.opponent_previous` to `None`.\n",
    "  * If you want to provide a type hint for `self.previous`,\n",
    "    then use `Optional[Option]`.\n",
    "* And you need to implement `inform()` to update `self.opponent_previous`.\n",
    "* Implement `choose()`, using `self.opponent_previous`.\n",
    "  * Here, you will have to think about what the best choice is to outplay `markov`.\n",
    "  * To make the first choice, use `choose_random` from `rps`\n",
    "    with distribution `[1/3, 1/3, 1/3]`.\n",
    "* Don't forget the docstring of the class with some `doctest` examples.\n",
    "  * You can make use of player `markov` defined above,\n",
    "    to check that it never loses, except possibly on the first encounter."
   ]
  },
  {
   "cell_type": "code",
   "execution_count": null,
   "metadata": {},
   "outputs": [],
   "source": [
    "#// BEGIN_TODO [beating_some_RPS_players(Class `BeatMarkovPlayer`)] Beating Some RPS Players(Class `BeatMarkovPlayer`)\n",
    "\n",
    "# ===== =====> Replace this line by your code. <===== ===== #\n",
    "\n",
    "#// END_TODO [beating_some_RPS_players(Class `BeatMarkovPlayer`)]"
   ]
  },
  {
   "cell_type": "markdown",
   "metadata": {},
   "source": [
    "\n",
    "---"
   ]
  },
  {
   "cell_type": "code",
   "execution_count": null,
   "metadata": {},
   "outputs": [],
   "source": [
    "# List of all defined names\n",
    "%whos"
   ]
  },
  {
   "cell_type": "markdown",
   "metadata": {},
   "source": [
    "---\n",
    "\n",
    "# (End of Notebook)\n",
    "\n",
    "&copy; 2017-2024 - **TU/e** - Eindhoven University of Technology\n"
   ]
  }
 ],
 "metadata": {
  "anaconda-cloud": {},
  "kernelspec": {
   "display_name": "Python 3.10.6 ('venv': venv)",
   "language": "python",
   "name": "python3"
  },
  "language_info": {
   "codemirror_mode": {
    "name": "ipython",
    "version": 3
   },
   "file_extension": ".py",
   "mimetype": "text/x-python",
   "name": "python",
   "nbconvert_exporter": "python",
   "pygments_lexer": "ipython3",
   "version": "3.10.6"
  },
  "vscode": {
   "interpreter": {
    "hash": "440ded6bd466dc632760b2783eaa5924fc8bb7d8bd9dda723193caf011fd0fab"
   }
  }
 },
 "nbformat": 4,
 "nbformat_minor": 4
}
