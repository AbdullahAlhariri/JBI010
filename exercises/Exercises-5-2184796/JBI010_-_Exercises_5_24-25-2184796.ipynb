{
 "cells": [
  {
   "cell_type": "markdown",
   "metadata": {},
   "source": [
    "# JBI010 - Exercises 5 24-25\n",
    "\n",
    "This Jupyter notebook provides exercises for practicing your programming skills.\r\n",
    " \r\n",
    "**Notes**:\r\n",
    "\r\n",
    "* Submit your _personalized_ notebook to Canvas.\r\n",
    "\r\n",
    "* You then get automatic feedback from Momotor.\r\n",
    "\r\n",
    "* A score below 80% is treated as a 0.\r\n",
    "\r\n",
    "* A score of 80% or more is treated as a 10.\r\n",
    "\r\n",
    "* The best five out of six exercise sets count."
   ]
  },
  {
   "cell_type": "markdown",
   "metadata": {},
   "source": [
    "## Table of Contents\n",
    "\n",
    "<div class=\"toc\" style=\"margin-top: 1em;\">\n",
    "    <ul class=\"toc-item\">\n",
    "        <li>\n",
    "            <span><a href=\"#1-cyclists\" data-toc-modified-id=\"1.-Cyclists\">1. Cyclists</a></span>\n",
    "        </li>\n",
    "        <li>\n",
    "            <span><a href=\"#2-object-oriented-card\" data-toc-modified-id=\"2.-Object-Oriented-Card\">2. Object-Oriented Card</a></span>\n",
    "        </li>\n",
    "        <li>\n",
    "            <span><a href=\"#3-points\" data-toc-modified-id=\"3.-Points\">3. Points</a></span>\n",
    "        </li>\n",
    "        <li>\n",
    "            <span><a href=\"#4-lines\" data-toc-modified-id=\"4.-Lines\">4. Lines</a></span>\n",
    "        </li>\n",
    "        <li>\n",
    "            <span><a href=\"#5-line-intersection\" data-toc-modified-id=\"5.-Line-intersection\">5. Line intersection</a></span>\n",
    "        </li>\n",
    "        <li>\n",
    "            <span><a href=\"#6-rolling-stones-albums\" data-toc-modified-id=\"6.-Rolling-Stones-Albums\">6. Rolling Stones Albums</a></span>\n",
    "        </li>\n",
    "        <li>\n",
    "            <span><a href=\"#7-most-popular-artist\" data-toc-modified-id=\"7.-Most-Popular-Artist\">7. Most Popular Artist</a></span>\n",
    "        </li>\n",
    "        </ul>\n",
    "</div>"
   ]
  },
  {
   "cell_type": "markdown",
   "metadata": {},
   "source": [
    "\n",
    "# Introduction to This Template Notebook\n",
    "\n",
    "<div class=\"alert alert-danger\" role=\"danger\">\n",
    "<h3>Integrity</h3>\n",
    "<ul>\n",
    "    <li>In this course, you must act according to the rules of the TU/e code of scientific conduct.</li>\n",
    "    <li>All the exercises and the graded assignments are to be done within your programming homework group.</li>\n",
    "    <li>You must not copy from the Internet, your friends, books... If you represent other people's work as your own, then that constitutes fraud and will be reported to the Examination Committee.</li>\n",
    "    <li>Making your work available to others (complicity) also constitutes fraud.</li>\n",
    "</ul>\n",
    "</div>\n",
    "\n",
    "You are expected to work with Python 3 code in this notebook.\n",
    "\n",
    "The locations where you should write your solutions can be recognized by\n",
    "**marker lines**,\n",
    "which look like this:\n",
    "\n",
    ">`#//`\n",
    ">    `BEGIN_TODO [Label]` `Description` `(n points)`\n",
    ">\n",
    ">`#//`\n",
    ">    `END_TODO [Label]`\n",
    "\n",
    "<div class=\"alert alert-warning\" role=\"alert\">\n",
    "    <h3>Markers</h3>\n",
    "    Do NOT modify or delete these marker lines.  Keep them as they are.<br/>\n",
    "    NEVER write code that is needed for grading <i>outside</i> the marked blocks. It is invisible there.\n",
    "</div>\n",
    "\n",
    "Proceed in this notebook as follows:\n",
    "* **Personalize** the notebook (see below).\n",
    "* **Read** the text.\n",
    "* **Fill in** your solutions between `BEGIN_TODO` and `END_TODO` marker lines.\n",
    "* **Run** _all_ code cells (also the ones _without_ your code),\n",
    "    _in linear order_ from the first code cell.\n",
    "\n",
    "**Personalize your notebook**:\n",
    "1. Fill in your _full name_, _identification number_, and the current _date_ as strings between quotes.\n",
    "1. Run the code cell by putting the cursor there and typing **Control-Enter**.\n"
   ]
  },
  {
   "cell_type": "code",
   "execution_count": null,
   "metadata": {},
   "outputs": [],
   "source": [
    "#// BEGIN_TODO [Author] Name, Id.nr., Date, as strings (1 point)\n",
    "\n",
    "AUTHOR_NAME = 'Your Full Name'\n",
    "AUTHOR_ID_NR = '1234567'\n",
    "AUTHOR_DATE = '2024-01-10'  # when first modified, e.g. '2024-01-10'\n",
    "\n",
    "#// END_TODO [Author]\n",
    "\n",
    "AUTHOR_NAME, AUTHOR_ID_NR, AUTHOR_DATE"
   ]
  },
  {
   "cell_type": "markdown",
   "metadata": {},
   "source": [
    "\n",
    "## How to Submit Your Work\n",
    "\n",
    "1. **Rename the notebook**, replacing `...-template.ipynb` with `...-yourIDnr.ipynb`, where `yourIDnr` is your TU/e identification number.\n",
    "\n",
    "1. **Before submitting**, you must run your notebook by doing **Kernel > Restart & Run All**. Make sure that your notebook runs without errors **in linear order**.\n",
    "\n",
    "1. Submit the executed notebook with your work for the appropriate assignment in **Canvas**.\n",
    "\n",
    "1. In the **Momotor** tab in Canvas, you can select that assignment again to find some feedback on your submitted work.\n",
    "  \n",
    "1. If there are any problems reported by _Momotor_, then you need to fix those issues and **resubmit the fixed notebook**.\n"
   ]
  },
  {
   "cell_type": "markdown",
   "metadata": {},
   "source": [
    "## Preliminaries\n",
    "\n",
    "Run the cell below. This cell will import additional modules providing additional Python functionality."
   ]
  },
  {
   "cell_type": "code",
   "execution_count": null,
   "metadata": {},
   "outputs": [],
   "source": [
    "# Imports\n",
    "import doctest\n",
    "from typing import Dict, List"
   ]
  },
  {
   "cell_type": "markdown",
   "metadata": {},
   "source": [
    "\n",
    "## Important Reminder\n",
    "\n",
    "Follow all coding conventions defined in the Python Coding Standard document. Remember that you are not just programming for a **machine**, you are mainly programming for other **humans**! In particular:  \n",
    "- all function definitions must have **type hints** and a **docstring**, and;\n",
    "- a *valid docstring* starts with a **capital letter** and ends with a **dot**. "
   ]
  },
  {
   "cell_type": "markdown",
   "metadata": {},
   "source": [
    "## Nb Mypy\n",
    "\n",
    "The following cell will attempt to enable `mypy` type checking in the notebook.\n",
    "`mypy` is an optional static type checker for Python,\n",
    "which can help you identify type errors in your code.\n",
    "If you prefer not to use it, just comment the code cell.\n",
    "\n",
    "For this to work, you need to have installed [`Nb-Mypy`](https://pypi.org/project/nb-mypy/).\n",
    "This is experimental and optional.\n",
    "Some additional examples on its use can be found [here](https://gitlab.tue.nl/jupyter-projects/nb_mypy/-/blob/master/Nb_Mypy.ipynb).\n",
    "\n",
    "**Note**:\n",
    "\n",
    "* Type checking can be picky.\n",
    "  In some cases, you can ignore the `nb-mypy` message.\n",
    "* In case of doubt, ask for help."
   ]
  },
  {
   "cell_type": "code",
   "execution_count": null,
   "metadata": {},
   "outputs": [],
   "source": [
    "# Enable mypy type checking\n",
    "\n",
    "try:\n",
    "    %load_ext nb_mypy\n",
    "except ModuleNotFoundError:\n",
    "    print('Type checking facility (Nb Mypy) is not installed.')\n",
    "    print('To use this facility, install Nb Mypy by executing (in a cell):')\n",
    "    print('  !python3 -m pip install nb_mypy')"
   ]
  },
  {
   "cell_type": "markdown",
   "metadata": {},
   "source": [
    "## 1. Cyclists"
   ]
  },
  {
   "cell_type": "markdown",
   "metadata": {},
   "source": [
    "Create a class `Cyclist` with the string attributes `name`, `team`, and `nationality`. Attributes should be set in the initializer `__init__`. Also, override the method `_repr_` that returns a string representation of a `Cyclist` object.<br>\n",
    "Then, create the list `podium` that contains the three winners of the 2022 Tour de France:\n",
    "* Jonas Vingegaard, a Danish cyclist from the \"Team Jumbo-Visma\"\n",
    "* Tadej Pogacar, a Slovenian cyclist from the \"UAE Team Emirates\"\n",
    "* Geraint Thomas, a British cyclist from the \"INEOS Grenadiers\" team\n",
    "\n",
    "\n",
    "**Example:**\n",
    "```python\n",
    "print(podium)\n",
    "      \n",
    "# Output\n",
    "# Objects encoding in Python\n",
    "[\n",
    "    Cyclist('Jonas Vingegaard', 'Team Jumbo-Visma', 'Danish'), \n",
    "    Cyclist('Tadej Pogacar', 'UAE Team Emirates', 'Slovenian'), \n",
    "    Cyclist('Geraint Thomas', 'INEOS Grenadiers', 'British')\n",
    "]\n",
    "```"
   ]
  },
  {
   "cell_type": "code",
   "execution_count": null,
   "metadata": {},
   "outputs": [],
   "source": [
    "#// BEGIN_TODO [Cyclists] Cyclists \n",
    "\n",
    "# ===== =====> Replace this line by your code. <===== ===== #\n",
    "\n",
    "#// END_TODO [Cyclists]\n",
    "\n",
    "print(podium)"
   ]
  },
  {
   "cell_type": "markdown",
   "metadata": {},
   "source": [
    "## 2. Object-Oriented Card"
   ]
  },
  {
   "attachments": {},
   "cell_type": "markdown",
   "metadata": {},
   "source": [
    "Consider class `Card` (see below).\n",
    "\n",
    "Add a method `glue` that takes another card as parameter,\n",
    "and modifies `self` such that it keeps its own down side,\n",
    "but copies the up side of the other card (as if the other card was glued on top).\n",
    "\n",
    "**Notes**:\n",
    "* Don't forget the implicit parameter `self`.\n",
    "* Don't forget type hints.\n",
    "  * N.B. The type `Card` must be written as a string: `'Card'`,\n",
    "    because it is not yet defined when it is used.\n",
    "* Add test cases to method `glue`."
   ]
  },
  {
   "cell_type": "code",
   "execution_count": null,
   "metadata": {},
   "outputs": [],
   "source": [
    "class Card:\n",
    "    \"\"\"\n",
    "    A mutable card with an up and down side (non-empty strings).\n",
    "\n",
    "    :attribute up: the up side of the card.\n",
    "    :attribute down: the down side of the card.\n",
    "    \n",
    "    >>> Card('', 'O')\n",
    "    Traceback (most recent call last):\n",
    "        ...\n",
    "    AssertionError: up and down must not be empty\n",
    "    >>> card = Card('#', 'O')\n",
    "    >>> card\n",
    "    Card('#', 'O')\n",
    "    >>> card.flip()\n",
    "    >>> print(card)\n",
    "    O (#)\n",
    "    \"\"\"\n",
    "    \n",
    "    def __init__(self, up: str, down: str) -> None:\n",
    "        \"\"\"\n",
    "        Create card with given state.\n",
    "\n",
    "        :param up: the up side of the card.\n",
    "        :param down: the down side of the card.\n",
    "\n",
    "        :return: a new card.\n",
    "        \"\"\"\n",
    "        assert up and down, \"up and down must not be empty\"\n",
    "        self.up = up\n",
    "        self.down = down\n",
    "        \n",
    "    def __repr__(self) -> str:\n",
    "        \"\"\"\n",
    "        Return machine-processible string representation of current state.\n",
    "\n",
    "        :return: a string representation of the card.\n",
    "        \"\"\"\n",
    "        return f\"Card({self.up!r}, {self.down!r})\"\n",
    "    \n",
    "    def __str__(self) -> str:\n",
    "        \"\"\"\n",
    "        Return human-readable string representation of current state.\n",
    "\n",
    "        :return: a string representation of the card.\n",
    "        \"\"\"\n",
    "        return f\"{self.up} ({self.down})\"\n",
    "    \n",
    "    def flip(self) -> None:\n",
    "        \"\"\"Flip over this card.\n",
    "        \n",
    "        Modifies: self\n",
    "        \"\"\"\n",
    "        self.up, self.down = self.down, self.up\n",
    "        \n",
    "#// BEGIN_TODO [glue] Glue card on top\n",
    "\n",
    "# ===== =====> Replace this line by your code. <===== ===== #\n",
    "\n",
    "#// END_TODO [glue]"
   ]
  },
  {
   "cell_type": "markdown",
   "metadata": {},
   "source": [
    "See what help for this class looks like:"
   ]
  },
  {
   "cell_type": "code",
   "execution_count": null,
   "metadata": {},
   "outputs": [],
   "source": [
    "help(Card)"
   ]
  },
  {
   "cell_type": "markdown",
   "metadata": {},
   "source": [
    "Run the `doctest` examples for the given code:"
   ]
  },
  {
   "cell_type": "code",
   "execution_count": null,
   "metadata": {},
   "outputs": [],
   "source": [
    "doctest.run_docstring_examples(Card('#', 'O'), globals(), verbose=False, name='Card')"
   ]
  },
  {
   "cell_type": "code",
   "execution_count": null,
   "metadata": {},
   "outputs": [],
   "source": [
    "doctest.run_docstring_examples(Card.glue, globals(), verbose=True, name='Card.glue')"
   ]
  },
  {
   "cell_type": "markdown",
   "metadata": {},
   "source": [
    "## 3. Points"
   ]
  },
  {
   "cell_type": "markdown",
   "metadata": {},
   "source": [
    "We have a class ```Point``` that represents a point $(x, y)$."
   ]
  },
  {
   "cell_type": "code",
   "execution_count": null,
   "metadata": {},
   "outputs": [],
   "source": [
    "class Point:\n",
    "    \"\"\"\n",
    "    Represents a point in 2D.\n",
    "    \"\"\"\n",
    "    \n",
    "    def __init__(self, x: float=0.0, y: float=0.0) -> None:\n",
    "        \"\"\"\n",
    "        Initializes a `Point` object.\n",
    "        :param x: coordinate x of the point\n",
    "        :param y: coordinate y of the point\n",
    "        \"\"\"\n",
    "        self.x = x\n",
    "        self.y = y\n",
    "    \n",
    "    def __repr__(self) -> str:\n",
    "        \"\"\"\n",
    "        Returns a string representation of a `Point` object.\n",
    "        :returns: string representation of a `Point` object.\n",
    "        \"\"\"\n",
    "        return f'Point({self.x}, {self.y})'"
   ]
  },
  {
   "cell_type": "markdown",
   "metadata": {},
   "source": [
    "Create a function `compute_slope` that takes two `Points` and returns the slope of the line that exists between them. Then, create two points `point1` (3, 2) and `point2` (4, 8) to test the function. Notice that vertical lines do not have slopes. In these cases, you must return `None`. If the two points are the same, then there is no unique line between both points. Thus, in this case, you must also return `None`.\n",
    "\n",
    "**Example:**\n",
    "```python\n",
    "# Input\n",
    "compute_slope(point1, point2)\n",
    "\n",
    "# Output \n",
    "6.0\n",
    "```"
   ]
  },
  {
   "cell_type": "code",
   "execution_count": null,
   "metadata": {},
   "outputs": [],
   "source": [
    "#// BEGIN_TODO [Points] Points \n",
    "\n",
    "# ===== =====> Replace this line by your code. <===== ===== #\n",
    "\n",
    "#// END_TODO [Points]\n",
    "\n",
    "compute_slope(point1, point2)"
   ]
  },
  {
   "cell_type": "markdown",
   "metadata": {},
   "source": [
    "## 4. Lines"
   ]
  },
  {
   "cell_type": "markdown",
   "metadata": {},
   "source": [
    "Create a class `Line` that stores two `Points` (see exercise \"Points\") as attributes. It will also have its `slope` as an attribute. However, instead of receiving the slope as a parameter, you will compute the value by using the `compute_slope` function defined in the exercise \"Points\". Afterward, create the function `are_perpendicular`, which takes two `Line` objects as arguments and returns `True` if both lines are perpendicular,`False` otherwise.\n",
    "\n",
    "**Notes:** \n",
    "- You will need to use the slope of the lines to get an answer. \n",
    "- Only consider lines with defined slopes, otherwise, return `False`.\n",
    "\n",
    "**Example:**\n",
    "```python\n",
    "# Input \n",
    "line1 = Line(Point(-3, 2), Point(1, -2))\n",
    "line2 = Line(Point(-1, -2), Point(3, 2))\n",
    "are_perpendicular(line1, line2)\n",
    "\n",
    "# Output\n",
    "True\n",
    "```"
   ]
  },
  {
   "cell_type": "code",
   "execution_count": null,
   "metadata": {},
   "outputs": [],
   "source": [
    "#// BEGIN_TODO [Lines] Lines \n",
    "\n",
    "# ===== =====> Replace this line by your code. <===== ===== #\n",
    "\n",
    "#// END_TODO [Lines]\n",
    "\n",
    "line1 = Line(Point(-3, 2), Point(1, -2))\n",
    "line2 = Line(Point(-1, -2), Point(3, 2))\n",
    "\n",
    "are_perpendicular(line1, line2)"
   ]
  },
  {
   "cell_type": "markdown",
   "metadata": {},
   "source": [
    "## 5. Line intersection"
   ]
  },
  {
   "cell_type": "markdown",
   "metadata": {},
   "source": [
    "Create the function `compute_intersection()`, which takes two `Line` as arguments and returns the point where they intersect or `None` if there is no intersection. If both lines are the same, the function will also return `None`. Do not consider cases where the slope of at least one of the lines is undefined.\n",
    "\n",
    "*Hint:* You can consider the linear equation $y = mx + b$, where $x$ and $y$ are the coordinates of a point in the line, $m$ is the slope of the line, and $b$ is the intercept. Computing the intercept first might also be a good idea.\n",
    "\n",
    "**Example:**\n",
    "```python\n",
    "# Input \n",
    "line1 = Line(Point(-1, -1), Point(2, -2))\n",
    "line2 = Line(Point(0, 1), Point(1, 0))\n",
    "\n",
    "# Output\n",
    "Point(0.5, 0.5)\n",
    "```"
   ]
  },
  {
   "cell_type": "code",
   "execution_count": null,
   "metadata": {},
   "outputs": [],
   "source": [
    "#// BEGIN_TODO [Line_intersection] Line intersection\n",
    "\n",
    "# ===== =====> Replace this line by your code. <===== ===== #\n",
    "\n",
    "#// END_TODO [Line_intersection]\n",
    "\n",
    "line1 = Line(Point(-1, -1), Point(2, 2))\n",
    "line2 = Line(Point(0, 1), Point(1, 0))\n",
    "\n",
    "print(compute_intersection(line1, line2))"
   ]
  },
  {
   "cell_type": "markdown",
   "metadata": {},
   "source": [
    "## 6. Rolling Stones Albums"
   ]
  },
  {
   "cell_type": "markdown",
   "metadata": {},
   "source": [
    "Create a class `Album` that stores the `title`, `artist`, `genre`, and `year` of an album. Also, add a special method `_repr_` that returns a string representation of an `Album` object.  Then, read the file `albumlist.csv`, create a list of `Albums`, and store it in the variable `albums`. This CSV file contains the 500 greatest albums of all time as reported by the magazine Rolling Stone. It has the following columns in the given order: *Number* (or position in the list), *Year*, *Album*, *Artist*, *Genre*, and *Subgenre*.\n",
    "\n",
    "**Note:** The `albumlist.csv` is a public domain dataset published [here](https://www.kaggle.com/notgibs/500-greatest-albums-of-all-time-rolling-stone).\n",
    "\n",
    "**Example:**\n",
    "```python\n",
    "# Input\n",
    "albums = read_album_dataset('datasets/albumlist.csv')\n",
    "\n",
    "# Output \n",
    "albums\n",
    "\n",
    "# Objects encoding in Python\n",
    "[\n",
    "    Album(\"Sgt. Pepper's Lonely Hearts Club Band\", 'The Beatles', 'Rock', 1967),\n",
    "    Album('Pet Sounds', 'The Beach Boys', 'Rock', 1966),\n",
    "    Album('Revolver', 'The Beatles', 'Rock', 1966),\n",
    "    Album('Highway 61 Revisited', 'Bob Dylan', 'Rock', 1965),\n",
    "    ...\n",
    "]\n",
    "```"
   ]
  },
  {
   "cell_type": "code",
   "execution_count": null,
   "metadata": {},
   "outputs": [],
   "source": [
    "#// BEGIN_TODO [Rolling_stones_albums] Rolling stones albums \n",
    "\n",
    "# ===== =====> Replace this line by your code. <===== ===== #\n",
    "\n",
    "#// END_TODO [Rolling_stones_albums]\n",
    "\n",
    "albums = read_album_dataset('datasets/albumlist.csv')\n",
    "albums"
   ]
  },
  {
   "cell_type": "markdown",
   "metadata": {},
   "source": [
    "## 7. Most Popular Artist"
   ]
  },
  {
   "cell_type": "markdown",
   "metadata": {},
   "source": [
    "Create the function `find_most_popular_artist`, which takes a list of `Albums` and returns the name of the artist that has more albums in the list. Use the `albums` variable declared in the exercise \"Rolling Stones Albums\" to test your output.\n",
    "\n",
    "**Example:**\n",
    "```python\n",
    "# Input \n",
    "albums\n",
    "\n",
    "# Output \n",
    "print(find_most_popular_artist(albums))\n",
    "'The Beatles'\n",
    "```"
   ]
  },
  {
   "cell_type": "code",
   "execution_count": null,
   "metadata": {},
   "outputs": [],
   "source": [
    "#// BEGIN_TODO [Most_popular_artist] Most popular artist\n",
    "\n",
    "# ===== =====> Replace this line by your code. <===== ===== #\n",
    "\n",
    "#// END_TODO [Most_popular_artist]\n",
    "\n",
    "find_most_popular_artist(albums)"
   ]
  },
  {
   "cell_type": "markdown",
   "metadata": {},
   "source": [
    "\n",
    "---"
   ]
  },
  {
   "cell_type": "code",
   "execution_count": null,
   "metadata": {},
   "outputs": [],
   "source": [
    "# List of all defined names\n",
    "%whos"
   ]
  },
  {
   "cell_type": "markdown",
   "metadata": {},
   "source": [
    "---\n",
    "\n",
    "# (End of Notebook)\n",
    "\n",
    "&copy; 2017-2024 - **TU/e** - Eindhoven University of Technology\n"
   ]
  }
 ],
 "metadata": {
  "anaconda-cloud": {},
  "kernelspec": {
   "display_name": "Python 3.10.6 ('venv': venv)",
   "language": "python",
   "name": "python3"
  },
  "language_info": {
   "codemirror_mode": {
    "name": "ipython",
    "version": 3
   },
   "file_extension": ".py",
   "mimetype": "text/x-python",
   "name": "python",
   "nbconvert_exporter": "python",
   "pygments_lexer": "ipython3",
   "version": "3.10.6"
  },
  "vscode": {
   "interpreter": {
    "hash": "440ded6bd466dc632760b2783eaa5924fc8bb7d8bd9dda723193caf011fd0fab"
   }
  }
 },
 "nbformat": 4,
 "nbformat_minor": 4
}