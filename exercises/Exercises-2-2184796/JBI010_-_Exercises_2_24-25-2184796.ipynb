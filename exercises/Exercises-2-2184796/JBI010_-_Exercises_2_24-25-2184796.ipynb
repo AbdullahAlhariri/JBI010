{
 "cells": [
  {
   "cell_type": "markdown",
   "metadata": {},
   "source": [
    "# JBI010 - Exercises 2 24-25\n",
    "\n",
    "This Jupyter notebook provides exercises for practicing your programming skills.\n",
    " \n",
    "**Notes**:\n",
    "\n",
    "* Submit your _personalized_ notebook to Canvas.\n",
    "\n",
    "* You then get automatic feedback from Momotor.\n",
    "\n",
    "* A score below 80% is treated as a 0.\n",
    "\n",
    "* A score of 80% or more is treated as a 10.\n",
    "\n",
    "* The best five out of six exercise sets count."
   ]
  },
  {
   "cell_type": "markdown",
   "metadata": {},
   "source": [
    "## Table of Contents\n",
    "\n",
    "<div class=\"toc\" style=\"margin-top: 1em;\">\n",
    "    <ul class=\"toc-item\">\n",
    "        <li>\n",
    "            <span><a href=\"#1-factorials\" data-toc-modified-id=\"1.-Factorials\">1. Factorials</a></span>\n",
    "        </li>\n",
    "        <li>\n",
    "            <span><a href=\"#2-prime-search\" data-toc-modified-id=\"2.-Prime-Search\">2. Prime Search</a></span>\n",
    "        </li>\n",
    "        <li>\n",
    "            <span><a href=\"#3-books\" data-toc-modified-id=\"3.-Books\">3. Books</a></span>\n",
    "        </li>\n",
    "        <li>\n",
    "            <span><a href=\"#4-trigonometry\" data-toc-modified-id=\"4.-Trigonometry\">4. Trigonometry</a></span>\n",
    "        </li>\n",
    "        <li>\n",
    "            <span><a href=\"#5-pyramid-of-giza\" data-toc-modified-id=\"5.-Pyramid-of-Giza\">5. Pyramid of Giza</a></span>\n",
    "        </li>\n",
    "        <li>\n",
    "            <span><a href=\"#6-fibonacci-number\" data-toc-modified-id=\"6.-Fibonacci-Number\">6. Fibonacci Number</a></span>\n",
    "        </li>\n",
    "        </ul>\n",
    "</div>"
   ]
  },
  {
   "cell_type": "markdown",
   "metadata": {},
   "source": [
    "\n",
    "# Introduction to This Template Notebook\n",
    "\n",
    "<div class=\"alert alert-danger\" role=\"danger\">\n",
    "<h3>Integrity</h3>\n",
    "<ul>\n",
    "    <li>In this course, you must act according to the rules of the TU/e code of scientific conduct.</li>\n",
    "    <li>All the exercises and the graded assignments are to be done within your programming homework group.</li>\n",
    "    <li>You must not copy from the Internet, your friends, books... If you represent other people's work as your own, then that constitutes fraud and will be reported to the Examination Committee.</li>\n",
    "    <li>Making your work available to others (complicity) also constitutes fraud.</li>\n",
    "</ul>\n",
    "</div>\n",
    "\n",
    "You are expected to work with Python 3 code in this notebook.\n",
    "\n",
    "The locations where you should write your solutions can be recognized by\n",
    "**marker lines**,\n",
    "which look like this:\n",
    "\n",
    ">`#//`\n",
    ">    `BEGIN_TODO [Label]` `Description` `(n points)`\n",
    ">\n",
    ">`#//`\n",
    ">    `END_TODO [Label]`\n",
    "\n",
    "<div class=\"alert alert-warning\" role=\"alert\">\n",
    "    <h3>Markers</h3>\n",
    "    Do NOT modify or delete these marker lines.  Keep them as they are.<br/>\n",
    "    NEVER write code that is needed for grading <i>outside</i> the marked blocks. It is invisible there.\n",
    "</div>\n",
    "\n",
    "Proceed in this notebook as follows:\n",
    "* **Personalize** the notebook (see below).\n",
    "* **Read** the text.\n",
    "* **Fill in** your solutions between `BEGIN_TODO` and `END_TODO` marker lines.\n",
    "* **Run** _all_ code cells (also the ones _without_ your code),\n",
    "    _in linear order_ from the first code cell.\n",
    "\n",
    "**Personalize your notebook**:\n",
    "1. Fill in your _full name_, _identification number_, and the current _date_ as strings between quotes.\n",
    "1. Run the code cell by putting the cursor there and typing **Control-Enter**.\n"
   ]
  },
  {
   "cell_type": "code",
   "metadata": {
    "ExecuteTime": {
     "end_time": "2024-09-19T16:40:26.308448Z",
     "start_time": "2024-09-19T16:40:26.304269Z"
    }
   },
   "source": [
    "from sympy import fibonacci\n",
    "\n",
    "#// BEGIN_TODO [Author] Name, Id.nr., Date, as strings (1 point)\n",
    "\n",
    "AUTHOR_NAME = 'Abdullah Alhariri'\n",
    "AUTHOR_ID_NR = '2184796'\n",
    "AUTHOR_DATE = '2024-09-05'  # when first modified, e.g. '2024-08-20'\n",
    "\n",
    "#// END_TODO [Author]\n",
    "\n",
    "AUTHOR_NAME, AUTHOR_ID_NR, AUTHOR_DATE"
   ],
   "outputs": [
    {
     "data": {
      "text/plain": [
       "('Abdullah Alhariri', '2184796', '2024-09-05')"
      ]
     },
     "execution_count": 3,
     "metadata": {},
     "output_type": "execute_result"
    }
   ],
   "execution_count": 3
  },
  {
   "cell_type": "markdown",
   "metadata": {},
   "source": [
    "\n",
    "## How to Submit Your Work\n",
    "\n",
    "1. **Rename the notebook**, replacing `...-template.ipynb` with `...-yourIDnr.ipynb`, where `yourIDnr` is your TU/e identification number.\n",
    "\n",
    "1. **Before submitting**, you must run your notebook by doing **Kernel > Restart & Run All**. Make sure that your notebook runs without errors **in linear order**.\n",
    "\n",
    "1. Submit the executed notebook with your work for the appropriate assignment in **Canvas**.\n",
    "\n",
    "1. In the **Momotor** tab in Canvas, you can select that assignment again to find some feedback on your submitted work.\n",
    "  \n",
    "1. If there are any problems reported by _Momotor_, then you need to fix those issues and **resubmit the fixed notebook**.\n"
   ]
  },
  {
   "cell_type": "markdown",
   "metadata": {},
   "source": [
    "## Preliminaries\n",
    "\n",
    "Run the cell below. This cell will import additional modules providing additional Python functionality."
   ]
  },
  {
   "cell_type": "code",
   "metadata": {
    "ExecuteTime": {
     "end_time": "2024-09-19T16:40:27.709093Z",
     "start_time": "2024-09-19T16:40:27.705548Z"
    }
   },
   "source": [
    "# Imports\n",
    "import math\n",
    "from typing import List"
   ],
   "outputs": [],
   "execution_count": 4
  },
  {
   "cell_type": "markdown",
   "metadata": {},
   "source": [
    "\n",
    "## Important Reminder\n",
    "\n",
    "Follow all coding conventions defined in the Python Coding Standard document. Remember that you are not just programming for a **machine**, you are mainly programming for other **humans**! In particular:  \n",
    "- all function definitions must have **type hints** and a **docstring**, and;\n",
    "- a *valid docstring* starts with a **capital letter** and ends with a **dot**. "
   ]
  },
  {
   "cell_type": "markdown",
   "metadata": {},
   "source": [
    "## Nb Mypy\n",
    "\n",
    "The following cell will attempt to enable `mypy` type checking in the notebook.\n",
    "`mypy` is an optional static type checker for Python,\n",
    "which can help you identify type errors in your code.\n",
    "If you prefer not to use it, just comment the code cell.\n",
    "\n",
    "For this to work, you need to have installed [`Nb-Mypy`](https://pypi.org/project/nb-mypy/).\n",
    "This is experimental and optional.\n",
    "Some additional examples on its use can be found [here](https://gitlab.tue.nl/jupyter-projects/nb_mypy/-/blob/master/Nb_Mypy.ipynb).\n",
    "\n",
    "**Note**:\n",
    "\n",
    "* Type checking can be picky.\n",
    "  In some cases, you can ignore the `nb-mypy` message.\n",
    "* In case of doubt, ask for help."
   ]
  },
  {
   "cell_type": "code",
   "metadata": {
    "ExecuteTime": {
     "end_time": "2024-09-19T16:40:29.298553Z",
     "start_time": "2024-09-19T16:40:29.293605Z"
    }
   },
   "source": [
    "# Enable mypy type checking\n",
    "\n",
    "try:\n",
    "    %load_ext nb_mypy\n",
    "except ModuleNotFoundError:\n",
    "    print('Type checking facility (Nb Mypy) is not installed.')\n",
    "    print('To use this facility, install Nb Mypy by executing (in a cell):')\n",
    "    print('  !python3 -m pip install nb_mypy')"
   ],
   "outputs": [
    {
     "name": "stdout",
     "output_type": "stream",
     "text": [
      "Type checking facility (Nb Mypy) is not installed.\n",
      "To use this facility, install Nb Mypy by executing (in a cell):\n",
      "  !python3 -m pip install nb_mypy\n"
     ]
    }
   ],
   "execution_count": 5
  },
  {
   "cell_type": "markdown",
   "metadata": {},
   "source": [
    "## 1. Factorials"
   ]
  },
  {
   "cell_type": "markdown",
   "metadata": {},
   "source": [
    "You are hired to write a program that computes factorials. The program uses the variable `num` as input and returns the result in the variable `factorial`.\n",
    "\n",
    "A facorial is computed as $n! = n \\times (n - 1) \\times (n - 2) \\times (n - 3) \\times ... \\times 3 \\times 2 \\times 1$.  \n",
    "For example, $6! = 6 \\times 5 \\times 4 \\times 3 \\times 2 \\times 1 = 720$.<br><br>\n",
    "**Note:**<br>\n",
    "1. Make use of one 'While' loop.\n",
    "2. Variable `num` is given, no need to define it yourself.\n",
    "3. Store the result in variable `factorial`.\n",
    "4. In each iteration of the 'While' loop the `factorial` variable has to change.<br><br>\n",
    "\n",
    "**Example:**\n",
    "```python\n",
    "# Input\n",
    "num = 5\n",
    "\n",
    "# Output \n",
    "factorial\n",
    "120\n",
    "```"
   ]
  },
  {
   "cell_type": "code",
   "metadata": {
    "ExecuteTime": {
     "end_time": "2024-09-19T19:40:35.730807Z",
     "start_time": "2024-09-19T19:40:35.725180Z"
    }
   },
   "source": [
    "num = 5\n",
    "\n",
    "#// BEGIN_TODO [Factorials] Factorial of 5\n",
    "\n",
    "factorial: int = 1\n",
    "while True: \n",
    "    if num == 0:\n",
    "        break\n",
    "\n",
    "    factorial = factorial * num\n",
    "    num -= 1\n",
    "\n",
    "#// END_TODO [Factorials]\n",
    "\n",
    "print(factorial)"
   ],
   "outputs": [
    {
     "name": "stdout",
     "output_type": "stream",
     "text": [
      "120\n"
     ]
    }
   ],
   "execution_count": 10
  },
  {
   "cell_type": "markdown",
   "metadata": {},
   "source": [
    "## 2. Prime Search"
   ]
  },
  {
   "cell_type": "markdown",
   "metadata": {},
   "source": [
    "Create a program that prints each prime number between 2 and `n` in ascending order exactly once.\n",
    "\n",
    "The output should look like this (for `n = 11`):\n",
    "```\n",
    "2 is prime\n",
    "3 is prime\n",
    "5 is prime\n",
    "7 is prime\n",
    "11 is prime\n",
    "```\n",
    "\n",
    "**Hints**:\n",
    "* Use two _nested_ `while` loops. (This is a must.)\n",
    "* The _outer loop_ iterates over the candidate primes, from 2 up to `n`.\n",
    "* The _inner loop_ iterates over candidate divisors (trial division) to detect primes.\n",
    "  (When can the inner loop stop?)\n",
    "* Consider using a `while`-`else` statement\n",
    "  ([documentation](https://docs.python.org/3/reference/compound_stmts.html#grammar-token-while-stmt))\n",
    "  for the inner loop."
   ]
  },
  {
   "cell_type": "code",
   "metadata": {
    "ExecuteTime": {
     "end_time": "2024-09-19T19:47:26.141628Z",
     "start_time": "2024-09-19T19:47:26.135937Z"
    }
   },
   "source": [
    "n = 19\n",
    "\n",
    "#// BEGIN_TODO [Prime_search] Prime Search\n",
    "\n",
    "m = 2\n",
    "while m <= n:\n",
    "    prime = True\n",
    "    div = 2\n",
    "\n",
    "    while div * div <= m:\n",
    "        if m % div == 0:\n",
    "            prime = False\n",
    "            break\n",
    "        div += 1\n",
    "    else:\n",
    "        if prime:\n",
    "            print(f\"{m} is prime\")\n",
    "\n",
    "    m += 1\n",
    "\n",
    "#// END_TODO [Prime_search]"
   ],
   "outputs": [
    {
     "name": "stdout",
     "output_type": "stream",
     "text": [
      "2 is prime\n",
      "3 is prime\n",
      "5 is prime\n",
      "7 is prime\n",
      "11 is prime\n",
      "13 is prime\n",
      "17 is prime\n",
      "19 is prime\n"
     ]
    }
   ],
   "execution_count": 12
  },
  {
   "cell_type": "markdown",
   "metadata": {},
   "source": [
    "## 3. Books"
   ]
  },
  {
   "cell_type": "markdown",
   "metadata": {},
   "source": [
    "Write a void function called `print_chapters`\n",
    "that prints a table of contents based on\n",
    "`start_chapter`, `final_chapter`, and `max_section` as int parameters.\n",
    "* `start_chapter` is the first chapter you are going to print.\n",
    "* `final_chapter` is the final chapter you are going to print.\n",
    "* `max_section` is the number of sections each chapter has.\n",
    "\n",
    "The function call `print_chapters(1, 4, 2)` prints the following table of contents:\n",
    "```\n",
    "Chapter 1\n",
    "  Section 1.1 \n",
    "  Section 1.2 \n",
    "Chapter 2 \n",
    "  Section 2.1 \n",
    "  Section 2.2 \n",
    "Chapter 3 \n",
    "  Section 3.1 \n",
    "  Section 3.2 \n",
    "Chapter 4 \n",
    "  Section 4.1 \n",
    "  Section 4.2\n",
    "```\n",
    "**Notes**:\n",
    "* This function will only print; it does not return anything.\n",
    "* Define an auxiliary function `print_sections` with appropriate parameters\n",
    "  to print the sections.  \n",
    "  This helps avoid nested loops.\n",
    "* Include type information for parameters and return value.\n",
    "* Include docstrings."
   ]
  },
  {
   "metadata": {
    "ExecuteTime": {
     "end_time": "2024-09-19T20:32:41.942564Z",
     "start_time": "2024-09-19T20:32:41.932521Z"
    }
   },
   "cell_type": "code",
   "source": [
    "#// BEGIN_TODO [Books] Books\n",
    "\n",
    "def print_sections(chapter: int, max_section: int) -> None:\n",
    "    \"\"\"\n",
    "    Prints the sections for the given chapter\n",
    "\n",
    "    Parameters:\n",
    "    chapter: int # Chapter number\n",
    "    max_section: int # Max section number\n",
    "    \"\"\"\n",
    "    for section in range(1, max_section+1):\n",
    "        print(f\"  Section {chapter}.{section}\")\n",
    "\n",
    "def print_chapters(start_chapter: int, final_chapter: int, max_section: int) -> None:\n",
    "    \"\"\"\n",
    "    Print chapters and the corresponding sections\n",
    "\n",
    "    Parameters:\n",
    "    start_chapter: int # First chapter\n",
    "    final_chapter: int # Final chapter to print.\n",
    "    max_section: int # The number of sections per chapter.\n",
    "    \"\"\"\n",
    "    for chapter in range(start_chapter, final_chapter+1):\n",
    "        print(f\"Chapter {chapter}\")\n",
    "        print_sections(chapter, max_section)\n",
    "\n",
    "#// END_TODO [Books]\n",
    "\n",
    "print_chapters(1, 4, 2)"
   ],
   "outputs": [
    {
     "name": "stdout",
     "output_type": "stream",
     "text": [
      "Chapter 1\n",
      "  Section 1.1\n",
      "  Section 1.2\n",
      "Chapter 2\n",
      "  Section 2.1\n",
      "  Section 2.2\n",
      "Chapter 3\n",
      "  Section 3.1\n",
      "  Section 3.2\n",
      "Chapter 4\n",
      "  Section 4.1\n",
      "  Section 4.2\n"
     ]
    }
   ],
   "execution_count": 64
  },
  {
   "metadata": {},
   "cell_type": "markdown",
   "source": "## 4. Trigonometry"
  },
  {
   "metadata": {},
   "cell_type": "markdown",
   "source": [
    "Create the function `compute_hypothenuse`, which computes and returns the hypothenuse of a right-angled triangle given an angle in degrees and the length of the side adjacent to the angle.\n",
    "\n",
    "*Hint 1:* $cos x = \\frac{A}{H}$ where $x$ is the value of the angle, $A$ is the side adjacent to the angle, and $H$ is the length of the hypothenuse.\n",
    "\n",
    "*Hint 2*: The `math` module provides the method `cos`. This method receives an angle in radians (**not** degrees).<br><br>\n",
    "\n",
    "**Note:**<br>\n",
    "1.You could use this $\\frac{angle \\, in \\, radians}{\\pi} = \\frac{angle \\, in \\, degrees}{180}$ formula to convert degrees to radians.<br>\n",
    "2. You could use `math.pi` to import ${\\pi}$ and use its value.<br>\n",
    "3. The function must have a docstring and type hints that describe the purpose of the function.<br>\n",
    "4. Make sure to use the same exact ordering for parameters that we determined above.<br><br>\n",
    "\n",
    "**Example:**\n",
    "```python\n",
    "# Input\n",
    "angle = 39\n",
    "side = 19\n",
    "\n",
    "# Output \n",
    "24.44843175197018\n",
    "```"
   ]
  },
  {
   "metadata": {
    "ExecuteTime": {
     "end_time": "2024-09-19T20:33:35.210585Z",
     "start_time": "2024-09-19T20:33:35.196537Z"
    }
   },
   "cell_type": "code",
   "source": [
    "angle = 39\n",
    "side = 19\n",
    "\n",
    "#// BEGIN_TODO [Trigonometry] Trigonometry \n",
    "\n",
    "def compute_hypothenuse(angle:float, side:float) -> float:\n",
    "    \"\"\"\n",
    "    Given an angle in degrees and the length of the side adjacent to the angle, returns hypothenuse side\n",
    "    \"\"\"\n",
    "    return side/math.cos(angle * math.pi/180)  \n",
    "\n",
    "#// END_TODO [Trigonometry]\n",
    "\n",
    "compute_hypothenuse(angle, side)"
   ],
   "outputs": [
    {
     "data": {
      "text/plain": [
       "24.44843175197018"
      ]
     },
     "execution_count": 66,
     "metadata": {},
     "output_type": "execute_result"
    }
   ],
   "execution_count": 66
  },
  {
   "cell_type": "markdown",
   "metadata": {},
   "source": [
    "## 5. Pyramid of Giza"
   ]
  },
  {
   "cell_type": "markdown",
   "metadata": {},
   "source": [
    "The Pyramid of Giza is a square pyramid built in Egypt around 2.500 BC. The squared base of the pyramid has a side length of 230m. The height of the pyramid is 140m. Create the function `compute_pyramid_area` that computes the surface area (area of the lateral surfaces and the base) of any pyramid. The function takes the side length of the pyramid square base, and the height of the pyramid as decimal parameters. Name them `side` and `height`, respectively. The surface area of a square pyramid is defined as $A = a^2 + 2as$, where $a$ is the length of the base side and $s$ is the slant height. The slant height is the distance on a lateral face that goes from the base to the apex. Notice that you need to compute the slant height within the function.\n",
    "\n",
    "![Square based pyramid](datasets/pyramid.png)\n",
    "\n",
    "**Note:**<br>\n",
    "1. Don't forget to use the Pythagorean theorem.<br>\n",
    "2. The function must have a docstring and type hints that describe the purpose of the function.<br>\n",
    "3. Make sure to use the same exact ordering for parameters that we determined above.<br><br> \n",
    "\n",
    "**Example:**\n",
    "```python\n",
    "# Input\n",
    "side = 230\n",
    "height = 140\n",
    "\n",
    "# Output \n",
    "136241.28628716982\n",
    "```"
   ]
  },
  {
   "metadata": {
    "ExecuteTime": {
     "end_time": "2024-09-19T20:23:54.504886Z",
     "start_time": "2024-09-19T20:23:54.492011Z"
    }
   },
   "cell_type": "code",
   "outputs": [
    {
     "data": {
      "text/plain": [
       "136241.28628716982"
      ]
     },
     "execution_count": 58,
     "metadata": {},
     "output_type": "execute_result"
    }
   ],
   "execution_count": 58,
   "source": [
    "side = 230\n",
    "height = 140\n",
    "\n",
    "#// BEGIN_TODO [Pyramid_of_giza] Pyramid of giza \n",
    "\n",
    "def compute_pyramid_area(side: int, height: int) -> float:\n",
    "    \"\"\"\n",
    "    Takes the side length of pyramid square base and height of the pyramid. computes the surface area of any pyramid\n",
    "    \"\"\"\n",
    "    slant = math.sqrt(math.pow(side/2, 2) + math.pow(height, 2))\n",
    "    return math.pow(side, 2) + (2 * side * slant)\n",
    "\n",
    "#// END_TODO [Pyramid_of_giza]\n",
    "\n",
    "compute_pyramid_area(side, height)"
   ]
  },
  {
   "metadata": {},
   "cell_type": "markdown",
   "source": "## 6. Fibonacci Number"
  },
  {
   "metadata": {},
   "cell_type": "markdown",
   "source": [
    "Write a program that computes the Fibonacci number in the $n^{th}$ position of the Fibonacci sequence. In mathematics, the Fibonacci numbers, form a sequence, the Fibonacci sequence, in which each number is the sum of the two preceding ones.\n",
    "The Fibonacci sequence starts with `0` and `1`. \n",
    "\n",
    "Afterwards, to compute the term number $n$ you use the following formula $x_n = x_{n - 2} + x_{n - 1}$.\n",
    "Thus, the Fibonacci sequence looks like $0, 1, 1, 2, 3, 5, 8, 13, 21, ...$\n",
    "\n",
    "| Position | Fibonacci number |\n",
    "|:--------:|:----------------:|\n",
    "| 0 | 0 |\n",
    "| 1 | 1 |\n",
    "| 2 | 1 |\n",
    "| 3 | 2 |\n",
    "| 4 | 3 |\n",
    "| 5 | 5 |\n",
    "| 6 | 8 |\n",
    "| 7 | 13 |\n",
    "| 8 | 21 |\n",
    "| 9 | 34 |\n",
    "| 10 | 55 |\n",
    "| ... | ... |\n",
    "\n",
    "For example, the $6^{th}$ Fibonacci number of the sequence corresponds to 8.\n",
    "\n",
    "Set the Fibonacci number position in the variable `n` and print the message: \"The Fibonacci number in position `<n>` corresponds to `<fibonacci_num>`\".\n",
    "\n",
    "**Note:**<br>\n",
    "1. Make use of a `while` loop.\n",
    "2. Store the $n^{th}$ Fibonacci number in the variable `fibonacci`.\n",
    "3. The `n` variable has been given, there is no need to define it yourself.\n",
    "\n",
    "**Example:**\n",
    "```python\n",
    "# Input\n",
    "n = 10\n",
    "\n",
    "# Output\n",
    "'The Fibonacci number in position 10 corresponds to 55.'\n",
    "```"
   ]
  },
  {
   "metadata": {
    "ExecuteTime": {
     "end_time": "2024-09-19T20:38:22.190023Z",
     "start_time": "2024-09-19T20:38:22.182323Z"
    }
   },
   "cell_type": "code",
   "source": [
    "n = 10\n",
    "\n",
    "#// BEGIN_TODO [Fibonacci_number] Fibonacci number\n",
    "\n",
    "position = 1\n",
    "fibonacci = 1 # x\n",
    "fibonacci_1 = 0 # $x_{-1}$\n",
    "fibonacci_2 = 0 # $x_{-2}$\n",
    "while True:\n",
    "    if position == n or n == 0:\n",
    "        break\n",
    "    position += 1\n",
    "\n",
    "    fibonacci_2 = fibonacci_1\n",
    "    fibonacci_1 = fibonacci\n",
    "    fibonacci = fibonacci_1 + fibonacci_2\n",
    "\n",
    "print(f\"The Fibonacci number in position {n} is {0 if n == 0 else fibonacci}\")\n",
    "#// END_TODO [Fibonacci_number]"
   ],
   "outputs": [
    {
     "name": "stdout",
     "output_type": "stream",
     "text": [
      "The Fibonacci number in position 10 is 55\n"
     ]
    }
   ],
   "execution_count": 108
  },
  {
   "metadata": {},
   "cell_type": "markdown",
   "source": [
    "\n",
    "---"
   ]
  },
  {
   "metadata": {
    "ExecuteTime": {
     "end_time": "2024-09-19T20:22:38.907016Z",
     "start_time": "2024-09-19T20:22:38.903073Z"
    }
   },
   "cell_type": "code",
   "outputs": [
    {
     "name": "stdout",
     "output_type": "stream",
     "text": [
      "Variable                        Type                    Data/Info\n",
      "-----------------------------------------------------------------\n",
      "AUTHOR_DATE                     str                     2024-09-05\n",
      "AUTHOR_ID_NR                    str                     2184796\n",
      "AUTHOR_NAME                     str                     Abdullah Alhariri\n",
      "List                            _SpecialGenericAlias    typing.List\n",
      "angle                           int                     39\n",
      "candidate                       int                     20\n",
      "compute_hypothenuse             function                <function compute_hypothenuse at 0x7d9490142cb0>\n",
      "compute_pyramid_area            function                <function compute_pyramid_area at 0x7d948b5e08b0>\n",
      "div                             int                     5\n",
      "divisor                         int                     5\n",
      "factorial                       int                     120\n",
      "fibonacci                       int                     55\n",
      "fibonacci_1                     int                     34\n",
      "fibonacci_2                     int                     21\n",
      "height                          int                     140\n",
      "is_prime                        bool                    True\n",
      "m                               int                     20\n",
      "math                            module                  <module 'math' (built-in)>\n",
      "n                               int                     10\n",
      "num                             int                     0\n",
      "p                               int                     10\n",
      "prime                           bool                    True\n",
      "print_chapters                  function                <function print_chapters at 0x7d9490141ea0>\n",
      "pydev_jupyter_vars              module                  <module 'pydev_jupyter_va<...>g/pydev_jupyter_vars.py'>\n",
      "remove_imported_pydev_package   function                <function remove_imported<...>ackage at 0x7d9492998280>\n",
      "side                            int                     230\n",
      "sys                             module                  <module 'sys' (built-in)>\n"
     ]
    }
   ],
   "execution_count": 57,
   "source": [
    "# List of all defined names\n",
    "%whos"
   ]
  },
  {
   "cell_type": "markdown",
   "metadata": {},
   "source": [
    "---\n",
    "\n",
    "# (End of Notebook)\n",
    "\n",
    "&copy; 2017-2024 - **TU/e** - Eindhoven University of Technology\n"
   ]
  }
 ],
 "metadata": {
  "anaconda-cloud": {},
  "kernelspec": {
   "display_name": "Python 3.10.6 ('venv': venv)",
   "language": "python",
   "name": "python3"
  },
  "language_info": {
   "codemirror_mode": {
    "name": "ipython",
    "version": 3
   },
   "file_extension": ".py",
   "mimetype": "text/x-python",
   "name": "python",
   "nbconvert_exporter": "python",
   "pygments_lexer": "ipython3",
   "version": "3.10.6"
  },
  "vscode": {
   "interpreter": {
    "hash": "440ded6bd466dc632760b2783eaa5924fc8bb7d8bd9dda723193caf011fd0fab"
   }
  }
 },
 "nbformat": 4,
 "nbformat_minor": 4
}
