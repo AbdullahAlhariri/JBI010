{
 "cells": [
  {
   "cell_type": "markdown",
   "metadata": {},
   "source": [
    "# JBI010 - Exercises 3 24-25\n",
    "\n",
    "This Jupyter notebook provides exercises for practicing your programming skills.\n",
    " \n",
    "**Notes**:\n",
    "\n",
    "* Submit your _personalized_ notebook to Canvas.\n",
    "\n",
    "* You then get automatic feedback from Momotor.\n",
    "\n",
    "* A score below 80% is treated as a 0.\n",
    "\n",
    "* A score of 80% or more is treated as a 10.\n",
    "\n",
    "* The best five out of six exercise sets count."
   ]
  },
  {
   "cell_type": "markdown",
   "metadata": {},
   "source": [
    "## Table of Contents\n",
    "\n",
    "<div class=\"toc\" style=\"margin-top: 1em;\">\n",
    "    <ul class=\"toc-item\">\n",
    "        <li>\n",
    "            <span><a href=\"#1-invert-a-dictionary\" data-toc-modified-id=\"1.-Invert-a-Dictionary\">1. Invert a Dictionary</a></span>\n",
    "        </li>\n",
    "        <li>\n",
    "            <span><a href=\"#2-employee-of-the-year\" data-toc-modified-id=\"2.-Employee-of-the-Year\">2. Employee of the Year</a></span>\n",
    "        </li>\n",
    "        <li>\n",
    "            <span><a href=\"#3-ascii-code\" data-toc-modified-id=\"3.-ASCII-Code\">3. ASCII Code</a></span>\n",
    "        </li>\n",
    "        <li>\n",
    "            <span><a href=\"#4-students-grades\" data-toc-modified-id=\"4.-Students-Grades\">4. Students Grades</a></span>\n",
    "        </li>\n",
    "        <li>\n",
    "            <span><a href=\"#5-best-student\" data-toc-modified-id=\"5.-Best-Student\">5. Best Student</a></span>\n",
    "        </li>\n",
    "        <li>\n",
    "            <span><a href=\"#6-pokemon-search\" data-toc-modified-id=\"6.-Pokemon-Search\">6. Pokemon Search</a></span>\n",
    "        </li>\n",
    "        </ul>\n",
    "</div>"
   ]
  },
  {
   "cell_type": "markdown",
   "metadata": {},
   "source": [
    "\n",
    "# Introduction to This Template Notebook\n",
    "\n",
    "<div class=\"alert alert-danger\" role=\"danger\">\n",
    "<h3>Integrity</h3>\n",
    "<ul>\n",
    "    <li>In this course, you must act according to the rules of the TU/e code of scientific conduct.</li>\n",
    "    <li>All the exercises and the graded assignments are to be done within your programming homework group.</li>\n",
    "    <li>You must not copy from the Internet, your friends, books... If you represent other people's work as your own, then that constitutes fraud and will be reported to the Examination Committee.</li>\n",
    "    <li>Making your work available to others (complicity) also constitutes fraud.</li>\n",
    "</ul>\n",
    "</div>\n",
    "\n",
    "You are expected to work with Python 3 code in this notebook.\n",
    "\n",
    "The locations where you should write your solutions can be recognized by\n",
    "**marker lines**,\n",
    "which look like this:\n",
    "\n",
    ">`#//`\n",
    ">    `BEGIN_TODO [Label]` `Description` `(n points)`\n",
    ">\n",
    ">`#//`\n",
    ">    `END_TODO [Label]`\n",
    "\n",
    "<div class=\"alert alert-warning\" role=\"alert\">\n",
    "    <h3>Markers</h3>\n",
    "    Do NOT modify or delete these marker lines.  Keep them as they are.<br/>\n",
    "    NEVER write code that is needed for grading <i>outside</i> the marked blocks. It is invisible there.\n",
    "</div>\n",
    "\n",
    "Proceed in this notebook as follows:\n",
    "* **Personalize** the notebook (see below).\n",
    "* **Read** the text.\n",
    "* **Fill in** your solutions between `BEGIN_TODO` and `END_TODO` marker lines.\n",
    "* **Run** _all_ code cells (also the ones _without_ your code),\n",
    "    _in linear order_ from the first code cell.\n",
    "\n",
    "**Personalize your notebook**:\n",
    "1. Fill in your _full name_, _identification number_, and the current _date_ as strings between quotes.\n",
    "1. Run the code cell by putting the cursor there and typing **Control-Enter**.\n"
   ]
  },
  {
   "cell_type": "code",
   "metadata": {
    "ExecuteTime": {
     "end_time": "2024-09-22T14:40:04.574391Z",
     "start_time": "2024-09-22T14:40:04.569304Z"
    }
   },
   "source": [
    "#// BEGIN_TODO [Author] Name, Id.nr., Date, as strings (1 point)\n",
    "\n",
    "AUTHOR_NAME = 'Abdullah Alhariri'\n",
    "AUTHOR_ID_NR = '2184796'\n",
    "AUTHOR_DATE = '2024-09-20'  # when first modified, e.g. '2024-01-10'\n",
    "\n",
    "#// END_TODO [Author]\n",
    "\n",
    "AUTHOR_NAME, AUTHOR_ID_NR, AUTHOR_DATE"
   ],
   "outputs": [
    {
     "data": {
      "text/plain": [
       "('Abdullah Alhariri', '2184796', '2024-09-20')"
      ]
     },
     "execution_count": 146,
     "metadata": {},
     "output_type": "execute_result"
    }
   ],
   "execution_count": 146
  },
  {
   "cell_type": "markdown",
   "metadata": {},
   "source": [
    "\n",
    "## How to Submit Your Work\n",
    "\n",
    "1. **Rename the notebook**, replacing `...-template.ipynb` with `...-yourIDnr.ipynb`, where `yourIDnr` is your TU/e identification number.\n",
    "\n",
    "1. **Before submitting**, you must run your notebook by doing **Kernel > Restart & Run All**. Make sure that your notebook runs without errors **in linear order**.\n",
    "\n",
    "1. Submit the executed notebook with your work for the appropriate assignment in **Canvas**.\n",
    "\n",
    "1. In the **Momotor** tab in Canvas, you can select that assignment again to find some feedback on your submitted work.\n",
    "  \n",
    "1. If there are any problems reported by _Momotor_, then you need to fix those issues and **resubmit the fixed notebook**.\n"
   ]
  },
  {
   "cell_type": "markdown",
   "metadata": {},
   "source": [
    "## Preliminaries\n",
    "\n",
    "Run the cell below. This cell will import additional modules providing additional Python functionality."
   ]
  },
  {
   "cell_type": "code",
   "metadata": {
    "ExecuteTime": {
     "end_time": "2024-09-22T14:40:07.498592Z",
     "start_time": "2024-09-22T14:40:07.488574Z"
    }
   },
   "source": [
    "# Imports\n",
    "import doctest\n",
    "import json\n",
    "from collections import defaultdict\n",
    "from typing import Dict, List, Set"
   ],
   "outputs": [],
   "execution_count": 147
  },
  {
   "cell_type": "markdown",
   "metadata": {},
   "source": [
    "\n",
    "## Important Reminder\n",
    "\n",
    "Follow all coding conventions defined in the Python Coding Standard document. Remember that you are not just programming for a **machine**, you are mainly programming for other **humans**! In particular:  \n",
    "- all function definitions must have **type hints** and a **docstring**, and;\n",
    "- a *valid docstring* starts with a **capital letter** and ends with a **dot**. "
   ]
  },
  {
   "cell_type": "markdown",
   "metadata": {},
   "source": [
    "## Nb Mypy\n",
    "\n",
    "The following cell will attempt to enable `mypy` type checking in the notebook.\n",
    "`mypy` is an optional static type checker for Python,\n",
    "which can help you identify type errors in your code.\n",
    "If you prefer not to use it, just comment the code cell.\n",
    "\n",
    "For this to work, you need to have installed [`Nb-Mypy`](https://pypi.org/project/nb-mypy/).\n",
    "This is experimental and optional.\n",
    "Some additional examples on its use can be found [here](https://gitlab.tue.nl/jupyter-projects/nb_mypy/-/blob/master/Nb_Mypy.ipynb).\n",
    "\n",
    "**Note**:\n",
    "\n",
    "* Type checking can be picky.\n",
    "  In some cases, you can ignore the `nb-mypy` message.\n",
    "* In case of doubt, ask for help."
   ]
  },
  {
   "cell_type": "code",
   "metadata": {
    "ExecuteTime": {
     "end_time": "2024-09-22T14:40:08.854138Z",
     "start_time": "2024-09-22T14:40:08.848101Z"
    }
   },
   "source": [
    "# Enable mypy type checking\n",
    "\n",
    "try:\n",
    "    %load_ext nb_mypy\n",
    "except ModuleNotFoundError:\n",
    "    print('Type checking facility (Nb Mypy) is not installed.')\n",
    "    print('To use this facility, install Nb Mypy by executing (in a cell):')\n",
    "    print('  !python3 -m pip install nb_mypy')"
   ],
   "outputs": [
    {
     "name": "stdout",
     "output_type": "stream",
     "text": [
      "Type checking facility (Nb Mypy) is not installed.\n",
      "To use this facility, install Nb Mypy by executing (in a cell):\n",
      "  !python3 -m pip install nb_mypy\n"
     ]
    }
   ],
   "execution_count": 148
  },
  {
   "cell_type": "markdown",
   "metadata": {},
   "source": [
    "## 1. Invert a Dictionary"
   ]
  },
  {
   "attachments": {},
   "cell_type": "markdown",
   "metadata": {},
   "source": [
    "Define the function `invert_dict` that given a dictionary with strings as keys and integers as values,\n",
    "returns the _inverted_ dictionary;\n",
    "that is, a dictionary with integers as keys (page numbers) and _set_ of strings as values\n",
    "(set of words),\n",
    "such that that\n",
    "```python\n",
    "    (arg[key] == value) == (key in result[value])\n",
    "```\n",
    "To make this more concrete, imagine that the given dictionary\n",
    "registers for each word (`str`) of a text how often (`int`) it occurs in that text.\n",
    "Inverting that dictionary boils down to finding out for each occurrence count (`int`),\n",
    "which words (`Set[str]`) occur that many times.\n",
    "\n",
    "* Add at least two relevant doctest examples.\n",
    "    * For your doctest examples,\n",
    "      keep in mind that sets do not print in any particular order.  \n",
    "      So, in case sets contain more than one member,\n",
    "      check the returned result by comparing it to the expected value,\n",
    "      producing a boolean result, and check that the comparison yields `True`:\n",
    "      ```python\n",
    "      >>> call_function(arguments) == expected_value\n",
    "      True\n",
    "       ```\n",
    "* You must aim for an _efficient_ solution,\n",
    "  that traverses the given dictionary _just once_.\n",
    "  * So, the following solution is _not_ allowed:\n",
    "```python\n",
    "    return {value: {key for key, v in arg.items() if v == value}\n",
    "            for value in set(arg.values())}\n",
    "```\n",
    "\n",
    "  * Use a `defaultdict(set)`.\n",
    "  * Loop over the keys and values (cf. `dict.items()`) in the given dictionary,\n",
    "    and build up the resulting dictionary.\n",
    "  * Before returning, convert the result to a regular dictionary using `dict(...)`.\n",
    "\n",
    "**Notes**:\n",
    "* Don't forget to write type hints and an appropriate docstring.\n",
    "  * Use `Dict[str, int]` as a type hint for the parameter.\n",
    "  * Use `Dict[int, Set[str]]` as a type hint for the return value.\n",
    "\n",
    "\n",
    "\n",
    "**Example:**  \n",
    "*Input:*  \n",
    "<pre>\n",
    "invert_dict({'one': 1, 'two':2, 'one again':1})\n",
    "</pre>\n",
    "\n",
    "*Output:*  \n",
    "<pre>\n",
    "{1: {'one','one again'}, 2: {'two'}}\n",
    "</pre>"
   ]
  },
  {
   "cell_type": "code",
   "metadata": {
    "ExecuteTime": {
     "end_time": "2024-09-22T14:48:19.104138Z",
     "start_time": "2024-09-22T14:48:19.100430Z"
    }
   },
   "source": [
    "#// BEGIN_TODO [invert_a_dictionary] Invert a Dictionary\n",
    "\n",
    "def invert_dict(dictionary: dict[str, int]) -> dict[int, set[str]]:\n",
    "    \"\"\"\n",
    "    Inverts a dictionary that maps strings to integers, returning a dictionary that maps integers to sets of strings.\n",
    "\n",
    "    :param dictionary: A dictionary mapping strings to integers.\n",
    "    :returns: An inverted dictionary mapping integers to sets of strings.\n",
    "\n",
    "    >>> invert_dict({'Math': 5, 'Science': 3, 'History': 5}) == {5: {'Math', 'History'}, 3: {'Science'}}\n",
    "    True\n",
    "    >>> invert_dict({'Physics': 2, 'Chemistry': 4, 'Biology': 2, 'Art': 4}) == {2: {'Physics', 'Biology'}, 4: {'Chemistry', 'Art'}}\n",
    "    True\n",
    "    \"\"\"\n",
    "\n",
    "    output_dict = defaultdict(set)\n",
    "    \n",
    "    for key, value in dictionary.items():\n",
    "        output_dict[value].add(key)\n",
    "    \n",
    "    return dict(output_dict)\n",
    "\n",
    "#// END_TODO [invert_a_dictionary]"
   ],
   "outputs": [],
   "execution_count": 180
  },
  {
   "cell_type": "markdown",
   "metadata": {},
   "source": [
    "Run the next cell to execute the doctest examples."
   ]
  },
  {
   "cell_type": "code",
   "metadata": {
    "ExecuteTime": {
     "end_time": "2024-09-22T14:46:00.970453Z",
     "start_time": "2024-09-22T14:46:00.960301Z"
    }
   },
   "source": [
    "doctest.run_docstring_examples(invert_dict, globals(), verbose=True, name='invert_dict')"
   ],
   "outputs": [
    {
     "name": "stdout",
     "output_type": "stream",
     "text": [
      "Finding tests in invert_dict\n",
      "Trying:\n",
      "    invert_dict({'Math': 5, 'Science': 3, 'History': 5}) == {5: {'Math', 'History'}, 3: {'Science'}}\n",
      "Expecting:\n",
      "    True\n",
      "ok\n",
      "Trying:\n",
      "    invert_dict({'Physics': 2, 'Chemistry': 4, 'Biology': 2, 'Art': 4}) == {2: {'Physics', 'Biology'}, 4: {'Chemistry', 'Art'}}\n",
      "Expecting:\n",
      "    True\n",
      "ok\n"
     ]
    }
   ],
   "execution_count": 168
  },
  {
   "cell_type": "markdown",
   "metadata": {},
   "source": [
    "## 2. Employee of the Year"
   ]
  },
  {
   "cell_type": "markdown",
   "metadata": {},
   "source": [
    "The `datasets` folder contains the `tasks` JSON file, which is a dataset taken from a large corporation. This file contains a list of all the tasks that the employees have handled in the last year. Create the function `find_employee_of_year`, which takes the path to the dataset as a parameter (`path`) and returns a list with all the IDs of the employees (strings) that have completed the highest number of tasks. Store the result in the `best_employees` variable.\n",
    "The JSON file contains many dictionaries in which all the keys refer to the IDs of the employees and the values of those dictionaries refer to the tasks that each employee had to do.\n",
    "\n",
    "**Notes:** \n",
    "1. The items in this list contain other data structures (lists, dicts).\n",
    "2. Explore the dataset first to get familiar with the data.\n",
    "3. Investigate about and use the `json` module.\n",
    "4. The function must have a docstring and type hints.\n",
    "\n",
    "**Example:**  \n",
    "*Input:*  \n",
    "```Python\n",
    "path = 'datasets/tasks.json'\n",
    "```\n",
    "\n",
    "*Output:*  \n",
    "```Python\n",
    "['319133', '856942']\n",
    "```"
   ]
  },
  {
   "cell_type": "code",
   "metadata": {
    "ExecuteTime": {
     "end_time": "2024-09-22T14:45:00.151136Z",
     "start_time": "2024-09-22T14:45:00.070311Z"
    }
   },
   "source": [
    "path = 'datasets/tasks.json'\n",
    "\n",
    "#// BEGIN_TODO [Employee_of_the_year] Employee of the year\n",
    "\n",
    "def find_employee_of_year(path: str) -> list[str]:\n",
    "    \"\"\"\n",
    "    Finds the employees that have completed the highest number of tasks in the dataset\n",
    "    \n",
    "    :param path: Path to the dataset\n",
    "    :return: A list with all the IDs of the employees that have completed the highest number of tasks\n",
    "    \"\"\"\n",
    "\n",
    "    with open(path, 'r') as file:\n",
    "        data = json.load(file)\n",
    "    \n",
    "    employees: dict = {}\n",
    "    for employee in data:\n",
    "        id = list(employee.keys())[0]\n",
    "        employees[id] = len( list( filter(lambda task: task['done'] , employee[id]) ) )\n",
    "\n",
    "    best_employees: dict[str, int] = dict(sorted(employees.items(), key=lambda item: item[1], reverse=True))\n",
    "    \n",
    "    return list(best_employees)[0:2]\n",
    "        \n",
    "\n",
    "best_employees = find_employee_of_year(path)\n",
    "\n",
    "#// END_TODO [Employee_of_the_year]\n",
    "\n",
    "print(best_employees)"
   ],
   "outputs": [
    {
     "name": "stdout",
     "output_type": "stream",
     "text": [
      "['319133', '856942']\n"
     ]
    }
   ],
   "execution_count": 163
  },
  {
   "cell_type": "markdown",
   "metadata": {},
   "source": [
    "## 3. ASCII Code"
   ]
  },
  {
   "cell_type": "markdown",
   "metadata": {},
   "source": [
    "Create the function `char_to_ascii` that has no parameters and returns a dictionary. Store this dictionary in a variable called `alphabet`. The keys of this dictionary are the lowercase letters a, b, ..., z of the English alphabet. The value of each key corresponds to the ASCII code of that key. \n",
    "\n",
    "For instance, the first three key-value pairs of `alphabet` are: `{'a': 97, 'b': 98, 'c': 99}`.\n",
    "\n",
    "**Notes:**\n",
    "1. The function ```ord(char)``` takes a character and returns the ASCII code of that character.\n",
    "2. The function ```chr(int)``` takes an ASCII code and returns its corresponding  ASCII character.\n",
    "```python\n",
    "ord('a') == 97\n",
    "chr(97) == 'a'\n",
    "```\n",
    "3. The function must have a docstring and type hints.\n",
    "\n",
    "\n",
    "**Example:**  \n",
    "*Input:*  \n",
    "<pre>\n",
    "None\n",
    "</pre>\n",
    "\n",
    "*Output:*  \n",
    "\n",
    "```Python\n",
    "{ 'a': 97, 'b': 98, 'c': 99, ... }\n",
    "```"
   ]
  },
  {
   "cell_type": "code",
   "metadata": {
    "ExecuteTime": {
     "end_time": "2024-09-22T14:40:17.274127Z",
     "start_time": "2024-09-22T14:40:17.267615Z"
    }
   },
   "source": [
    "#// BEGIN_TODO [ASCII_code] ASCII code\n",
    "\n",
    "def char_to_ascii() -> dict[str, int]:\n",
    "    \"\"\"\n",
    "    Generate a dictionary mapping each letter of the alphabet to its corresponding ASCII value.\n",
    "\n",
    "    :returns: A dictionary where keys are letters a-z and values are their respective ASCII codes.\n",
    "    \"\"\"\n",
    "\n",
    "    alphabet: dict[str, int] = {chr(i): i for i in range(97, 123)}\n",
    "    return alphabet\n",
    "\n",
    "alphabet = char_to_ascii()\n",
    "\n",
    "#// END_TODO [ASCII_code]\n",
    "\n",
    "print(alphabet)"
   ],
   "outputs": [
    {
     "name": "stdout",
     "output_type": "stream",
     "text": [
      "{'a': 97, 'b': 98, 'c': 99, 'd': 100, 'e': 101, 'f': 102, 'g': 103, 'h': 104, 'i': 105, 'j': 106, 'k': 107, 'l': 108, 'm': 109, 'n': 110, 'o': 111, 'p': 112, 'q': 113, 'r': 114, 's': 115, 't': 116, 'u': 117, 'v': 118, 'w': 119, 'x': 120, 'y': 121, 'z': 122}\n"
     ]
    }
   ],
   "execution_count": 152
  },
  {
   "cell_type": "markdown",
   "metadata": {},
   "source": [
    "## 4. Students Grades"
   ]
  },
  {
   "cell_type": "markdown",
   "metadata": {},
   "source": [
    "We are using a dictionary called `students` to store student names and their corresponding grades obtained from several assignments. For this exercise, write a function `get_best_student` that receives a dictionary `students` as a parameter and returns the name of the student having the best average grade.\n",
    "\n",
    "**Example:**  \n",
    "*Input:*  \n",
    "```Python \n",
    "students = {'max': [9, 9, 8, 10, 8, 7],\n",
    "            'paula': [10, 10, 8, 9, 9, 10], \n",
    "            'sangeeth': [5, 6, 7, 8, 9, 10],\n",
    "            'susanne': [9, 10, 4, 7, 7, 8]}\n",
    "```\n",
    "\n",
    "*Output:*  \n",
    "```Python\n",
    "paula\n",
    "```"
   ]
  },
  {
   "cell_type": "code",
   "metadata": {
    "ExecuteTime": {
     "end_time": "2024-09-22T14:44:29.041293Z",
     "start_time": "2024-09-22T14:44:29.034691Z"
    }
   },
   "source": [
    "students = {'max': [9, 9, 8, 10, 8, 7],\n",
    "            'paula': [10, 10, 8, 9, 9, 10], \n",
    "            'sangeeth': [5, 6, 7, 8, 9, 10],\n",
    "            'susanne': [9, 10, 4, 7, 7, 8]}\n",
    "\n",
    "#// BEGIN_TODO [Students_grades] Students grades\n",
    "\n",
    "def get_best_student(students: dict[str, list[int]]) -> str:\n",
    "    \"\"\"\n",
    "    Determining the student with the highest average grade from the given students.\n",
    "\n",
    "    :param students: A dictionary where keys are student names and values are lists of grades.\n",
    "    :returns: Student name with the highest average grade.\n",
    "    \"\"\"\n",
    "    \n",
    "    best_student: str = ''\n",
    "    best_average: int = 0\n",
    "\n",
    "    for student, grades in students.items():\n",
    "        average = sum(grades) / len(grades)\n",
    "        if average > best_average:\n",
    "            best_average = average\n",
    "            best_student = student\n",
    "\n",
    "    return best_student\n",
    "\n",
    "#// END_TODO [Students_grades]\n",
    "\n",
    "get_best_student(students)"
   ],
   "outputs": [
    {
     "data": {
      "text/plain": [
       "'paula'"
      ]
     },
     "execution_count": 162,
     "metadata": {},
     "output_type": "execute_result"
    }
   ],
   "execution_count": 162
  },
  {
   "attachments": {},
   "cell_type": "markdown",
   "metadata": {},
   "source": [
    "## 5. Best Student"
   ]
  },
  {
   "attachments": {},
   "cell_type": "markdown",
   "metadata": {},
   "source": [
    "We are using a dictionary called `students` to store student names and\n",
    "their corresponding list of grades obtained from several assignments.\n",
    "This dictionary has type `Dict[str, List[int]]`.\n",
    "An example of such a dictionary containing the grades of three students is given below:\n",
    "\n",
    "```Python\n",
    "students = {'Max': [9, 9, 8, 10, 8, 7], \n",
    "            'Peter': [10, 10, 8, 9, 9, 10], \n",
    "            'Bert': [5, 6, 7, 8, 9, 10],\n",
    "           }\n",
    "```\n",
    "\n",
    "Define the function `best_student` that accepts the dictionary `students`\n",
    "and returns a string with the name of a student having the best average grade.\n",
    "\n",
    "In the example above, the function will return the string `'Peter'`.\n",
    "Use the built-in function `max` with `default` and `key` parameters and the `key` argument must be a `lambda` expression using a conditional expression (`if-else`), to determine for given key `k` what the average is of `students[k]`(or 0, if that list of grades is empty).\n",
    "\n",
    "**Notes**:\n",
    "* Student names are not empty.\n",
    "* For a student without grades, the average is taken as 0.\n",
    "* If the dictionary is empty, return the empty string.\n",
    "* If there are multiple students with the best average,\n",
    "  return any one of them.\n",
    "* Ensure that no `while` and `for` loop is used as well as `if` statement. The solution needs to contain 1 `labmda` expression and a `max()` call."
   ]
  },
  {
   "cell_type": "code",
   "metadata": {
    "ExecuteTime": {
     "end_time": "2024-09-22T14:43:32.133553Z",
     "start_time": "2024-09-22T14:43:32.130074Z"
    }
   },
   "source": [
    "#// BEGIN_TODO [best_student] Best Student\n",
    "\n",
    "def best_student(students: dict[str, List[int]]) -> str:\n",
    "    \"\"\"\n",
    "    Determining the student with the highest average grade from the given students.\n",
    "\n",
    "    :param students: A dictionary where keys are student names and values are lists of grades.\n",
    "    :returns: Student name with the highest average grade.\n",
    "    \n",
    "    >>> best_student(students)\n",
    "    'paula'\n",
    "    \"\"\"\n",
    "\n",
    "    return max(students, key=lambda k: (sum(students[k]) / len(students[k]) if students[k] else 0), default='')\n",
    "\n",
    "#// END_TODO [best_student]"
   ],
   "outputs": [],
   "execution_count": 160
  },
  {
   "cell_type": "code",
   "metadata": {
    "ExecuteTime": {
     "end_time": "2024-09-22T14:43:35.760683Z",
     "start_time": "2024-09-22T14:43:35.750254Z"
    }
   },
   "source": [
    "doctest.run_docstring_examples(best_student, globs=globals(), verbose=True, name='best_student')"
   ],
   "outputs": [
    {
     "name": "stdout",
     "output_type": "stream",
     "text": [
      "Finding tests in best_student\n",
      "Trying:\n",
      "    best_student(students)\n",
      "Expecting:\n",
      "    'paula'\n",
      "ok\n"
     ]
    }
   ],
   "execution_count": 161
  },
  {
   "cell_type": "markdown",
   "metadata": {},
   "source": [
    "## 6. Pokemon Search"
   ]
  },
  {
   "cell_type": "markdown",
   "metadata": {},
   "source": [
    "The `datasets` folder contains the `pokedex` file, which has information about all Pokemons, including their IDs, names, stats, types, and skills. Load the `pokedex.json` file into the `pokedex` variable.\n",
    "\n",
    "Then, create a function `compute_pokemon_skills` that receives the path of the `pokedex` file (`path`) and the name of a Pokemon as a parameter (`name`), and; returns an integer with the number of skills that the Pokemon can learn (also count duplicate skills). If the Pokemon does not exist in the file you must return `-1`.\n",
    "\n",
    "**Notes:** \n",
    "1. The items in this list contain other data structures (lists, dicts).\n",
    "2. Explore the dataset first to get familiar with the data.\n",
    "3. Investigate about and use the `json` module.\n",
    "\n",
    "**Example:**  \n",
    "*Input:*  \n",
    "```Python \n",
    "path = 'datasets/pokedex.json'\n",
    "name = 'Bulbasaur'\n",
    "```\n",
    "\n",
    "*Output:*  \n",
    "```Python\n",
    "67\n",
    "```"
   ]
  },
  {
   "cell_type": "code",
   "metadata": {
    "ExecuteTime": {
     "end_time": "2024-09-22T14:40:25.460465Z",
     "start_time": "2024-09-22T14:40:25.406908Z"
    }
   },
   "source": [
    "path = 'datasets/pokedex.json'\n",
    "name = 'Bulbasaur'\n",
    "\n",
    "#// BEGIN_TODO [Pokemon_search] Pokemon search\n",
    "\n",
    "def compute_pokemon_skills(path: str, name: str) -> int:\n",
    "    \"\"\"\n",
    "    Compute the number of skills a given Pokémon can learn (duplicates get counted).\n",
    "    \n",
    "    :param path: The path to the pokedex file.\n",
    "    :param name: The name of the Pokémon.\n",
    "    :returns: The number of skills the Pokémon can learn, or -1 if the Pokémon does not exist in the pokedex.\n",
    "    \"\"\"\n",
    "\n",
    "    with open(path, 'r') as file:\n",
    "        pokedex = json.load(file)\n",
    "    \n",
    "    for pokemon in pokedex:\n",
    "        if pokemon['ename'] == name:\n",
    "            all_skills: list[int] = [item for sublist in pokemon['skills'].values() for item in sublist]\n",
    "            return len(all_skills)\n",
    "    \n",
    "    return -1\n",
    "\n",
    "#// END_TODO [Pokemon_search]\n",
    "\n",
    "compute_pokemon_skills(path, name)"
   ],
   "outputs": [
    {
     "data": {
      "text/plain": [
       "67"
      ]
     },
     "execution_count": 156,
     "metadata": {},
     "output_type": "execute_result"
    }
   ],
   "execution_count": 156
  },
  {
   "cell_type": "markdown",
   "metadata": {},
   "source": [
    "\n",
    "---"
   ]
  },
  {
   "cell_type": "code",
   "metadata": {
    "ExecuteTime": {
     "end_time": "2024-09-22T14:40:26.844137Z",
     "start_time": "2024-09-22T14:40:26.839725Z"
    }
   },
   "source": [
    "# List of all defined names\n",
    "%whos"
   ],
   "outputs": [
    {
     "name": "stdout",
     "output_type": "stream",
     "text": [
      "Variable                        Type                    Data/Info\n",
      "-----------------------------------------------------------------\n",
      "AUTHOR_DATE                     str                     2024-09-20\n",
      "AUTHOR_ID_NR                    str                     2184796\n",
      "AUTHOR_NAME                     str                     Abdullah Alhariri\n",
      "Dict                            _SpecialGenericAlias    typing.Dict\n",
      "List                            _SpecialGenericAlias    typing.List\n",
      "Set                             _SpecialGenericAlias    typing.Set\n",
      "alphabet                        dict                    n=26\n",
      "best_employees                  list                    n=2\n",
      "best_student                    function                <function best_student at 0x7326542a1510>\n",
      "char_to_ascii                   function                <function char_to_ascii at 0x7326542a1480>\n",
      "compute_pokemon_skills          function                <function compute_pokemon<...>skills at 0x7326542a2710>\n",
      "defaultdict                     type                    <class 'collections.defaultdict'>\n",
      "doctest                         module                  <module 'doctest' from '/<...>b/python3.10/doctest.py'>\n",
      "find_employee_of_year           function                <function find_employee_o<...>f_year at 0x732654104ca0>\n",
      "get_best_student                function                <function get_best_student at 0x7326542a0700>\n",
      "invert_dict                     function                <function invert_dict at 0x7326542a1750>\n",
      "invert_dit                      function                <function invert_dit at 0x7326547cf910>\n",
      "json                            module                  <module 'json' from '/usr<...>on3.10/json/__init__.py'>\n",
      "name                            str                     Bulbasaur\n",
      "path                            str                     datasets/pokedex.json\n",
      "pydev_jupyter_vars              module                  <module 'pydev_jupyter_va<...>g/pydev_jupyter_vars.py'>\n",
      "remove_imported_pydev_package   function                <function remove_imported<...>ackage at 0x7326553a85e0>\n",
      "students                        dict                    n=4\n",
      "sys                             module                  <module 'sys' (built-in)>\n"
     ]
    }
   ],
   "execution_count": 157
  },
  {
   "cell_type": "markdown",
   "metadata": {},
   "source": [
    "---\n",
    "\n",
    "# (End of Notebook)\n",
    "\n",
    "&copy; 2017-2024 - **TU/e** - Eindhoven University of Technology\n"
   ]
  }
 ],
 "metadata": {
  "anaconda-cloud": {},
  "kernelspec": {
   "display_name": "Python 3.10.6 ('venv': venv)",
   "language": "python",
   "name": "python3"
  },
  "language_info": {
   "codemirror_mode": {
    "name": "ipython",
    "version": 3
   },
   "file_extension": ".py",
   "mimetype": "text/x-python",
   "name": "python",
   "nbconvert_exporter": "python",
   "pygments_lexer": "ipython3",
   "version": "3.10.6"
  },
  "vscode": {
   "interpreter": {
    "hash": "440ded6bd466dc632760b2783eaa5924fc8bb7d8bd9dda723193caf011fd0fab"
   }
  }
 },
 "nbformat": 4,
 "nbformat_minor": 4
}
