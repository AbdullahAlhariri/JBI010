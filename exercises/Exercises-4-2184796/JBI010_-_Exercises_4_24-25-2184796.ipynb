{
 "cells": [
  {
   "cell_type": "markdown",
   "metadata": {},
   "source": [
    "# JBI010 - Exercises 4 24-25\n",
    "\n",
    "This Jupyter notebook provides exercises for practicing your programming skills.\r\n",
    " \r\n",
    "**Notes**:\r\n",
    "\r\n",
    "* Submit your _personalized_ notebook to Canvas.\r\n",
    "\r\n",
    "* You then get automatic feedback from Momotor.\r\n",
    "\r\n",
    "* A score below 80% is treated as a 0.\r\n",
    "\r\n",
    "* A score of 80% or more is treated as a 10.\r\n",
    "\r\n",
    "* The best five out of six exercise sets count."
   ]
  },
  {
   "cell_type": "markdown",
   "metadata": {},
   "source": [
    "## Table of Contents\n",
    "\n",
    "<div class=\"toc\" style=\"margin-top: 1em;\">\n",
    "    <ul class=\"toc-item\">\n",
    "        <li>\n",
    "            <span><a href=\"#1-sorting-pairs\" data-toc-modified-id=\"1.-Sorting-Pairs\">1. Sorting Pairs</a></span>\n",
    "        </li>\n",
    "        <li>\n",
    "            <span><a href=\"#2-dictionary-of-continents\" data-toc-modified-id=\"2.-Dictionary-of-Continents\">2. Dictionary of Continents</a></span>\n",
    "        </li>\n",
    "        <li>\n",
    "            <span><a href=\"#3-current-date\" data-toc-modified-id=\"3.-Current-Date\">3. Current Date</a></span>\n",
    "        </li>\n",
    "        <li>\n",
    "            <span><a href=\"#4-remove-invalid-dates\" data-toc-modified-id=\"4.-Remove-Invalid-Dates\">4. Remove Invalid Dates</a></span>\n",
    "        </li>\n",
    "        <li>\n",
    "            <span><a href=\"#5-movie-dialogues\" data-toc-modified-id=\"5.-Movie-Dialogues\">5. Movie Dialogues</a></span>\n",
    "        </li>\n",
    "        <li>\n",
    "            <span><a href=\"#6-movie-categories\" data-toc-modified-id=\"6.-Movie-Categories\">6. Movie Categories</a></span>\n",
    "        </li>\n",
    "        </ul>\n",
    "</div>"
   ]
  },
  {
   "cell_type": "markdown",
   "metadata": {},
   "source": [
    "\n",
    "# Introduction to This Template Notebook\n",
    "\n",
    "<div class=\"alert alert-danger\" role=\"danger\">\n",
    "<h3>Integrity</h3>\n",
    "<ul>\n",
    "    <li>In this course, you must act according to the rules of the TU/e code of scientific conduct.</li>\n",
    "    <li>All the exercises and the graded assignments are to be done within your programming homework group.</li>\n",
    "    <li>You must not copy from the Internet, your friends, books... If you represent other people's work as your own, then that constitutes fraud and will be reported to the Examination Committee.</li>\n",
    "    <li>Making your work available to others (complicity) also constitutes fraud.</li>\n",
    "</ul>\n",
    "</div>\n",
    "\n",
    "You are expected to work with Python 3 code in this notebook.\n",
    "\n",
    "The locations where you should write your solutions can be recognized by\n",
    "**marker lines**,\n",
    "which look like this:\n",
    "\n",
    ">`#//`\n",
    ">    `BEGIN_TODO [Label]` `Description` `(n points)`\n",
    ">\n",
    ">`#//`\n",
    ">    `END_TODO [Label]`\n",
    "\n",
    "<div class=\"alert alert-warning\" role=\"alert\">\n",
    "    <h3>Markers</h3>\n",
    "    Do NOT modify or delete these marker lines.  Keep them as they are.<br/>\n",
    "    NEVER write code that is needed for grading <i>outside</i> the marked blocks. It is invisible there.\n",
    "</div>\n",
    "\n",
    "Proceed in this notebook as follows:\n",
    "* **Personalize** the notebook (see below).\n",
    "* **Read** the text.\n",
    "* **Fill in** your solutions between `BEGIN_TODO` and `END_TODO` marker lines.\n",
    "* **Run** _all_ code cells (also the ones _without_ your code),\n",
    "    _in linear order_ from the first code cell.\n",
    "\n",
    "**Personalize your notebook**:\n",
    "1. Fill in your _full name_, _identification number_, and the current _date_ as strings between quotes.\n",
    "1. Run the code cell by putting the cursor there and typing **Control-Enter**.\n"
   ]
  },
  {
   "cell_type": "code",
   "execution_count": null,
   "metadata": {},
   "outputs": [],
   "source": [
    "#// BEGIN_TODO [Author] Name, Id.nr., Date, as strings (1 point)\n",
    "\n",
    "AUTHOR_NAME = 'Your Full Name'\n",
    "AUTHOR_ID_NR = '1234567'\n",
    "AUTHOR_DATE = '2024-08-20'  # when first modified, e.g. '2024-08-20'\n",
    "\n",
    "#// END_TODO [Author]\n",
    "\n",
    "AUTHOR_NAME, AUTHOR_ID_NR, AUTHOR_DATE"
   ]
  },
  {
   "cell_type": "markdown",
   "metadata": {},
   "source": [
    "\n",
    "## How to Submit Your Work\n",
    "\n",
    "1. **Rename the notebook**, replacing `...-template.ipynb` with `...-yourIDnr.ipynb`, where `yourIDnr` is your TU/e identification number.\n",
    "\n",
    "1. **Before submitting**, you must run your notebook by doing **Kernel > Restart & Run All**. Make sure that your notebook runs without errors **in linear order**.\n",
    "\n",
    "1. Submit the executed notebook with your work for the appropriate assignment in **Canvas**.\n",
    "\n",
    "1. In the **Momotor** tab in Canvas, you can select that assignment again to find some feedback on your submitted work.\n",
    "  \n",
    "1. If there are any problems reported by _Momotor_, then you need to fix those issues and **resubmit the fixed notebook**.\n"
   ]
  },
  {
   "cell_type": "markdown",
   "metadata": {},
   "source": [
    "## Preliminaries\n",
    "\n",
    "Run the cell below. This cell will import additional modules providing additional Python functionality."
   ]
  },
  {
   "cell_type": "code",
   "execution_count": null,
   "metadata": {},
   "outputs": [],
   "source": [
    "# Imports\n",
    "import datetime\n",
    "import re\n",
    "from typing import Dict, List, Tuple"
   ]
  },
  {
   "cell_type": "markdown",
   "metadata": {},
   "source": [
    "\n",
    "## Important Reminder\n",
    "\n",
    "Follow all coding conventions defined in the Python Coding Standard document. Remember that you are not just programming for a **machine**, you are mainly programming for other **humans**! In particular:  \n",
    "- all function definitions must have **type hints** and a **docstring**, and;\n",
    "- a *valid docstring* starts with a **capital letter** and ends with a **dot**. "
   ]
  },
  {
   "cell_type": "markdown",
   "metadata": {},
   "source": [
    "## Nb Mypy\n",
    "\n",
    "The following cell will attempt to enable `mypy` type checking in the notebook.\n",
    "`mypy` is an optional static type checker for Python,\n",
    "which can help you identify type errors in your code.\n",
    "If you prefer not to use it, just comment the code cell.\n",
    "\n",
    "For this to work, you need to have installed [`Nb-Mypy`](https://pypi.org/project/nb-mypy/).\n",
    "This is experimental and optional.\n",
    "Some additional examples on its use can be found [here](https://gitlab.tue.nl/jupyter-projects/nb_mypy/-/blob/master/Nb_Mypy.ipynb).\n",
    "\n",
    "**Note**:\n",
    "\n",
    "* Type checking can be picky.\n",
    "  In some cases, you can ignore the `nb-mypy` message.\n",
    "* In case of doubt, ask for help."
   ]
  },
  {
   "cell_type": "code",
   "execution_count": null,
   "metadata": {},
   "outputs": [],
   "source": [
    "# Enable mypy type checking\n",
    "\n",
    "try:\n",
    "    %load_ext nb_mypy\n",
    "except ModuleNotFoundError:\n",
    "    print('Type checking facility (Nb Mypy) is not installed.')\n",
    "    print('To use this facility, install Nb Mypy by executing (in a cell):')\n",
    "    print('  !python3 -m pip install nb_mypy')"
   ]
  },
  {
   "cell_type": "markdown",
   "metadata": {},
   "source": [
    "## 1. Sorting Pairs"
   ]
  },
  {
   "cell_type": "markdown",
   "metadata": {},
   "source": [
    "Create the function `sort_pair`, which takes 2 integers as arguments.  \n",
    "The function returns the pair of values in ascending order.\n",
    "\n",
    "**Notes**:\n",
    "\n",
    "* This function returns something and does not print.\n",
    "* This function must be used in the next task.\n",
    "* Use `return num1, num2` to return a tuple of values."
   ]
  },
  {
   "cell_type": "code",
   "execution_count": null,
   "metadata": {},
   "outputs": [],
   "source": [
    "def sort_pair(num1: int, num2: int) -> Tuple[int, int]:\n",
    "    \"\"\"Return the values num1, num2 as tuple in sorted order.\n",
    "    \"\"\"\n",
    "#// BEGIN_TODO [Sorting_pair] Sorting Pairs\n",
    "\n",
    "# ===== =====> Replace this line by your code. <===== ===== #\n",
    "\n",
    "#// END_TODO [Sorting_pair]\n",
    "\n",
    "print(sort_pair(1, 2))\n",
    "a, b = 3, 2\n",
    "a, b = sort_pair(a, b)\n",
    "a, b"
   ]
  },
  {
   "cell_type": "markdown",
   "metadata": {},
   "source": [
    "## 2. Dictionary of Continents"
   ]
  },
  {
   "cell_type": "markdown",
   "metadata": {},
   "source": [
    "In the next cell, we have the dictionary `countries_dict` containing the names of some countries and their corresponding capitals and continents. This dictionary is useful for looking up information about countries. However, we want to have a dictionary to search for information about continents. This is known as a *reverse lookup*.\n",
    "\n",
    "Create the function `create_continents_dict`, which takes a dictionary like `countries_dict` as input and returns a dictionary whose keys correspond to the names of the continents contained in the input dictionary. For each continent key, its value will be a list of the corresponding countries listed in the input dictionary.\n",
    "\n",
    "**Example:**\n",
    "```Python\n",
    "# Input\n",
    "countries_dict = {\n",
    "    'Andorra': ('Europe', 'Andorra la Vella'),\n",
    "    'Afghanistan': ('Asia', 'Kabul'),\n",
    "    'Antigua and Barbuda': ('North America', \"St. John's\"),\n",
    "    'Albania': ('Europe', 'Tirana'),\n",
    "    'Armenia': ('Asia', 'Yerevan')\n",
    "}\n",
    "\n",
    "# Output\n",
    "{Europe:  ['Andorra', 'Albania'],\n",
    "Asia: ['Afghanistan', 'Armenia'],\n",
    "North America: ['Antigua and Barbuda']}\n",
    "```"
   ]
  },
  {
   "cell_type": "code",
   "execution_count": null,
   "metadata": {},
   "outputs": [],
   "source": [
    "countries_dict = {'Andorra': ('Europe', 'Andorra la Vella'),\n",
    "                  'Afghanistan': ('Asia', 'Kabul'),\n",
    "                  'Antigua and Barbuda': ('North America', \"St. John's\"),\n",
    "                  'Albania': ('Europe', 'Tirana'),\n",
    "                  'Armenia': ('Asia', 'Yerevan'),\n",
    "                  'Angola': ('Africa', 'Luanda'),\n",
    "                  'Argentina': ('South America', 'Buenos Aires'),\n",
    "                  'Austria': ('Europe', 'Vienna'),\n",
    "                  'Australia': ('Oceania', 'Canberra'),\n",
    "                  'Azerbaijan': ('Asia', 'Baku'),\n",
    "                  'Barbados': ('North America', 'Bridgetown'),\n",
    "                  'Bangladesh': ('Asia', 'Dhaka'),\n",
    "                  'Belgium': ('Europe', 'Brussels')}"
   ]
  },
  {
   "cell_type": "code",
   "execution_count": null,
   "metadata": {},
   "outputs": [],
   "source": [
    "#// BEGIN_TODO [Dictionary_of_continents] Dictionary of continents\n",
    "\n",
    "# ===== =====> Replace this line by your code. <===== ===== #\n",
    "\n",
    "#// END_TODO [Dictionary_of_continents]\n",
    "\n",
    "print(create_continents_dict(countries_dict))"
   ]
  },
  {
   "cell_type": "markdown",
   "metadata": {},
   "source": [
    "## 3. Current Date"
   ]
  },
  {
   "cell_type": "markdown",
   "metadata": {},
   "source": [
    "In this exercise, you must use the `datetime` module and investigate which methods can help you when solving the problem. \n",
    "Create the function `get_current_date`, which has no parameters and returns a tuple with the year, month, and day as elements in the given order.\n",
    "All these elements should be integers.\n",
    "You must discover how to get the current date by using the `datetime` module features.\n",
    "\n",
    "Afterward, create the function `tuple_to_date`, which receives a tuple as a parameter with the year, month, and day of a date in the given order. Then, it returns a `datetime.date` with the corresponding Gregorian values.\n",
    "\n",
    "**Example:**\n",
    "```python\n",
    "# Program\n",
    "date_tuple = get_current_date() # Value for the 1st October, 2022\n",
    "date_datetime = tuple_to_date(date_tuple)\n",
    "\n",
    "print(date_datetime.year)\n",
    "print(date_datetime.month)\n",
    "print(date_datetime.day)\n",
    "\n",
    "# Output\n",
    "2022\n",
    "10\n",
    "1\n",
    "```"
   ]
  },
  {
   "cell_type": "code",
   "execution_count": null,
   "metadata": {},
   "outputs": [],
   "source": [
    "import datetime\n",
    "\n",
    "#// BEGIN_TODO [Current_date] Current date \n",
    "\n",
    "# ===== =====> Replace this line by your code. <===== ===== #\n",
    "\n",
    "#// END_TODO [Current_date]\n",
    "\n",
    "date_tuple = get_current_date()\n",
    "date_date = tuple_to_date(date_tuple)\n",
    "\n",
    "print(date_date.year)\n",
    "print(date_date.month)\n",
    "print(date_date.day)"
   ]
  },
  {
   "cell_type": "markdown",
   "metadata": {},
   "source": [
    "## 4. Remove Invalid Dates"
   ]
  },
  {
   "cell_type": "markdown",
   "metadata": {},
   "source": [
    "Create the function `remove_invalid_dates`, which takes a list of tuples as an argument and returns a list of `datetime.date` objects with valid dates.\n",
    "A valid year has a value equal to or less than 2022 (current year); a valid month is an integer between 1 and 12, and a valid day is an integer between 1 and 31.\n",
    "Use comprehension to compute the expected list. \n",
    "You are also encouraged to use the `tuple_to_date` function developed in the exercise \"Current Date\".\n",
    "\n",
    "Afterward, create a function `get_invalid_dates` that does the opposite of the `remove_invalid_dates` function: it also takes a list of tuples as an argument, but instead returns a list of tuple objects with invalid dates. Again, use comprehensions to compute the expected list.\n",
    "\n",
    "**Note:** Preserve the lists order.\n",
    "\n",
    "**Example:**\n",
    "```python\n",
    "# Program\n",
    "dates = [(1903, 10, 3), (-230, -10, 2), (1947, 1, 2), (1990, 30, 30), (1678, 3, 30), \n",
    "         (680, 11, 23), (2500, 12, 12)]\n",
    "\n",
    "print(remove_invalid_dates(dates))\n",
    "print(remove_valid_dates(dates))\n",
    "\n",
    "# Output valid dates\n",
    "[datetime.date(1903, 10, 3), \n",
    " datetime.date(1947, 1, 2), \n",
    " datetime.date(1678, 3, 30), \n",
    " datetime.date(680, 11, 23)]\n",
    "\n",
    "# Output invalid dates\n",
    "[(-230, -10, 2), (1990, 30, 30), (2500, 12, 12)]\n",
    "\n",
    "```"
   ]
  },
  {
   "cell_type": "code",
   "execution_count": null,
   "metadata": {},
   "outputs": [],
   "source": [
    "#// BEGIN_TODO [Remove_invalid_dates] Remove invalid dates\n",
    "\n",
    "# ===== =====> Replace this line by your code. <===== ===== #\n",
    "\n",
    "#// END_TODO [Remove_invalid_dates]\n",
    "\n",
    "dates = [(1903, 10, 3), (-230, -10, 2), (1947, 1, 2), (1990, 30, 30), (1678, 3, 30), \n",
    "         (680, 11, 23), (2500, 12, 12)]\n",
    "\n",
    "print(remove_invalid_dates(dates))\n",
    "print(get_invalid_dates(dates))"
   ]
  },
  {
   "cell_type": "markdown",
   "metadata": {},
   "source": [
    "## 5. Movie Dialogues"
   ]
  },
  {
   "cell_type": "markdown",
   "metadata": {},
   "source": [
    "Create the function `extract_dialogue` which takes a line of dialogue (string) as input and returns a tuple with two elements: the name of the character (string) and its line in the dialogue (string). \n",
    "A typical input for the function looks like this: \n",
    "\n",
    "```python\n",
    "\"L872 +++$+++ u0 +++$+++ m0 +++$+++ BIANCA +++$+++ Okay -- you're gonna need to learn how to lie.\"\n",
    "```\n",
    "\n",
    "Use **regular expressions** to extract the name of the character and their line in the dialogue. \n",
    "Then, return a tuple like the following:\n",
    "\n",
    "```python\n",
    "(\"BIANCA\", \"Okay -- you're gonna need to learn how to lie.\")\n",
    "```\n",
    "\n",
    "Notice that whitespaces at the beginning and end of both elements in the tuple have been removed.\n",
    "\n",
    "Afterward, define the function `extract_all_lines` which gets a path to a file as input (string) and returns a list of tuples.\n",
    "The function reads each line of the file and extracts the name of the character and its dialogue.\n",
    "Each character-dialogue tuple is added to the list in the order in which each line is read from the file.\n",
    "To do so, use the `extract_dialogue` function defined before.\n",
    "\n",
    "**Example:**\n",
    "```python\n",
    "# Program\n",
    "extract_all_lines('datasets/movie_lines.txt')\n",
    "\n",
    "# Output\n",
    "[('BIANCA', 'They do not!'),\n",
    " ('CAMERON', 'They do to!'),\n",
    " ('BIANCA', 'I hope so.'),\n",
    " ('CAMERON', 'She okay?'),\n",
    " ('BIANCA', \"Let's go.\"),\n",
    " ('CAMERON', 'Wow'),\n",
    " ('BIANCA', \"Okay -- you're gonna need to learn how to lie.\"),\n",
    " ('CAMERON', 'No'),\n",
    " ...]\n",
    "```"
   ]
  },
  {
   "cell_type": "code",
   "execution_count": null,
   "metadata": {},
   "outputs": [],
   "source": [
    "#// BEGIN_TODO [Movie_dialogues] Movie dialogues\n",
    "\n",
    "# ===== =====> Replace this line by your code. <===== ===== #\n",
    "\n",
    "#// END_TODO [Movie_dialogues] \n",
    "\n",
    "extract_all_lines('datasets/movie_lines.txt')"
   ]
  },
  {
   "cell_type": "markdown",
   "metadata": {},
   "source": [
    "## 6. Movie Categories"
   ]
  },
  {
   "cell_type": "markdown",
   "metadata": {},
   "source": [
    "Create the function `extract_categories`, which takes a line of a movie metadata file as input and returns a list of strings with the movie's categories. A typical input for the function looks like this:\n",
    "\n",
    "```python\n",
    "\"m4 +++$+++ 48 hrs. +++$+++ 1982 +++$+++ 6.90 +++$+++ 22289 +++$+++ ['action', 'comedy', 'crime', 'drama', 'thriller']\"\n",
    "```\n",
    "\n",
    "Use **regular expressions** to extract the categories from the input line. Remove whitespaces and quotations surrounding each category. Then, return a list like the following:\n",
    "\n",
    "```python\n",
    "['action', 'comedy', 'crime', 'drama', 'thriller']\n",
    "```\n",
    "\n",
    "Notice that whitespaces at the beginning and end of elements of the list, as well as extra quotes, have been removed.\n",
    "\n",
    "Then, define the function `extract_all_categories`, which gets a path to a file as input (string) and returns a dictionary.\n",
    "The function reads each line of the file and extracts the list of categories defined in such line.\n",
    "To do so, use the `extract_categories` function defined before.\n",
    "This list is then considered to update the dictionary of all categories, where keys are categories and values are the frequency of these categories in the movies.\n",
    "\n",
    "**Example:**\n",
    "```python\n",
    "# Program\n",
    "extract_all_categories('movie_titles_metadata.txt')\n",
    "\n",
    "# Output\n",
    "{'comedy': 21,\n",
    " 'romance': 14,\n",
    " 'adventure': 12,\n",
    " 'biography': 5,\n",
    " ... }\n",
    "```"
   ]
  },
  {
   "cell_type": "code",
   "execution_count": null,
   "metadata": {},
   "outputs": [],
   "source": [
    "#// BEGIN_TODO [Movie_categories] Movie categories\n",
    "\n",
    "# ===== =====> Replace this line by your code. <===== ===== #\n",
    "\n",
    "#// END_TODO [Movie_categories] \n",
    "\n",
    "extract_all_categories('datasets/movie_titles_metadata.txt')"
   ]
  },
  {
   "cell_type": "markdown",
   "metadata": {},
   "source": [
    "\n",
    "---"
   ]
  },
  {
   "cell_type": "code",
   "execution_count": null,
   "metadata": {},
   "outputs": [],
   "source": [
    "# List of all defined names\n",
    "%whos"
   ]
  },
  {
   "cell_type": "markdown",
   "metadata": {},
   "source": [
    "---\n",
    "\n",
    "# (End of Notebook)\n",
    "\n",
    "&copy; 2017-2024 - **TU/e** - Eindhoven University of Technology\n"
   ]
  }
 ],
 "metadata": {
  "anaconda-cloud": {},
  "kernelspec": {
   "display_name": "Python 3.10.6 ('venv': venv)",
   "language": "python",
   "name": "python3"
  },
  "language_info": {
   "codemirror_mode": {
    "name": "ipython",
    "version": 3
   },
   "file_extension": ".py",
   "mimetype": "text/x-python",
   "name": "python",
   "nbconvert_exporter": "python",
   "pygments_lexer": "ipython3",
   "version": "3.10.6"
  },
  "vscode": {
   "interpreter": {
    "hash": "440ded6bd466dc632760b2783eaa5924fc8bb7d8bd9dda723193caf011fd0fab"
   }
  }
 },
 "nbformat": 4,
 "nbformat_minor": 4
}