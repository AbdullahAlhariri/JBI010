{
 "cells": [
  {
   "cell_type": "markdown",
   "metadata": {},
   "source": [
    "# Verify Tools <span class=\"tocSkip\"></span>\n",
    "\n",
    "## Anaconda, Jupyter, Python 3, and Libraries <span class=\"tocSkip\"></span>\n",
    "This notebook will check if you have the right tools and the right versions installed in your computer. \n",
    "\n",
    "* Run each of the following code cells, and\n",
    "* verify that no error messages appear.\n",
    "* If there are errors, ask for help.\n",
    "* If not, submit the saved notebook to Canvas.\n",
    "\n",
    "If you see errors about a wrong version, then it probably means you have a wrong Anaconda version installed. Follow the instructions in the installation guide to install the right version.\n",
    "\n",
    "Whenever you have problems with your installation later on during the course,\n",
    "you can be asked to\n",
    "\n",
    "* rerun all code cells in this notebook,\n",
    "* save the notebook, and\n",
    "* send it to us."
   ]
  },
  {
   "cell_type": "markdown",
   "metadata": {},
   "source": [
    "\n",
    "# Introduction to This Template Notebook\n",
    "\n",
    "* This is a **personal** notebook.\n",
    "* Make sure you work in a **copy** of `...-template.ipynb`,\n",
    "**renamed** to `...-yourIDnr.ipynb`,\n",
    "where `yourIDnr` is your TU/e identification number.\n",
    "\n",
    "<div class=\"alert alert-danger\" role=\"danger\">\n",
    "<h3>Integrity</h3>\n",
    "<ul>\n",
    "    <li>In this course you must act according to the rules of the TU/e code of scientific conduct.</li>\n",
    "    <li>All the exercises and the graded assignments are to be executed individually and independently.</li>\n",
    "    <li>You must not copy from the Internet, your friends, books... If you represent other people's work as your own, then that constitutes fraud and will be reported to the Examination Committee.</li>\n",
    "    <li>Making your work available to others (complicity) also constitutes fraud.</li>\n",
    "</ul>\n",
    "</div>\n",
    "\n",
    "You are expected to work with Python code in this notebook.\n",
    "\n",
    "The locations where you should write your solutions can be recognized by\n",
    "**marker lines**,\n",
    "which look like this:\n",
    "\n",
    ">`#//`\n",
    ">    `BEGIN_TODO [Label]` `Description` `(n points)`\n",
    ">\n",
    ">`#//`\n",
    ">    `END_TODO [Label]`\n",
    "\n",
    "<div class=\"alert alert-warning\" role=\"alert\">Do NOT modify or delete these marker lines.  Keep them as they are.<br/>\n",
    "<br/>\n",
    "NEVER write code <i>outside</i> the marked blocks.\n",
    "Such code cannot be evaluated.\n",
    "</div>\n",
    "\n",
    "Proceed in this notebook as follows:\n",
    "* **Read** the text.\n",
    "* **Fill in** your solutions between `BEGIN_TODO` and `END_TODO` marker lines.\n",
    "* **Run** _all_ code cells (also the ones _without_ your code),\n",
    "    _in linear order_ from the first code cell.\n",
    "\n",
    "**Personalize your notebook**:\n",
    "1. Copy the following three lines of code:\n",
    "\n",
    "  ```python\n",
    "  AUTHOR_NAME = 'Your Full Name'\n",
    "  AUTHOR_ID_NR = '1234567'\n",
    "  AUTHOR_DATE = 'YYYY-MM-DD'  # when notebook was first modified, e.g. '2020-02-26'\n",
    "  ```\n",
    "\n",
    "1. Paste them between the marker lines in the next code cell.\n",
    "1. Fill in your _full name_, _identification number_, and the current _date_ as strings between quotes.\n",
    "1. Run the code cell by putting the cursor there and typing **Control-Enter**.\n"
   ]
  },
  {
   "cell_type": "code",
   "execution_count": 32,
   "metadata": {},
   "outputs": [
    {
     "data": {
      "text/plain": [
       "('Abdullah Alhariri', '2184796', '2024-09-02')"
      ]
     },
     "execution_count": 32,
     "metadata": {},
     "output_type": "execute_result"
    }
   ],
   "source": [
    "#// BEGIN_TODO [Author] Name, Id.nr., Date, as strings (1 point)\n",
    "\n",
    "AUTHOR_NAME = 'Abdullah Alhariri'\n",
    "AUTHOR_ID_NR = '2184796'\n",
    "AUTHOR_DATE = '2024-09-02'  # when first modified, e.g. '2018-02-26'\n",
    "\n",
    "#// END_TODO [Author]\n",
    "\n",
    "AUTHOR_NAME, AUTHOR_ID_NR, AUTHOR_DATE"
   ]
  },
  {
   "cell_type": "markdown",
   "metadata": {},
   "source": [
    "\n",
    "## How to Submit Your Work\n",
    "\n",
    "1. **Before submitting**, you must run your notebook by doing **Kernel > Restart & Run All**.  \n",
    "   Make sure that your notebook runs without errors **in linear order**.\n",
    "\n",
    "2. Remember to rename the notebook, replacing `...-template.ipynb` with `...-yourIDnr.ipynb`, where `yourIDnr` is your TU/e identification number.\n",
    "\n",
    "3. Submit the executed notebook with your work\n",
    "   for the appropriate assignment in **Canvas**.\n",
    "\n",
    "* In the **Momotor** tab in Canvas,\n",
    "  you can select that assignment again to find some feedback on your submitted work.\n",
    "  \n",
    "* If there are any problems reported by _Momotor_,\n",
    "  then you need to fix those,\n",
    "  and **resubmit the fixed notebook**.\n",
    "\n",
    "In case of a high workload on our server\n",
    "(because many students submit close to the deadline),\n",
    "it may take longer to receive the feedback.\n"
   ]
  },
  {
   "cell_type": "markdown",
   "metadata": {},
   "source": [
    "## Installation Checks"
   ]
  },
  {
   "cell_type": "code",
   "execution_count": 27,
   "metadata": {},
   "outputs": [
    {
     "data": {
      "text/plain": [
       "'2024-09-02 11:53:45.618427'"
      ]
     },
     "execution_count": 27,
     "metadata": {},
     "output_type": "execute_result"
    }
   ],
   "source": [
    "from datetime import datetime\n",
    "str(datetime.now())"
   ]
  },
  {
   "cell_type": "code",
   "execution_count": 28,
   "metadata": {},
   "outputs": [
    {
     "data": {
      "text/plain": [
       "5815078655"
      ]
     },
     "execution_count": 28,
     "metadata": {},
     "output_type": "execute_result"
    }
   ],
   "source": [
    "from random import seed, randint\n",
    "\n",
    "seed(AUTHOR_NAME)\n",
    "randint(1000000000, 9999999999)"
   ]
  },
  {
   "cell_type": "markdown",
   "metadata": {},
   "source": [
    "Find out what OS is being used."
   ]
  },
  {
   "cell_type": "code",
   "execution_count": 29,
   "metadata": {},
   "outputs": [
    {
     "name": "stdout",
     "output_type": "stream",
     "text": [
      "posix\n",
      "Linux\n",
      "6.8.0-40-generic\n"
     ]
    }
   ],
   "source": [
    "import platform\n",
    "\n",
    "print(platform.os.name)\n",
    "print(platform.system())\n",
    "print(platform.release())"
   ]
  },
  {
   "cell_type": "markdown",
   "metadata": {},
   "source": [
    "Verify the version of Python."
   ]
  },
  {
   "cell_type": "code",
   "execution_count": 30,
   "metadata": {},
   "outputs": [
    {
     "name": "stdout",
     "output_type": "stream",
     "text": [
      "Python version: 3.11.9\n"
     ]
    }
   ],
   "source": [
    "import platform\n",
    "import sys\n",
    "\n",
    "print('Python version:', platform.python_version())\n",
    "assert (sys.version_info >= (3, 11)), 'Wrong version of Python'"
   ]
  },
  {
   "cell_type": "code",
   "execution_count": 31,
   "metadata": {},
   "outputs": [
    {
     "name": "stdout",
     "output_type": "stream",
     "text": [
      "IPython version:\n",
      " {'commit_hash': '40a5a37ca',\n",
      " 'commit_source': 'installation',\n",
      " 'default_encoding': 'utf-8',\n",
      " 'ipython_path': '/home/abdullah/miniconda3/envs/py311/lib/python3.11/site-packages/IPython',\n",
      " 'ipython_version': '8.25.0',\n",
      " 'os_name': 'posix',\n",
      " 'platform': 'Linux-6.8.0-40-generic-x86_64-with-glibc2.35',\n",
      " 'sys_executable': '/home/abdullah/miniconda3/envs/py311/bin/python',\n",
      " 'sys_platform': 'linux',\n",
      " 'sys_version': '3.11.9 (main, Apr 19 2024, 16:48:06) [GCC 11.2.0]'}\n"
     ]
    }
   ],
   "source": [
    "import IPython\n",
    "print('IPython version:\\n', IPython.sys_info())"
   ]
  },
  {
   "cell_type": "markdown",
   "metadata": {},
   "source": [
    "Verify that some standard libraries can imported."
   ]
  },
  {
   "cell_type": "code",
   "execution_count": 26,
   "metadata": {},
   "outputs": [],
   "source": [
    "import collections, urllib.request, zipfile, os\n",
    "import numpy as np\n",
    "import pandas as pd\n",
    "%matplotlib inline\n",
    "import matplotlib as mpl\n",
    "import matplotlib.pyplot as plt\n",
    "import sklearn as sk"
   ]
  },
  {
   "cell_type": "markdown",
   "metadata": {},
   "source": [
    "Show their versions."
   ]
  },
  {
   "cell_type": "code",
   "execution_count": 4,
   "metadata": {},
   "outputs": [
    {
     "name": "stdout",
     "output_type": "stream",
     "text": [
      "numpy       : version 1.26.4\n",
      "pandas      : version 2.2.2\n",
      "matplotlib  : version 3.8.4\n",
      "scikit-learn: version 1.4.2\n"
     ]
    }
   ],
   "source": [
    "print(f'numpy       : version {np.__version__}')\n",
    "print(f'pandas      : version {pd.__version__}')\n",
    "print(f'matplotlib  : version {mpl.__version__}')\n",
    "print(f'scikit-learn: version {sk.__version__}')"
   ]
  },
  {
   "cell_type": "markdown",
   "metadata": {},
   "source": [
    "Verify that some more specialized libraries can be imported,\n",
    "and show their versions\n",
    "(ignore the `FutureWarning` about `statsmodels` and `pandas.tseries`;\n",
    "this is _not_ an error)."
   ]
  },
  {
   "cell_type": "code",
   "execution_count": 5,
   "metadata": {},
   "outputs": [
    {
     "name": "stdout",
     "output_type": "stream",
     "text": [
      "seaborn    : version 0.13.2\n",
      "statsmodels: version 0.14.2\n",
      "sqlite3    : version 2.6.0\n",
      "sqlite     : version 3.45.3\n"
     ]
    }
   ],
   "source": [
    "import seaborn as sns\n",
    "import statsmodels.api as sm\n",
    "import sqlite3 as lite\n",
    "\n",
    "print(f'seaborn    : version {sns.__version__}')\n",
    "print(f'statsmodels: version {sm.__version__ if \"__version__\" in dir(sm) else sm.version.version}')\n",
    "print(f'sqlite3    : version {lite.version}')\n",
    "print(f'sqlite     : version {lite.sqlite_version}')"
   ]
  },
  {
   "cell_type": "markdown",
   "metadata": {},
   "source": [
    "List the versions of Anaconda, Jupyter, IPython and SQLite."
   ]
  },
  {
   "cell_type": "code",
   "execution_count": 25,
   "metadata": {},
   "outputs": [
    {
     "name": "stdout",
     "output_type": "stream",
     "text": [
      "# packages in environment at /home/abdullah/miniconda3/envs/py311:\n",
      "#\n",
      "# Name                    Version                   Build  Channel\n",
      "anaconda                  2024.06             py311_mkl_2  \n",
      "# packages in environment at /home/abdullah/miniconda3/envs/py311:\n",
      "#\n",
      "# Name                    Version                   Build  Channel\n",
      "jupyter                   1.0.0           py311h06a4308_9  \n",
      "jupyter-lsp               2.2.0           py311h06a4308_0  \n",
      "jupyter_client            8.6.0           py311h06a4308_0  \n",
      "jupyter_console           6.6.3           py311h06a4308_0  \n",
      "jupyter_core              5.7.2           py311h06a4308_0  \n",
      "jupyter_events            0.10.0          py311h06a4308_0  \n",
      "jupyter_server            2.14.1          py311h06a4308_0  \n",
      "jupyter_server_terminals  0.4.4           py311h06a4308_1  \n",
      "jupyterlab                4.0.11          py311h06a4308_0  \n",
      "jupyterlab-variableinspector 3.1.0           py311h06a4308_0  \n",
      "jupyterlab_pygments       0.1.2                      py_0  \n",
      "jupyterlab_server         2.25.1          py311h06a4308_0  \n",
      "jupyterlab_widgets        1.0.0              pyhd3eb1b0_1  \n",
      "# packages in environment at /home/abdullah/miniconda3/envs/py311:\n",
      "#\n",
      "# Name                    Version                   Build  Channel\n",
      "ipython                   8.25.0          py311h06a4308_0  \n",
      "ipython_genutils          0.2.0              pyhd3eb1b0_1  \n",
      "# packages in environment at /home/abdullah/miniconda3/envs/py311:\n",
      "#\n",
      "# Name                    Version                   Build  Channel\n",
      "sqlite                    3.45.3               h5eee18b_0  \n"
     ]
    }
   ],
   "source": [
    "!conda list anaconda\n",
    "!conda list jupyter\n",
    "!conda list ipython\n",
    "!conda list sqlite"
   ]
  },
  {
   "cell_type": "markdown",
   "metadata": {},
   "source": [
    "The following code was taken from http://matplotlib.org/users/pyplot_tutorial.html.\n",
    "It uses NumPy and Matplotlib, and it should show a histogram for ten thousand random samples of a normal distribution with mean of 100 and standard deviation of 15."
   ]
  },
  {
   "cell_type": "code",
   "execution_count": 24,
   "metadata": {},
   "outputs": [
    {
     "data": {
      "image/png": "[encoded data removed]",
      "text/plain": [
       "<Figure size 640x480 with 1 Axes>"
      ]
     },
     "metadata": {},
     "output_type": "display_data"
    }
   ],
   "source": [
    "mu, sigma = 100, 15\n",
    "x = mu + sigma * np.random.randn(10000)\n",
    "\n",
    "# the histogram of the data\n",
    "n, bins, patches = plt.hist(x, 50, density=1, facecolor='g', alpha=0.75)\n",
    "\n",
    "plt.xlabel('Smarts')\n",
    "plt.ylabel('Probability')\n",
    "plt.title('Histogram of IQ')\n",
    "plt.text(60, .025, r'$\\mu=100,\\ \\sigma=15$')\n",
    "plt.axis([40, 160, 0, 0.03])\n",
    "plt.grid(True)\n",
    "plt.show()"
   ]
  },
  {
   "cell_type": "markdown",
   "metadata": {},
   "source": [
    "The following code was taken from http://pandas.pydata.org/pandas-docs/version/0.18.1/visualization.html.\n",
    "It uses NumPy, Pandas, and Matplotlib, and it should show a time series that accumulates one thousand samples of a standard normal distribution, plotting one cumulative value per day, starting at 01 Jan 2000."
   ]
  },
  {
   "cell_type": "code",
   "execution_count": 23,
   "metadata": {},
   "outputs": [
    {
     "data": {
      "image/png": "[encoded data removed]",
      "text/plain": [
       "<Figure size 640x480 with 1 Axes>"
      ]
     },
     "metadata": {},
     "output_type": "display_data"
    }
   ],
   "source": [
    "ts = pd.Series(np.random.randn(1000), index=pd.date_range('1/1/2000', periods=1000))\n",
    "ts = ts.cumsum()\n",
    "ts.plot()\n",
    "plt.show()"
   ]
  },
  {
   "cell_type": "markdown",
   "metadata": {},
   "source": [
    "List all defined names:"
   ]
  },
  {
   "cell_type": "code",
   "execution_count": 22,
   "metadata": {},
   "outputs": [
    {
     "name": "stdout",
     "output_type": "stream",
     "text": [
      "Variable          Type             Data/Info\n",
      "--------------------------------------------\n",
      "AUTHOR_DATE       str              2025-09-02\n",
      "AUTHOR_ID_NR      str              2184796\n",
      "AUTHOR_NAME       str              Abdullah Alhariri\n",
      "NamespaceMagics   MetaHasTraits    <class 'IPython.core.magi<...>mespace.NamespaceMagics'>\n",
      "bins              ndarray          51: 51 elems, type `float64`, 408 bytes\n",
      "collections       module           <module 'collections' fro<...>collections/__init__.py'>\n",
      "get_ipython       function         <function get_ipython at 0x7418a7fd3060>\n",
      "json              module           <module 'json' from '/hom<...>on3.11/json/__init__.py'>\n",
      "lite              module           <module 'sqlite3' from '/<...>.11/sqlite3/__init__.py'>\n",
      "mpl               module           <module 'matplotlib' from<...>/matplotlib/__init__.py'>\n",
      "mu                int              100\n",
      "n                 ndarray          50: 50 elems, type `float64`, 400 bytes\n",
      "np                module           <module 'numpy' from '/ho<...>kages/numpy/__init__.py'>\n",
      "os                module           <module 'os' (frozen)>\n",
      "patches           BarContainer     <BarContainer object of 50 artists>\n",
      "pd                module           <module 'pandas' from '/h<...>ages/pandas/__init__.py'>\n",
      "platform          module           <module 'platform' from '<...>/python3.11/platform.py'>\n",
      "plt               module           <module 'matplotlib.pyplo<...>es/matplotlib/pyplot.py'>\n",
      "randint           method           <bound method Random.rand<...>dom object at 0x12ee1d0>>\n",
      "seed              method           <bound method Random.seed<...>dom object at 0x12ee1d0>>\n",
      "sigma             int              15\n",
      "sk                module           <module 'sklearn' from '/<...>ges/sklearn/__init__.py'>\n",
      "sm                module           <module 'statsmodels.api'<...>ages/statsmodels/api.py'>\n",
      "sns               module           <module 'seaborn' from '/<...>ges/seaborn/__init__.py'>\n",
      "sys               module           <module 'sys' (built-in)>\n",
      "ts                Series           2000-01-01     0.004013\\n<...>gth: 1000, dtype: float64\n",
      "urllib            module           <module 'urllib' from '/h<...>3.11/urllib/__init__.py'>\n",
      "x                 ndarray          10000: 10000 elems, type `float64`, 80000 bytes\n",
      "zipfile           module           <module 'zipfile' from '/<...>b/python3.11/zipfile.py'>\n"
     ]
    }
   ],
   "source": [
    "%whos"
   ]
  },
  {
   "cell_type": "markdown",
   "metadata": {},
   "source": [
    "---\n",
    "\n",
    "# (End of Notebook)\n",
    "\n",
    "&copy; 2017-2024 - **TU/e** - Eindhoven University of Technology"
   ]
  }
 ],
 "metadata": {
  "anaconda-cloud": {},
  "hide_input": false,
  "kernelspec": {
   "display_name": "Python 3 (ipykernel)",
   "language": "python",
   "name": "python3"
  },
  "language_info": {
   "codemirror_mode": {
    "name": "ipython",
    "version": 3
   },
   "file_extension": ".py",
   "mimetype": "text/x-python",
   "name": "python",
   "nbconvert_exporter": "python",
   "pygments_lexer": "ipython3",
   "version": "3.11.9"
  },
  "toc": {
   "base_numbering": 1,
   "nav_menu": {
    "height": "125px",
    "width": "252px"
   },
   "number_sections": false,
   "sideBar": true,
   "skip_h1_title": false,
   "title_cell": "Table of Contents",
   "title_sidebar": "Contents",
   "toc_cell": false,
   "toc_position": {
    "height": "652px",
    "left": "0px",
    "right": "1025px",
    "top": "107px",
    "width": "212px"
   },
   "toc_section_display": "block",
   "toc_window_display": false
  }
 },
 "nbformat": 4,
 "nbformat_minor": 4
}
