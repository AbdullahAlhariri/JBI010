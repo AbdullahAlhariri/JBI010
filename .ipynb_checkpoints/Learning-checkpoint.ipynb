{
 "cells": [
  {
   "cell_type": "markdown",
   "id": "53640b47-2e97-43d6-bbef-e45c2c0b735c",
   "metadata": {},
   "source": [
    "# Pybook\n",
    "https://programming-pybook.github.io/introProgramming/chapters/tuples.html"
   ]
  },
  {
   "attachments": {
    "883960f3-2d72-4eb1-bc15-b87c3efe9629.png": {
     "image/png": "[encoded data removed]"
    }
   },
   "cell_type": "markdown",
   "id": "0d84df24-ce7a-460d-b4d5-d253495001cc",
   "metadata": {},
   "source": [
    "# Lists\n",
    "![image.png](attachment:883960f3-2d72-4eb1-bc15-b87c3efe9629.png)"
   ]
  },
  {
   "cell_type": "markdown",
   "id": "776cb8f0-2c54-4d23-8995-658dfb9db0f3",
   "metadata": {},
   "source": [
    "## Tuples\n",
    "Immutable"
   ]
  },
  {
   "cell_type": "code",
   "execution_count": 31,
   "id": "9fe93332-3807-4174-ad71-e08ec144ab9f",
   "metadata": {},
   "outputs": [
    {
     "name": "stdout",
     "output_type": "stream",
     "text": [
      "('data', 'a', 'b', 'c')\n"
     ]
    }
   ],
   "source": [
    "myTuple: tuple = 'data', 'a', 'b', 'c'\n",
    "\n",
    "print(myTuple[0:len(myTuple)])"
   ]
  },
  {
   "cell_type": "markdown",
   "id": "01cba4bb-e3a0-4912-b7e1-39471f0a6e4d",
   "metadata": {},
   "source": [
    "## Lists\n",
    "Mutable"
   ]
  },
  {
   "cell_type": "code",
   "execution_count": 32,
   "id": "c6390ed8-600a-4896-9c00-f47a62da6319",
   "metadata": {},
   "outputs": [
    {
     "name": "stdout",
     "output_type": "stream",
     "text": [
      "[10, 20, 30, 40, 'test']\n"
     ]
    }
   ],
   "source": [
    "myList: list = [10, 20, 30, 40]\n",
    "myList.append('test')\n",
    "\n",
    "print(myList)"
   ]
  },
  {
   "cell_type": "markdown",
   "id": "ff671249-6a90-4e75-b7d6-1fc617388d2d",
   "metadata": {},
   "source": [
    "# Dicts"
   ]
  },
  {
   "cell_type": "code",
   "execution_count": 38,
   "id": "ece9c531-61bc-426a-8897-5fea6c1127c1",
   "metadata": {},
   "outputs": [
    {
     "name": "stdout",
     "output_type": "stream",
     "text": [
      "een\n"
     ]
    }
   ],
   "source": [
    "eng2dut : dict = {'one': 'een', 'two': 'twee', 'three': 'drie', 'four': \"vier\"}\n",
    "\n",
    "print(eng2dut['one'])"
   ]
  },
  {
   "cell_type": "markdown",
   "id": "7d9afc05-33b2-45b9-8e09-3d46fc19599a",
   "metadata": {},
   "source": [
    "# Classes and objects"
   ]
  },
  {
   "cell_type": "markdown",
   "id": "dd0aba42-7d74-41f2-96e7-ce119f89db48",
   "metadata": {},
   "source": [
    "# Classes"
   ]
  },
  {
   "cell_type": "code",
   "execution_count": 40,
   "id": "b4e7c2e9-a3e2-47d8-9f09-9f272727b2a9",
   "metadata": {},
   "outputs": [],
   "source": [
    "class Point:\n",
    "    \"\"\"Represents a point in 2-D space.\"\"\"\n",
    "    \n",
    "    def __init__(self, x=0, y=0):\n",
    "        \"\"\" creates a new Point object and initializes it\n",
    "        \"\"\"\n",
    "        self.x : int = x\n",
    "        self.y : int = y"
   ]
  },
  {
   "cell_type": "code",
   "execution_count": 52,
   "id": "9fd4584f-7ae9-4c84-a6dd-205e274721af",
   "metadata": {},
   "outputs": [
    {
     "name": "stdout",
     "output_type": "stream",
     "text": [
      "2\n"
     ]
    }
   ],
   "source": [
    "myPoint: Point = Point(y=2, x=1)\n",
    "\n",
    "print(myPoint.y)"
   ]
  },
  {
   "cell_type": "markdown",
   "id": "8310f729-0823-4ddd-88ba-3dfaf45cf050",
   "metadata": {},
   "source": []
  }
 ],
 "metadata": {
  "kernelspec": {
   "display_name": "Python 3 (ipykernel)",
   "language": "python",
   "name": "python3"
  },
  "language_info": {
   "codemirror_mode": {
    "name": "ipython",
    "version": 3
   },
   "file_extension": ".py",
   "mimetype": "text/x-python",
   "name": "python",
   "nbconvert_exporter": "python",
   "pygments_lexer": "ipython3",
   "version": "3.11.9"
  }
 },
 "nbformat": 4,
 "nbformat_minor": 5
}
