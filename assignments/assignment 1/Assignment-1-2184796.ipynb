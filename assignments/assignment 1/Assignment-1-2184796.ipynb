{
 "cells": [
  {
   "cell_type": "markdown",
   "id": "fbb0c3e0",
   "metadata": {},
   "source": [
    "# JBI010 - Assignment 1 (2024-2025)\n",
    "\n",
    "This Jupyter notebook contains the first assignment of the Programming (JBI010) course. It aims at practising the skills learned during the first three weeks of the course. Do not forget to analyze each task first using computational thinking before diving into its implementation—that is, identify the main elements of the problem (e.g., inputs, output, instructions) to create a program that offers a good solution. "
   ]
  },
  {
   "cell_type": "markdown",
   "id": "9da1f77a",
   "metadata": {},
   "source": [
    "## Table of Contents\n",
    "\n",
    "- [Part 1: Temperature Conversion](#Part-1:-Temperature-Conversion)\n",
    "  - [Task 1: Celsius to Fahrenheit and Back](#Task-1:-Celsius-to-Fahrenheit-and-Back-(5-Points))\n",
    "  - [Task 2: Convert Temperature Data](#Task-2:-Convert-Temperature-Data-(25-Points))\n",
    "  - [Task 3: Process User Input](#Task-3:-Process-User-Input-(10-Points))\n",
    "  - [Task 4: Process Text File](#Task-4:-Process-Text-File-(5-Points))\n",
    "  - [Task 5: Convert Valid Temperatures](#Task-5:-Convert-Valid-Temperatures-(20-Points))\n",
    "  - [Task 6: Draw a Scatter Plot (Bonus)](#Task-6:-Draw-a-Scatter-Plot-(10-Bonus-Points))\n",
    "- [Part 2: Dutch Weather Data](#Part-2:-Dutch-Weather-Data)\n",
    "  - [Task 7: Calculate Temperature Statistics](#Task-7:-Calculate-Temperature-Statistics-(15-Points))\n",
    "  - [Task 8: Find the Day with the Most Rain](#Task-8:-Find-the-Day-with-the-Most-Rain-(10-Points))"
   ]
  },
  {
   "cell_type": "markdown",
   "id": "ee379ffc",
   "metadata": {},
   "source": [
    "\n",
    "# Introduction to this template notebook\n",
    "\n",
    "* This is a **personal** notebook. \n",
    "* Make sure you work in a **copy** of `...-template.ipynb`,\n",
    "    **renamed** to `...-yourIDnr.ipynb`,\n",
    "    where `yourIDnr` is your TU/e identification number.  \n",
    "* In case of two authors, include both id. numbers:\n",
    "    `...-firstIDnr-secondIDnr.ipynb`.\n",
    "\n",
    "<div class=\"alert alert-danger\" role=\"danger\">\n",
    "<h3>Integrity</h3>\n",
    "<ul>\n",
    "    <li>In this course you must act according to the rules of the TU/e code of scientific conduct.</li>\n",
    "    <li>All the exercises and the graded assignments are to be done within your programming homework group.</li>\n",
    "    <li>You must not copy from the Internet, your friends, books... If you represent other people's work as your own, then that constitutes fraud and will be reported to the Examination Committee.</li>\n",
    "    <li>Making your work available to others (complicity) also constitutes fraud.</li>\n",
    "</ul>\n",
    "</div>\n",
    "\n",
    "You are expected to work with Python 3 code in this notebook.\n",
    "\n",
    "The locations where you should write your solutions can be recognized by\n",
    "**marker lines**,\n",
    "which look like this:\n",
    "\n",
    ">`#//`\n",
    ">    `BEGIN_TODO [Label]` `Description` `(n points)`\n",
    ">\n",
    ">`#//`\n",
    ">    `END_TODO [Label]`\n",
    "\n",
    "<div class=\"alert alert-warning\" role=\"alert\">Do NOT modify or delete these marker lines.  Keep them as they are.<br/>\n",
    "<br/>\n",
    "NEVER write code that is needed for grading <i>outside</i> the marked blocks.\n",
    "It is invisible there.\n",
    "</div>\n",
    "\n",
    "Proceed in this notebook as follows:\n",
    "* **Personalize** the notebook (see below)\n",
    "* **Read** the text.\n",
    "* **Fill in** your solutions between `BEGIN_TODO` and `END_TODO` marker lines.\n",
    "* **Run** _all_ code cells (also the ones _without_ your code),\n",
    "    _in linear order_ from the first code cell.\n",
    "\n",
    "**Personalize your notebook**:\n",
    "1. Copy the following lines of code (`AUTHOR2_...` only when applicable):\n",
    "\n",
    "  ```python\n",
    "  AUTHOR_NAME = 'Your Full Name'\n",
    "  AUTHOR_ID_NR = '1234567'\n",
    "  AUTHOR_DATE = 'YYYY-MM-DD'  # when first modified, e.g. '2019-02-26'\n",
    "\n",
    "  AUTHOR2_NAME = 'Not Applicable'\n",
    "  AUTHOR2_ID_NR = 'Not Applicable'\n",
    "  ```\n",
    "\n",
    "1. Paste them between the marker lines in the next code cell.\n",
    "1. Fill in your _full name_, _identification number_, and the current _date_ as strings between quotes.\n",
    "1. When applicable, also copy and fill in the name and id.nr. for the second author.\n",
    "1. Run the code cell by putting the cursor there and typing **Control-Enter**.\n"
   ]
  },
  {
   "cell_type": "code",
   "id": "637ae9e4",
   "metadata": {
    "ExecuteTime": {
     "end_time": "2024-09-26T13:29:49.864330Z",
     "start_time": "2024-09-26T13:29:48.703176Z"
    }
   },
   "source": [
    "from matplotlib.pyplot import scatter\n",
    "from reportlab.lib.validators import isInstanceOf\n",
    "from sympy.physics.control.control_plots import matplotlib\n",
    "\n",
    "#// BEGIN_TODO [Author] Name, Id.nr., Date, as strings (1 point)\n",
    "\n",
    "AUTHOR_NAME = \"Abdullah Alhariri\"\n",
    "AUTHOR_ID_NR = \"2184796\"\n",
    "AUTHOR_DATE = \"2024-09-12\"\n",
    "\n",
    "AUTHOR2_NAME = \"Rafi Azmani\"\n",
    "AUTHOR2_ID_NR = \"2158256\"\n",
    "\n",
    "#// END_TODO [Author]\n",
    "\n",
    "AUTHOR_NAME, AUTHOR_ID_NR, AUTHOR_DATE"
   ],
   "outputs": [
    {
     "data": {
      "text/plain": [
       "('Abdullah Alhariri', '2184796', '2024-09-12')"
      ]
     },
     "execution_count": 1,
     "metadata": {},
     "output_type": "execute_result"
    }
   ],
   "execution_count": 1
  },
  {
   "cell_type": "markdown",
   "id": "88f67d3f",
   "metadata": {},
   "source": [
    "## Preliminaries\n",
    "\n",
    "Run the cell below. This cell will import additional modules providing additional Python functionality."
   ]
  },
  {
   "cell_type": "code",
   "id": "ae8a9662",
   "metadata": {
    "ExecuteTime": {
     "end_time": "2024-09-26T13:30:21.411153Z",
     "start_time": "2024-09-26T13:30:21.375737Z"
    }
   },
   "source": [
    "import csv\n",
    "from datetime import datetime\n",
    "import doctest\n",
    "from typing import Any, Dict, List"
   ],
   "outputs": [],
   "execution_count": 2
  },
  {
   "cell_type": "markdown",
   "id": "96d58855",
   "metadata": {},
   "source": [
    "### AI Statement\n",
    "Add a statement on how you used AI. You are  **not** allowed to use AI to generate partial or complete solutions. However, you are allowed to use AI to understand the problem. You need to honestly state what you used and how, e.g. to resolve errors, understand something better. **This statement is mandatory.** If you do not provide this information, points may be deducted from the assignment's final grade."
   ]
  },
  {
   "cell_type": "code",
   "id": "f9b0f9d4",
   "metadata": {
    "ExecuteTime": {
     "end_time": "2024-09-24T18:20:13.573709Z",
     "start_time": "2024-09-24T18:20:13.571059Z"
    }
   },
   "source": "statement = \"\"\"AI hasn't been used in any way or form for this assignment.\"\"\"",
   "outputs": [],
   "execution_count": 3
  },
  {
   "cell_type": "markdown",
   "id": "a32c5512",
   "metadata": {},
   "source": [
    "### Momotor Score\n",
    "The score you get on Momotor **does not reflect the final grade** of your assignment.  However, it might guide you during the assignment development."
   ]
  },
  {
   "cell_type": "markdown",
   "id": "68a7e46a",
   "metadata": {},
   "source": [
    "## Part 1: Temperature Conversion\n",
    "Emma and Ashanti recently embarked on a relationship despite living miles apart: Emma resides in the Netherlands, while Ashanti calls Liberia home. Their geographical distance isn't the only challenge they face; they also struggle with the contrasting temperature scales used in their respective countries. In the Netherlands, Celsius is the norm, while Liberia favours Fahrenheit for temperature measurements.\n",
    "To navigate this discrepancy, they began collecting temperature data from their daily routines, drawing from sources like weather reports and recipes.\n",
    "Ashanti, accustomed to Fahrenheit, follows recipes using this scale. However, if Emma wishes to replicate the same dishes, she must convert the temperatures to Celsius since her oven operates on this scale. Emma, on the contrary, often relies on weather reports in Celsius to know how to dress that day. \n",
    "Yet, when she informs Ashanti it is 25 degrees Celsius outside, she is not sure whether she should wear a thick hoodie or if they can wear short pants. \n",
    "Thus, they created a file including some of the temperatures---with their corresponding scales---they want to convert. This file serves as their collaborative tool, aiding them in navigating the nuances of temperature scales and fostering their connection despite the geographical and meteorological disparities they encounter. \n",
    "\n",
    "The text file can be found in the `assets` folder and is named `temperature.txt`. The file contains a list of temperature conversion commands.\n",
    "Its format is as follows:\n",
    "* Two lines contain a conversion command, where\n",
    "  * the first line defines the desired conversion. Only two values are possible: `F` and `C`. `F` states that the value should be converted from Fahrenheit to Celsius, and `C` from Celsius to Fahrenheit, and;\n",
    "  * the second line contains a floating-point number with the temperature in the given scale.\n",
    "\n",
    "For example, the first four lines of the given file are:\n",
    "```\n",
    "F\n",
    "50\n",
    "C\n",
    "40\n",
    "```\n",
    "\n",
    "On the one hand, the first two lines indicate that one should convert 50 degrees Fahrenheit to Celsius. On the other hand, the last two lines request a conversion of 40 degrees Celsius to Farenheit.\n",
    "\n",
    "You are requested to help them with the conversion of such temperatures.\n",
    "Afterward, you should draw a scatter plot to represent the relationship between the two scales for the given data (see Figure 1).\n",
    "\n",
    "<img src=\"assets/temperatures-scatter.png\" alt=\"Scatter Plot\" width=\"400\"/>\n",
    "<br>\n",
    "<div style=\"text-align:center\">\n",
    "    <span style=\"font-size:0.9em; font-weight: bold;\">Figure 1. Temperatures scatter plot.</span>\n",
    "</div>\n",
    "<br>"
   ]
  },
  {
   "cell_type": "markdown",
   "id": "d0e8a975",
   "metadata": {},
   "source": [
    "## Task 1: Celsius to Fahrenheit and Back (5 Points)\n",
    "Before you can help Emma and Ashanti with their file, you first need to get started with a function that simply does the conversion of temperatures between scales.\n",
    "Therefore, define the function `convert_temp` that converts temperatures from Celsius to Fahrenheit and Fahrenheit to Celsius.\n",
    "The function receives as arguments a temperature (`float`) and a unit (`str`, being either `'F'` or `'C'`).\n",
    "It then returns a list where the first item is the converted temperature and the second item is the unit of the result (either `'F'` or `'C'`).\n",
    "\n",
    "**Notes**:\n",
    "* Use the formula $1.8 c + 32$ to convert $c$ degrees Celsius to Fahrenheit.\n",
    "* Use the formula $\\frac{f - 32}{1.8}$ to convert $f$ degrees Fahrenheit to Celsius.\n",
    "* Round the temperature to 2 decimal points. \n",
    "* For this task, you may assume that the first argument is always a positive (including 0) float and that the second argument is either `'F'` or `'C'`.\n",
    "* Do not forget to write the **type hints** and **docstring** of the function.\n",
    "* Include at least _four_ (4) `doctest` examples. \n",
    "\n",
    "**Example**:\n",
    "\n",
    "*Input:*  \n",
    "```python\n",
    "convert_temp(0, 'C')\n",
    "```\n",
    "\n",
    "*Output:*  \n",
    "<pre>\n",
    "[32.0, 'F']\n",
    "</pre>"
   ]
  },
  {
   "cell_type": "code",
   "id": "296aae49",
   "metadata": {
    "ExecuteTime": {
     "end_time": "2024-09-26T14:15:02.344289Z",
     "start_time": "2024-09-26T14:15:02.336887Z"
    }
   },
   "source": [
    "#// BEGIN_TODO [convert_temp] Convert between C and F (5 points)\n",
    "def convert_temp(temperature: float, unit: str) -> list[float, str]:\n",
    "    \"\"\"\n",
    "    Convert temperature and returns a list of the converted degree and the corresponding unit\n",
    "\n",
    "    :param temperature: The temperature who you desire to convert.\n",
    "    :param unit: The unit of the given temprature.\n",
    "    :returns: List of the converted degree and the corresponding unit respectivly.\n",
    "    \n",
    "    >>> convert_temp(50, 'F')\n",
    "    [10.0, 'C']\n",
    "    >>> convert_temp(40, 'C')\n",
    "    [104.0, 'F']\n",
    "    >>> convert_temp(0.0, 'F')\n",
    "    [-17.78, 'C']\n",
    "    >>> convert_temp(20, 'C')\n",
    "    [68.0, 'F']\n",
    "    \"\"\"\n",
    "    output_list = []\n",
    "\n",
    "    match unit: \n",
    "        case 'F':\n",
    "            celsius_temperature: float = round((temperature - 32) / 1.8, 2)\n",
    "            output_list = [celsius_temperature, 'C']\n",
    "        case 'C':\n",
    "            temperature_fahrenheit: float = round(1.8 * temperature + 32, 2)\n",
    "            output_list = [temperature_fahrenheit, 'F']\n",
    "\n",
    "    return output_list      \n",
    "#// END_TODO [convert_temp]\n",
    "\n",
    "# This line is used for a manual check of your function.\n",
    "convert_temp(0, 'C')"
   ],
   "outputs": [
    {
     "data": {
      "text/plain": [
       "[32.0, 'F']"
      ]
     },
     "execution_count": 15,
     "metadata": {},
     "output_type": "execute_result"
    }
   ],
   "execution_count": 15
  },
  {
   "metadata": {
    "ExecuteTime": {
     "end_time": "2024-09-26T14:15:06.492325Z",
     "start_time": "2024-09-26T14:15:06.479042Z"
    }
   },
   "cell_type": "code",
   "source": "doctest.run_docstring_examples(convert_temp, globals(), verbose=True, name='convert_temp')",
   "id": "a0ab6b59",
   "outputs": [
    {
     "name": "stdout",
     "output_type": "stream",
     "text": [
      "Finding tests in convert_temp\n",
      "Trying:\n",
      "    convert_temp(50, 'F')\n",
      "Expecting:\n",
      "    [10.0, 'C']\n",
      "ok\n",
      "Trying:\n",
      "    convert_temp(40, 'C')\n",
      "Expecting:\n",
      "    [104.0, 'F']\n",
      "ok\n",
      "Trying:\n",
      "    convert_temp(0.0, 'F')\n",
      "Expecting:\n",
      "    [-17.78, 'C']\n",
      "ok\n",
      "Trying:\n",
      "    convert_temp(20, 'C')\n",
      "Expecting:\n",
      "    [68.0, 'F']\n",
      "ok\n"
     ]
    }
   ],
   "execution_count": 16
  },
  {
   "metadata": {
    "ExecuteTime": {
     "end_time": "2022-07-28T15:58:09.718053Z",
     "start_time": "2022-07-28T15:58:09.706054Z"
    }
   },
   "cell_type": "markdown",
   "source": [
    "## Task 2: Convert Temperature Data (25 Points)\n",
    "It might be the case that some values in the text file are not in the desired format. The main goal of this task is to determine if the values are of a desired format or not, and to handle each case based on the input. \n",
    "\n",
    "To do this, define the function `convert_data` that gets a list of strings following the same format as the text file `assets/temperature.txt` (e.g. `['F', '10', 'C', 40, ...]`).\n",
    "It then processes all the conversion commands (`F` for Fahrenheit to Celsius or `C` for Celsius to Fahrenheit) and _prints_ the conversion or an error message but does not return a value.\n",
    "\n",
    "To implement this function consider the following requirements:\n",
    "* Use the function `convert_temp` created in Task 1 for the temperature conversion of well-defined cases.\n",
    "* Print the conversion with the following format `<old_value> <old_scale> = <new_value> <new_scale>`.\n",
    "* In case of an unrecognized command `x`, print `Bad command: '<x>'`. The only allowed commands are `F` and `C`.\n",
    "* In case of a bad temperature `t`, print `Bad temperature: '<t>'`. The type of temperature should be a `float`.\n",
    "* In case the list does not end with a temperature, print `Missing/invalid temperature`.\n",
    "\n",
    "**Notes**:\n",
    "* All elements of the input list are a string at the beginning. You should write code that tries to convert the string value (representing the temperature value) into a float, making it a valid temperature.\n",
    "* Do not forget to write the **type hints** and **docstring** of the function.\n",
    "* Include at least _six_ (6) `doctest` examples.\n",
    "\n",
    "**Example**:\n",
    "\n",
    "*Input:*  \n",
    "```python\n",
    "convert_data(['F', '10', 'C', '40', '30', '20', 'S', '60', 'C', '40-', 'F'])\n",
    "```\n",
    "\n",
    "*Output:*  \n",
    "<pre>\n",
    "10.0 F = -12.22 C\n",
    "40.0 C = 104.0 F\n",
    "Bad command: '30'\n",
    "Bad command: 'S'\n",
    "Bad temperature: '40-'\n",
    "Missing/invalid temperature\n",
    "</pre>"
   ],
   "id": "b670abcd"
  },
  {
   "metadata": {
    "ExecuteTime": {
     "end_time": "2024-09-26T14:16:53.598296Z",
     "start_time": "2024-09-26T14:16:53.579771Z"
    }
   },
   "cell_type": "code",
   "source": [
    "#// BEGIN_TODO [convert_data] Convert temperature data (25 points)\n",
    "\n",
    "def convert_data(data: list[str]) -> None:\n",
    "    \"\"\"\n",
    "    Convert the given list of tempretatures and prints the output with error handeling (if needed).\n",
    "\n",
    "    :param data: A list of strings containing conversion unit ('F' or 'C') followed by temperature values. Sample ['F', '75', 'C', '18']\n",
    "    :return: None; prints the results of the conversions and the error messages.\n",
    "\n",
    "    >>> convert_data(['F', '0', 'C', '100', 'C', '50', 'F', '212'])\n",
    "    0.0 F = -17.78 C\n",
    "    100.0 C = 212.0 F\n",
    "    50.0 C = 122.0 F\n",
    "    212.0 F = 100.0 C\n",
    "\n",
    "    >>> convert_data(['C', '20', 'F', '68', 'C', 'boiling', 'F', '32'])\n",
    "    20.0 C = 68.0 F\n",
    "    68.0 F = 20.0 C\n",
    "    Bad temperature: 'boiling'\n",
    "    32.0 F = 0.0 C\n",
    "\n",
    "    >>> convert_data(['F', '50', 'X', '60', 'C', '40'])\n",
    "    50.0 F = 10.0 C\n",
    "    Bad command: 'X'\n",
    "    40.0 C = 104.0 F\n",
    "\n",
    "    >>> convert_data(['C', 'cold', 'F', '100'])\n",
    "    Bad temperature: 'cold'\n",
    "    100.0 F = 37.78 C\n",
    "\n",
    "    >>> convert_data(['F', '32', 'C', 'boiling point', 'F', '212'])\n",
    "    32.0 F = 0.0 C\n",
    "    Bad temperature: 'boiling point'\n",
    "    212.0 F = 100.0 C\n",
    "    \"\"\"\n",
    "    i: int = 0\n",
    "    while i < len(data):\n",
    "        unit: str = data[i]\n",
    "\n",
    "        if unit not in ['F', 'C']:\n",
    "            i += 1\n",
    "            if not (len(unit) == 2 and i%2 == 0):\n",
    "                print(f\"Bad command: '{unit}'\")\n",
    "            continue\n",
    "    \n",
    "        if len(data) <= i+1:\n",
    "            print(\"Missing/invalid temperature\")\n",
    "            break\n",
    "\n",
    "        temp_str: str = data[i+1] \n",
    "        try:\n",
    "            temp = float(temp_str)\n",
    "        except ValueError:\n",
    "            print(f\"Bad temperature: '{temp_str}'\")\n",
    "            i += 2\n",
    "            continue\n",
    "    \n",
    "        [result_temp, result_unit] = convert_temp(temp, unit)\n",
    "        print(f\"{temp} {unit} = {round(result_temp, 2)} {result_unit}\")\n",
    "    \n",
    "        i += 2\n",
    "        if i == len(data)+1:\n",
    "            print(\"Missing/invalid temperature\")\n",
    "\n",
    "\n",
    "#// END_TODO [convert_data]\n",
    "\n",
    "convert_data(['F', '10', 'C', '40', '30', '20', 'S', '60', 'C', '40-', 'F'])"
   ],
   "id": "e19eff69",
   "outputs": [
    {
     "name": "stdout",
     "output_type": "stream",
     "text": [
      "10.0 F = -12.22 C\n",
      "40.0 C = 104.0 F\n",
      "Bad command: '30'\n",
      "Bad command: 'S'\n",
      "Bad temperature: '40-'\n",
      "Missing/invalid temperature\n"
     ]
    }
   ],
   "execution_count": 18
  },
  {
   "metadata": {
    "ExecuteTime": {
     "end_time": "2024-09-26T14:16:54.578948Z",
     "start_time": "2024-09-26T14:16:54.572992Z"
    }
   },
   "cell_type": "code",
   "outputs": [
    {
     "name": "stdout",
     "output_type": "stream",
     "text": [
      "Finding tests in convert_data\n",
      "Trying:\n",
      "    convert_data(['F', '0', 'C', '100', 'C', '50', 'F', '212'])\n",
      "Expecting:\n",
      "    0.0 F = -17.78 C\n",
      "    100.0 C = 212.0 F\n",
      "    50.0 C = 122.0 F\n",
      "    212.0 F = 100.0 C\n",
      "ok\n",
      "Trying:\n",
      "    convert_data(['C', '20', 'F', '68', 'C', 'boiling', 'F', '32'])\n",
      "Expecting:\n",
      "    20.0 C = 68.0 F\n",
      "    68.0 F = 20.0 C\n",
      "    Bad temperature: 'boiling'\n",
      "    32.0 F = 0.0 C\n",
      "ok\n",
      "Trying:\n",
      "    convert_data(['F', '50', 'X', '60', 'C', '40'])\n",
      "Expecting:\n",
      "    50.0 F = 10.0 C\n",
      "    Bad command: 'X'\n",
      "    40.0 C = 104.0 F\n",
      "ok\n",
      "Trying:\n",
      "    convert_data(['C', 'cold', 'F', '100'])\n",
      "Expecting:\n",
      "    Bad temperature: 'cold'\n",
      "    100.0 F = 37.78 C\n",
      "ok\n",
      "Trying:\n",
      "    convert_data(['F', '32', 'C', 'boiling point', 'F', '212'])\n",
      "Expecting:\n",
      "    32.0 F = 0.0 C\n",
      "    Bad temperature: 'boiling point'\n",
      "    212.0 F = 100.0 C\n",
      "ok\n"
     ]
    }
   ],
   "execution_count": 19,
   "source": "doctest.run_docstring_examples(convert_data, globals(), verbose=True, name='convert_data')",
   "id": "17985481"
  },
  {
   "metadata": {},
   "cell_type": "markdown",
   "source": [
    "## Task 3: Process User Input (10 Points)\n",
    "\n",
    "Now, we want to let Emma and Ashanti interactively insert a temperature conversion value and command as a **string input**. \n",
    "The format of each string input should be as follows:\n",
    "* The input contains a **scale** (`F` for Fahrenheit and `C` for Celsius) followed by a **space** (`' '`),\n",
    "* and a **temperature** as a floating-point number.\n",
    "* The input can contain more than one scale and temperature.\n",
    "\n",
    "For example, a correct string input is `F 50`, `C 20`, or `C 30 F 60 C 8`. However, your code should also work for incorrect string inputs. Examples of incorrect string inputs are `S 50`, `C `, or ` ` (empty input).\n",
    "\n",
    "Define the function `process_input_value` that reads each string input interactively, splits the input based on the space, and puts all parts in a list. Then, this list is converted using the function `convert_data` created in Task 2.\n",
    "\n",
    "Afterward, you need to write some code **outside the function** that asks the user for input and calls the function `process_input_value`. Make sure that the program is terminated if the user input is `q` or `quit`. \n",
    "\n",
    "* The program processes the data and _prints_ (without returning a value) the result using the same printing format as Task 2.\n",
    "* To implement this function consider the following requirements:\n",
    "    * use the previously defined `process_input_value`, and\n",
    "    * in case of an empty string, print \"Missing temperature\" and, on a new line, print \"Missing command\". \n",
    "\n",
    "**Notes**:\n",
    "* We will test your program with multiple and diverse input values.\n",
    "* Do not forget to write the **type hints** and **docstring** of the function.\n",
    "* Include at least _four_ (4) `doctest` examples. \n",
    "\n",
    "**Examples**:\n",
    "\n",
    "*Input:*  \n",
    "```python\n",
    "process_input_value('C 20') \n",
    "```\n",
    "\n",
    "*Output:*  \n",
    "<pre>\n",
    " 20.0 C = 68.0 F\n",
    "</pre>\n",
    "\n",
    "*Input:* \n",
    "```python\n",
    "process_input_value('C 30 F 60 C 8')\n",
    "```\n",
    "\n",
    "*Output:*  \n",
    "<pre>\n",
    " 30.0 C = 86.0 F\n",
    " 60.0 F = 15.56 C\n",
    " 8.0 C = 46.4 F\n",
    "</pre>\n",
    "\n",
    "*Input:*  \n",
    "```python\n",
    "process_input_value('S 50')\n",
    "```\n",
    "\n",
    "*Output:*  \n",
    "<pre>\n",
    "Bad command: 'S'\n",
    "</pre>\n",
    "\n",
    "*Input:*  \n",
    "```python\n",
    "process_input_value('C ')\n",
    "```\n",
    "\n",
    "*Output:*  \n",
    "<pre>\n",
    " Missing/invalid temperature\n",
    "</pre>\n",
    "\n",
    "*Input:*  \n",
    "```python\n",
    "process_input_value('') # no input\n",
    "```\n",
    "\n",
    "*Output:*  \n",
    "<pre>\n",
    " Missing temperature\n",
    " Missing command\n",
    "</pre>\n",
    "\n"
   ],
   "id": "8b0a2999"
  },
  {
   "metadata": {
    "ExecuteTime": {
     "end_time": "2024-09-26T14:21:58.339021Z",
     "start_time": "2024-09-26T14:21:55.003262Z"
    }
   },
   "cell_type": "code",
   "source": [
    "#// BEGIN_TODO [process_input_value] Convert temperature input data (10 points)\n",
    "def process_input_value(user_input: str) -> None:\n",
    "    \"\"\"\n",
    "    Processes a string input of temperature conversion commands and values and prints the results or error messages based on the input.\n",
    "\n",
    "    :param user_input: A string containing conversion commands ('F' or 'C') \n",
    "                       followed by temperature values, separated by spaces.\n",
    "    :return: None. Prints the results of the conversions or error messages.\n",
    "\n",
    "    >>> process_input_value('C 20')\n",
    "    20.0 C = 68.0 F\n",
    "\n",
    "    >>> process_input_value('C 30 F 60 C 8')\n",
    "    30.0 C = 86.0 F\n",
    "    60.0 F = 15.56 C\n",
    "    8.0 C = 46.4 F\n",
    "\n",
    "    >>> process_input_value('C ')\n",
    "    Missing/invalid temperature\n",
    "\n",
    "    >>> process_input_value('')  # no input\n",
    "    Missing temperature\n",
    "    Missing command\n",
    "    \"\"\"\n",
    "\n",
    "    data: list[str] = user_input.split()\n",
    "\n",
    "    if not data:\n",
    "        print(\"Missing temperature\")\n",
    "        print(\"Missing command\")\n",
    "    else:\n",
    "        convert_data(data)\n",
    "\n",
    "\n",
    "while True:\n",
    "    user_input = input(\"Enter temperature command (or 'q' to quit): \").strip()\n",
    "    if user_input.lower() in ['q', 'quit']: \n",
    "        break\n",
    "    process_input_value(user_input)\n",
    "\n",
    "#// END_TODO [process_input_value]"
   ],
   "id": "b124d04c",
   "outputs": [
    {
     "name": "stdout",
     "output_type": "stream",
     "text": [
      "50.0 C = 122.0 F\n"
     ]
    }
   ],
   "execution_count": 26
  },
  {
   "metadata": {
    "ExecuteTime": {
     "end_time": "2024-09-26T14:19:13.848721Z",
     "start_time": "2024-09-26T14:19:13.838189Z"
    }
   },
   "cell_type": "code",
   "outputs": [
    {
     "name": "stdout",
     "output_type": "stream",
     "text": [
      "Finding tests in process_input_value\n",
      "Trying:\n",
      "    process_input_value('C 20')\n",
      "Expecting:\n",
      "    20.0 C = 68.0 F\n",
      "ok\n",
      "Trying:\n",
      "    process_input_value('C 30 F 60 C 8')\n",
      "Expecting:\n",
      "    30.0 C = 86.0 F\n",
      "    60.0 F = 15.56 C\n",
      "    8.0 C = 46.4 F\n",
      "ok\n",
      "Trying:\n",
      "    process_input_value('C ')\n",
      "Expecting:\n",
      "    Missing/invalid temperature\n",
      "ok\n",
      "Trying:\n",
      "    process_input_value('')  # no input\n",
      "Expecting:\n",
      "    Missing temperature\n",
      "    Missing command\n",
      "ok\n"
     ]
    }
   ],
   "execution_count": 21,
   "source": "doctest.run_docstring_examples(process_input_value, globals(), verbose=True, name='process_input_value')",
   "id": "2bec9176"
  },
  {
   "metadata": {},
   "cell_type": "markdown",
   "source": [
    "## Task 4: Process Text File (5 Points)\n",
    "\n",
    "Now that we have created a function to convert temperatures between Celsius and Fahrenheit and vice versa, we can continue by loading the `temperature.txt` containing the temperatures that Emma and Ashanti would like to convert. \n",
    "To do this, define the function `read_dataset` that:\n",
    "* Takes a file as input,\n",
    "* opens the text file,\n",
    "* reads it line by line and strips any leading and trailing _whitespace_ from all its lines,\n",
    "* then appends the line to a list, named `all_data`, \n",
    "* and returns the list `all_data`.\n",
    "\n",
    "Then, outside of the function, use the output of the `read_dataset` function to convert the data using the `convert_data` function created in Task 2.\n",
    "\n",
    "**Notes**: \n",
    "* Your code must work for different file names. Thus, do not code `read_dataset('assets/temperature.txt')`, but, for example,  `read_dataset(file_name)`.\n",
    "* Do not forget to write the **type hints** and **docstring** of the function.\n",
    "* No **doctest** is required.\n",
    "\n",
    "**Example**:\n",
    "\n",
    "*Output of `read_dataset`:*  \n",
    "```python\n",
    "['F', '50', 'C','40', 'F', '40-', 'C', '20', '', '40', 'F', '0.0', 'C', '-32', \n",
    " 'H', '50', 'F', '104', '', '','F', '15', '30', 'C', 'C', '100']\n",
    "```\n",
    "\n",
    "*Output of cell:*  \n",
    "<pre>\n",
    "50.0 F =    10.0 C\n",
    "40.0 C =   104.0 F\n",
    "Bad temperature: '40-'\n",
    "20.0 C =    68.0 F\n",
    "Bad command: ''\n",
    "0.0 F =   -17.8 C\n",
    "-32.0 C =   -25.6 F\n",
    "Bad command: 'H'\n",
    "104.0 F =    40.0 C\n",
    "Bad command: ''\n",
    "Bad temperature: ''\n",
    "15.0 F =    -9.4 C\n",
    "Bad command: '30'\n",
    "Bad temperature: 'C'\n",
    "100.0 C =   212.0 F\n",
    "</pre>"
   ],
   "id": "a07dfb19"
  },
  {
   "metadata": {
    "ExecuteTime": {
     "end_time": "2024-09-26T14:22:16.071464Z",
     "start_time": "2024-09-26T14:22:16.056323Z"
    }
   },
   "cell_type": "code",
   "outputs": [
    {
     "name": "stdout",
     "output_type": "stream",
     "text": [
      "50.0 F = 10.0 C\n",
      "40.0 C = 104.0 F\n",
      "Bad temperature: '40-'\n",
      "20.0 C = 68.0 F\n",
      "Bad command: ''\n",
      "0.0 F = -17.78 C\n",
      "-32.0 C = -25.6 F\n",
      "Bad command: 'H'\n",
      "104.0 F = 40.0 C\n",
      "Bad command: ''\n",
      "Bad command: ''\n",
      "15.0 F = -9.44 C\n",
      "Bad command: '30'\n",
      "Bad temperature: 'C'\n",
      "Bad command: '100'\n"
     ]
    }
   ],
   "execution_count": 27,
   "source": [
    "FILE_NAME = 'assets/temperature.txt'\n",
    "\n",
    "#// BEGIN_TODO [read_data] Process commands in text file (5 points)\n",
    "\n",
    "def read_dataset(file_name: str) -> list:\n",
    "    \"\"\"\n",
    "    Reads the given file and returns a list of temperature values coming from the given file.\n",
    "    \n",
    "    :param file_name: The filename which gets read.\n",
    "    :return: A list of temperature values coming from the file.\n",
    "    \"\"\"\n",
    "\n",
    "    with open(file_name, 'r') as txt_file:\n",
    "        all_data:list[str] = txt_file.readlines()\n",
    "\n",
    "    for i in range(0, len(all_data)):\n",
    "        all_data[i] = all_data[i].replace('\\n', '')\n",
    "\n",
    "    return all_data\n",
    "\n",
    "convert_data(read_dataset(FILE_NAME))\n",
    "\n",
    "#// END_TODO [read_data]"
   ],
   "id": "fa162b8e"
  },
  {
   "metadata": {},
   "cell_type": "markdown",
   "source": [
    "## Task 5: Convert Valid Temperatures (20 Points)\n",
    "Now, that Emma and Ashanti have read their text file, you will help them to actually use it. \n",
    "\n",
    "First, define the function `create_valid_data`, which: \n",
    "* takes a list in the format of the output of `read_dataset` defined in Task 4 as an argument, \n",
    "* removes all invalid temperatures and commands, and \n",
    "* return a list called `valid_data`, including all valid temperatures and commands.\n",
    "\n",
    "Second, define the function called `convert_valid_data`, that:\n",
    "* takes a list in the format of the output of `create_valid_data` as an argument,\n",
    "* uses the function `convert_temp` for the temperature conversion of the temperatures in the list `valid_data`, and\n",
    "* returns a list called `converted_data`, including all converted temperatures and their units (i.e., `'F'` or `'C'`).\n",
    "\n",
    "**NoteS**: \n",
    "* Do not forget to write the **type hints** and **docstring** of the function.\n",
    "* No **doctest** is required.\n",
    "\n",
    "**Example**:\n",
    "\n",
    "*Input for `create_valid_data`:*  \n",
    "```python\n",
    "['F', '50', 'C', '40', 'F', '40-', 'C', '20', '', '40', 'F', '0.0', 'C', '-32', 'H', '50', 'F', '104', '', '', 'F', '15', '30', 'C', 'C', '100']\n",
    "```\n",
    "\n",
    "*Output of `create_valid_data`/Input for `convert_valid_data`:*  \n",
    "```python\n",
    "['F', 50.0, 'C', 40.0, 'C', 20.0, 'F', 0.0, 'C', -32.0, 'F', 104.0, 'F', 15.0, 'C', 100.0]\n",
    "```\n",
    "\n",
    "*Output of `convert_valid_data`:*  \n",
    "```python\n",
    "['C', 10.0, 'F', 104.0, 'F', 68.0, 'C', -17.78, 'F', -25.6, 'C', 40.0, 'C', -9.44, 'F', 212.0]\n",
    "```"
   ],
   "id": "36fa18ab"
  },
  {
   "metadata": {
    "ExecuteTime": {
     "end_time": "2024-09-26T14:23:55.285855Z",
     "start_time": "2024-09-26T14:23:55.267544Z"
    }
   },
   "cell_type": "code",
   "source": [
    "#// BEGIN_TODO [valid_data] List all valid and converted data (20 points)\n",
    "\n",
    "def create_valid_data(dataset: list) -> list:\n",
    "    \"\"\"\n",
    "    Gets a dataset and returns a valid version of the list given.\n",
    "    \n",
    "    :param dataset: The given list of units and temperature values.\n",
    "    :return: A valid version of the given dataset.\n",
    "    \"\"\"\n",
    "    valid_data: list = []\n",
    "    \n",
    "    di = 0\n",
    "    while di < len(dataset):\n",
    "        unit = dataset[di]\n",
    "        if unit not in ['C', 'F']:\n",
    "            di += 1\n",
    "            continue\n",
    "        \n",
    "        temp_str = dataset[di+1]\n",
    "        try:\n",
    "            temp = float(temp_str)\n",
    "        except ValueError:\n",
    "            di += 1\n",
    "            continue\n",
    "        \n",
    "        valid_data.append(unit)\n",
    "        valid_data.append(temp)\n",
    "        di+= 2\n",
    "\n",
    "    return valid_data\n",
    "\n",
    "def convert_valid_data(valid_data: list) -> list:\n",
    "    \"\"\"\n",
    "    Converts temperature units in the valid_data list and returns the converted version of the list.\n",
    "    \n",
    "    :param valid_data: A valid structures list of units and temperature values.\n",
    "    :returns: A list of the converted temperature values and the corresponding units.\n",
    "    \"\"\"\n",
    "    idx = 0\n",
    "    converted_data: list = []\n",
    "    while idx < len(valid_data):\n",
    "        [temp, unit] = convert_temp(valid_data[idx+1], valid_data[idx])\n",
    "        converted_data.append(unit)\n",
    "        converted_data.append(temp)\n",
    "        idx += 2\n",
    "    return converted_data\n",
    "\n",
    "\n",
    "#// END_TODO [valid_data]\n",
    "\n",
    "all_data = read_dataset(FILE_NAME)\n",
    "valid_data = create_valid_data(all_data)\n",
    "converted_data = convert_valid_data(valid_data)"
   ],
   "id": "2aa60bc1",
   "outputs": [],
   "execution_count": 34
  },
  {
   "cell_type": "markdown",
   "id": "02e79fd4",
   "metadata": {},
   "source": [
    "## Task 6: Draw a Scatter Plot (10 Bonus Points)\n",
    "This task is optional, but you can earn 10 bonus points! Notice that you can get a maximum of 100 points for this assignment—including the bonus. For instance, if you scored 100 points for the other and you get the 10 additional points from this one, you won't get 100 + 10 points but 100. However, if you scored less in other tasks, this bonus task will increase your grade.\n",
    "\n",
    "To help Emma and Ashanti see the correlation between the temperature units, you will create a scatter plot with the temperatures in degrees Fahrenheit on the X-axis and the temperatures in degrees Celsius on the Y-axis. \n",
    "\n",
    "Define a function called `draw_scatter_plot` that: \n",
    "* takes the output of the functions `create_valid_data` and `convert_valid_data` as two arguments, and\n",
    "* draws a scatter plot, in which the X-axis represents all values in degrees Fahrenheit and the Y-axis represents all values in degrees Celsius.\n",
    "\n",
    "\n",
    "**Notes**:\n",
    "* You should use the lists, `valid_data` and `converted_data` defined in Task 5 as input for the function `draw_scatter_plot` to access the list of all valid data and all converted valid data, respectively.\n",
    "* To draw the scatter plot, we use the **Matplotlib** library, which has the `scatter()` method. This method needs two arrays of the same length for the X-axis and Y-axis. You can invoke the Matplotlib library functions by typing `plt.<function_name_here>()`. As this is not part of the course content, please refer to the [Matplotlib documentation](https://matplotlib.org/stable/index.html).\n",
    "* Give the plot a title. \n",
    "* Label both the X-axis and Y-axis.\n",
    "* Do not forget to write the **type hints** and **docstring** of the function.\n",
    "* No **doctest** is required.\n",
    "  \n",
    "\n",
    "**Example**:\n",
    "\n",
    "*Input:*  \n",
    "```python\n",
    "scatter_plot(create_valid_data, convert_valid_data)\n",
    "```\n",
    "\n",
    "*Output of the cell:*  \n",
    "<pre>\n",
    "<img src=\"assets/temperatures-scatter.png\" alt=\"Scatter Plot\" width=\"400\"/>\n",
    "<br>\n",
    "<div style=\"text-align:center\">\n",
    "    <span style=\"font-size:0.9em; font-weight: bold;\">Figure 2. Temperatures scatter plot.</span>\n",
    "</div>\n",
    "<br>\n",
    "</pre>\n",
    "\n",
    "*(The function does not return a value, but should draw a plot within your notebook similar to when you use `print`.)*"
   ]
  },
  {
   "cell_type": "code",
   "id": "9e3cc2ff",
   "metadata": {
    "ExecuteTime": {
     "end_time": "2024-09-26T14:25:49.663732Z",
     "start_time": "2024-09-26T14:25:49.318781Z"
    }
   },
   "source": [
    "import matplotlib.pyplot as plt\n",
    "\n",
    "#// BEGIN_TODO [scatter_plot] Drawing scatter plot (10 points)\n",
    "\n",
    "def draw_scatter_plot(valid_data: list, convert_valid_data: list) -> None:\n",
    "    \"\"\"\n",
    "    Takes in two valid structures lists and plots the relation of Celsius and Fahrenheit based on the convertion.\n",
    "    \n",
    "    :param valid_data: A valid structures list of units and temperature values.\n",
    "    :param convert_valid_data:  A valid structures list of units and temperature values, that represent the converted values of valid_data parameter.\n",
    "    :returns: None, draws a scatter plot.\n",
    "    \"\"\"\n",
    "    celsius: list = []\n",
    "    fahrenheit: list = []\n",
    "    \n",
    "    for (i, value) in enumerate(valid_data):\n",
    "        if value not in ['C', 'F']:\n",
    "            continue\n",
    "            \n",
    "        if value == 'F': \n",
    "            fahrenheit.append(valid_data[i+1])\n",
    "            celsius.append(convert_valid_data[i+1])\n",
    "        else:\n",
    "            celsius.append(valid_data[i+1])\n",
    "            fahrenheit.append(convert_valid_data[i+1])\n",
    "    \n",
    "    plt.scatter(celsius, fahrenheit)\n",
    "    plt.title('Relation between temperatures in Celsius and Fahrenheit')\n",
    "    plt.xlabel('Fahrenheit (°F)')\n",
    "    plt.ylabel('Celsius (°C)')\n",
    "\n",
    "#// END_TODO [scatter_plot]\n",
    "\n",
    "draw_scatter_plot(valid_data, converted_data)"
   ],
   "outputs": [
    {
     "data": {
      "text/plain": [
       "<Figure size 640x480 with 1 Axes>"
      ],
      "image/png": "[encoded data removed]"
     },
     "metadata": {},
     "output_type": "display_data"
    }
   ],
   "execution_count": 36
  },
  {
   "cell_type": "markdown",
   "id": "8d73b271",
   "metadata": {},
   "source": [
    "## Part 2: Dutch Weather Data\n",
    "\n",
    "Ashanti and Emma's relationship is going well, but they do not like the long distance between them. Therefore, Ashanti is considering to move to the Netherlands. Before he does that, he would like to get some insights into the Dutch weather data. To this end, we will use data from the Royal Netherlands Meteorological Institute (KNMI). They have downloaded the data from the weather station in Eindhoven for the year 2022. The variables of the dataset and their corresponding descriptions are denoted in the following table. The data is already read and stored in the shape of a list of dictionaries for you. Each dictionary represents weather data for a particular date and hour. Every dictionary has the variable names (in the table below) as keys and the value corresponds to an observation for a particular data and hour. In the following tasks, you will help Ashanti to find insights into the Dutch weather data.\n",
    "\n",
    "| Variable                             | Type | Description                                                                     |\n",
    "| ------------------------------------- | ---- | ------------------------------------------------------------------------------- |\n",
    "| Date                                  | Datetime  | Date of observation                                                                           |\n",
    "| Hour                                  | int  | Hour of observation                                                                          |\n",
    "| Mean Wind Direction                   | int  | Mean wind direction during the 10-minute period preceding the time of observation |\n",
    "| Hourly Mean Wind Speed (m/s)          | float  | Hourly mean wind speed in m/s                                                |\n",
    "| Mean Wind Speed (m/s)                 | float  | Mean wind speed during the 10-minute period preceding the time of observation in m/s |\n",
    "| Maximum Wind Gust (m/s)               | float  | Maximum wind gust during the hourly division in m/s                          |\n",
    "| Temperature (° Celsius)         | float  | Temperature at 1.50 m at the time of observation in degrees Celsius         |\n",
    "| Dew Point Temperature (° Celsius)| float  | Dew point temperature at 1.50 m at the time of observation in degrees Celsius |\n",
    "| Sunshine Duration (0.1 hours)          | int  | Sunshine duration during the hourly division in 0.1 hour                         |\n",
    "| Global Radiation (J/cm2) | int | Global radiation during the hourly division in $J/cm^2$|\n",
    "| Precipitation Duration (0.1 hours)     | int  | Precipitation duration during the hourly division in 0.1 hour                     |\n",
    "| Hourly Precipitation Amount (mm)      | float  | Hourly precipitation amount in mm                                            |\n",
    "| Air Pressure (hPa)                    | float  | Air pressure reduced to mean sea level at the time of observation in hPa    |\n",
    "| Horizontal Visibility                | int  | Horizontal visibility at the time of observation                                |\n",
    "| Cloud Cover (octants)                 | object  | Cloud cover at the time of observation                                          |\n",
    "| Relative Atmospheric Humidity (\\%)     | int  | Relative atmospheric humidity at 1.50 m at the time of observation              |\n",
    "| Indicator Present Weather Code        | int  | Indicator present weather code                                                  |\n",
    "| Fog                                   | int  | Fog occurrence (0 = no, 1 = yes)                                                |\n",
    "| Rainfall                              | int  | Rainfall occurrence (0 = no, 1 = yes)                                           |\n",
    "| Snow                                  | int  | Snow occurrence (0 = no, 1 = yes)                                               |\n",
    "| Thunder                               | int  | Thunder occurrence (0 = no, 1 = yes)                                            |\n",
    "| Ice Formation                         | int  | Ice formation occurrence (0 = no, 1 = yes)                                      |\n"
   ]
  },
  {
   "cell_type": "code",
   "id": "188fe6f6",
   "metadata": {
    "ExecuteTime": {
     "end_time": "2024-09-26T14:30:23.168603Z",
     "start_time": "2024-09-26T14:30:22.701432Z"
    }
   },
   "source": [
    "#DO NOT CHANGE THIS CODE\n",
    "def read_dataset(data_path: str) -> List[Dict[str, Any]]:\n",
    "    \"\"\"\n",
    "    Reads in data from the file, cleans it up, and returns it as a\n",
    "    list of dictionaries.\n",
    "    :param data_path: the path to the CSV file\n",
    "    :returns: list of dictionaries of the prepared data.\n",
    "    \"\"\"\n",
    "    result = list()\n",
    "\n",
    "    float_columns = [\"Hourly Mean Wind Speed (m/s)\", \"Mean Wind Speed (m/s)\",\n",
    "                        \"Maximum Wind Gust (m/s)\", \"Temperature (degrees Celsius)\",\n",
    "                        \"Dew Point Temperature (degrees Celsius)\",\n",
    "                        \"Hourly Precipitation Amount (mm)\", \"Air Pressure (hPa)\"\n",
    "                        ]\n",
    "    \n",
    "    integer_columns = [\"Hour\", \"Mean Wind Direction\",\n",
    "                       \"Global Radiation (J/cm2)\", \"Precipitation Duration (0.1 hour)\",\n",
    "                       \"Horizontal Visibility\", \"Relative Atmospheric Humidity (%)\",\n",
    "                       \"Indicator Present Weather Code\", \"Fog\", \"Rainfall\", \"Snow\", \n",
    "                       \"Thunder\", \"Ice Formation\"]\n",
    "    \n",
    "    with open(data_path) as csv_file:\n",
    "        reader = csv.DictReader(csv_file)\n",
    "\n",
    "        for inrow in reader:\n",
    "            outrow = dict()\n",
    "\n",
    "            for field in reader.fieldnames:\n",
    "                if \"Date\" in field:\n",
    "                    outrow[field] = datetime.strptime(inrow[field], '%Y-%m-%d')\n",
    "                elif field in float_columns:\n",
    "                    outrow[field] = float(inrow[field])\n",
    "                elif field in integer_columns:\n",
    "                    outrow[field] = int(inrow[field]) if inrow[field].strip() else None\n",
    "                else:\n",
    "                    outrow[field] = inrow[field]\n",
    "            result.append(outrow)\n",
    "\n",
    "    return result\n",
    "\n",
    "weather_data = read_dataset(\"assets/weather_data.csv\")"
   ],
   "outputs": [],
   "execution_count": 40
  },
  {
   "cell_type": "markdown",
   "id": "f991b567",
   "metadata": {},
   "source": [
    "## Task 7: Calculate Temperature Statistics (20 Points)\n",
    "Ashanti wants to know better what weather to expect at certain points in time. In this task, the mean temperature given a timeframe is computed. To this end, create two functions.\n",
    "\n",
    "First, define the function `validate_date` that validates the input parameters given to the function by the user. It receives as arguments a month (`int`), a start hour (`int`), and an end hour (`int`) and it returns a boolean. The function should return `True` if:\n",
    "* the month is a number between 1 and 12, \n",
    "* the start hour is between 1 and 24,\n",
    "* the end hour is between 1 and 24, and\n",
    "* the start hour is lower than the end hour.\n",
    "\n",
    "Otherwise, the function returns `False` if one or more of the conditions above are not met.\n",
    "\n",
    "Then, define the function `calculate_temperature_statistic` that finds the mean temperature for a month between certain hours.\n",
    "It receives as arguments the `weather_data` (`List[Dict]`) variable (defined in the previous code cell), a month (`int`), a start hour (`int`), and an end hour (`int`).\n",
    "It returns the mean (`float`) if there is at least one observation or measurement in the given timeframe. \n",
    "Else it returns `-1`.\n",
    "\n",
    " **Notes**:\n",
    "* You can extract the month from a datetime object by adding `.month` after it.\n",
    "* The column name of temperature is `Temperature (degrees Celsius)`\n",
    "* In your calculations, you should consider the start hour up to (but not including) the end hour. So, if the start hour is 6 and the end hour is 8, you should only consider the hours 6 and 7. \n",
    "* Make sure that a division by zero does not occur.\n",
    "* Round the mean temperature to 1 decimal point.\n",
    "* Do not forget to write the **type hints** and **docstring** of the function.\n",
    "* Include at least _four_ (4) `doctest` examples **per function**.\n",
    "\n",
    "**Example**:\n",
    "\n",
    "*Input:*  \n",
    "```python\n",
    "calculate_temperature_statistic(weather, 8, 12, 15)\n",
    "```\n",
    "\n",
    "*Output:*  \n",
    "<pre>\n",
    "25.9\n",
    "</pre>\n"
   ]
  },
  {
   "cell_type": "code",
   "id": "db913e2f",
   "metadata": {
    "ExecuteTime": {
     "end_time": "2024-09-26T14:30:27.187599Z",
     "start_time": "2024-09-26T14:30:27.170921Z"
    }
   },
   "source": [
    "#// BEGIN_TODO [avg_temp] Find average temperature (15 points)\n",
    "\n",
    "def validate_date(month: int, start_hour: int, end_hour: int) -> bool:\n",
    "    \"\"\"\n",
    "    Validates the given month, start and end hour.\n",
    "\n",
    "    :param month: The month to validate.\n",
    "    :param start_hour: The start hour.\n",
    "    :param end_hour: The end hour.\n",
    "    :returns: True if the date is valid, False otherwise.\n",
    "    \n",
    "    >>> validate_date(1, 1, 2)\n",
    "    True\n",
    "    >>> validate_date(1, 2, 1)\n",
    "    False\n",
    "    >>> validate_date(12, 2, 2)\n",
    "    False\n",
    "    >>> validate_date(14, 1, 2)\n",
    "    False\n",
    "    \"\"\"\n",
    "    if month < 1 or month > 12:\n",
    "        return False\n",
    "    \n",
    "    if start_hour < 0 or start_hour > 23:\n",
    "        return False\n",
    "    \n",
    "    if end_hour < 0 or end_hour > 23:\n",
    "        return False\n",
    "    \n",
    "    if start_hour >= end_hour:\n",
    "        return False\n",
    "    \n",
    "    return True\n",
    "\n",
    "def calculate_temperature_statistic(weather_data: List[Dict], month: int, start_hour: int, end_hour: int) -> float:\n",
    "    return calculate_mean_temperature(weather_data, month, start_hour, end_hour)\n",
    "\n",
    "def calculate_mean_temperature(weather_data: list[dict], month: int, start_hour: int, end_hour: int) -> float:\n",
    "    \"\"\"\n",
    "    Calculates the mean temperature of the weather data and returns it as a float, after filtering.\n",
    "    \n",
    "    :param weather_data: A list of dictionaries of the weather data.\n",
    "    :param month: The month of the year.\n",
    "    :param start_hour: The start hour.\n",
    "    :param end_hour: The end hour.\n",
    "    :returns: The mean temperature of the weather data that fits into the input given.\n",
    "    \n",
    "    >>> calculate_mean_temperature(weather_data, 1, 12, 16)\n",
    "    6.1\n",
    "    >>> calculate_mean_temperature(weather_data, 8, 12, 15)\n",
    "    25.9\n",
    "    >>> calculate_mean_temperature(weather_data, 12, 1, 8)\n",
    "    3.5\n",
    "    >>> calculate_mean_temperature(weather_data, 8, 14, 16)\n",
    "    26.3\n",
    "    \"\"\"\n",
    "    found: list[dict] = [day_forcast for day_forcast in weather_data if\n",
    "                         day_forcast['Date'].month == month and start_hour <= day_forcast['Hour'] < end_hour]\n",
    "    \n",
    "    if len(found) == 0:\n",
    "        return -1\n",
    "    \n",
    "    temps: list[float] = [item['Temperature (degrees Celsius)'] for item in found]\n",
    "    \n",
    "    return round(sum(temps) / len(temps), 1) \n",
    "\n",
    "#// END_TODO [avg_temp]\n",
    "\n",
    "calculate_mean_temperature(weather_data, 1, 12, 17)"
   ],
   "outputs": [
    {
     "data": {
      "text/plain": [
       "6.0"
      ]
     },
     "execution_count": 44,
     "metadata": {},
     "output_type": "execute_result"
    }
   ],
   "execution_count": 44
  },
  {
   "cell_type": "code",
   "id": "94718310",
   "metadata": {
    "ExecuteTime": {
     "end_time": "2024-09-26T14:30:35.209989Z",
     "start_time": "2024-09-26T14:30:35.198503Z"
    }
   },
   "source": [
    "doctest.run_docstring_examples(validate_date, globals(), verbose=True, name='validate_date')"
   ],
   "outputs": [
    {
     "name": "stdout",
     "output_type": "stream",
     "text": [
      "Finding tests in validate_date\n",
      "Trying:\n",
      "    validate_date(1, 1, 2)\n",
      "Expecting:\n",
      "    True\n",
      "ok\n",
      "Trying:\n",
      "    validate_date(1, 2, 1)\n",
      "Expecting:\n",
      "    False\n",
      "ok\n",
      "Trying:\n",
      "    validate_date(12, 2, 2)\n",
      "Expecting:\n",
      "    False\n",
      "ok\n",
      "Trying:\n",
      "    validate_date(14, 1, 2)\n",
      "Expecting:\n",
      "    False\n",
      "ok\n"
     ]
    }
   ],
   "execution_count": 45
  },
  {
   "cell_type": "code",
   "id": "1de86f74",
   "metadata": {
    "ExecuteTime": {
     "end_time": "2024-09-26T14:30:37.847589Z",
     "start_time": "2024-09-26T14:30:37.821930Z"
    }
   },
   "source": [
    "doctest.run_docstring_examples(calculate_mean_temperature, globals(), verbose=True, name='calculate_mean_temperature')"
   ],
   "outputs": [
    {
     "name": "stdout",
     "output_type": "stream",
     "text": [
      "Finding tests in calculate_mean_temperature\n",
      "Trying:\n",
      "    calculate_mean_temperature(weather_data, 1, 12, 16)\n",
      "Expecting:\n",
      "    6.1\n",
      "ok\n",
      "Trying:\n",
      "    calculate_mean_temperature(weather_data, 8, 12, 15)\n",
      "Expecting:\n",
      "    25.9\n",
      "ok\n",
      "Trying:\n",
      "    calculate_mean_temperature(weather_data, 12, 1, 8)\n",
      "Expecting:\n",
      "    3.5\n",
      "ok\n",
      "Trying:\n",
      "    calculate_mean_temperature(weather_data, 8, 14, 16)\n",
      "Expecting:\n",
      "    26.3\n",
      "ok\n"
     ]
    }
   ],
   "execution_count": 46
  },
  {
   "cell_type": "markdown",
   "id": "2066adb0",
   "metadata": {},
   "source": [
    "## Task 8: Find the Day with the Most Rain (15 Points)\n",
    "Ashanti would also like to gain more insights into the precipitation amount in 2022. To help them, define the function `find_day_with_most_rain` that finds the day in 2022 with the maximum precipitation amount. It receives the `weather_data` (`List[Dict]`) variable as input and returns the day with the most precipitation (in the form of a `datetime` object). To this end, first create a new dictionary `rain_per_day`, within the function, that stores the rain per day. The keys of the dictionary store a datetime object and their values the total precipitation of the day. Finally, return the day which has the most precipitation. \n",
    "\n",
    "**Notes**:\n",
    "* The column name of precipitation (rain) is `Hourly Precipitation Amount (mm)`.\n",
    "* You are **not** allowed to use the built-in max-function or a lambda expression.\n",
    "* Do not forget to write the **type hints** and **docstring** of the function.\n",
    "* No **doctest** is required.\n",
    "\n",
    "**Example**:\n",
    "\n",
    "*Input:*  \n",
    "```python\n",
    "find_day_with_most_rain(weather)\n",
    "```\n",
    "\n",
    "*Output:*  \n",
    "<pre>\n",
    "datetime.datetime(2022, 6, 5, 0, 0)\n",
    "</pre>"
   ]
  },
  {
   "cell_type": "code",
   "id": "07870ec4",
   "metadata": {
    "ExecuteTime": {
     "end_time": "2024-09-26T14:42:19.764529Z",
     "start_time": "2024-09-26T14:42:19.744214Z"
    }
   },
   "source": [
    "#// BEGIN_TODO [rain_day] Find rainiest day (10 points)\n",
    "\n",
    "def find_day_with_most_rain(weather_data: list[dict]) -> datetime:\n",
    "    \"\"\"\n",
    "    Finds the day with the most rain in the weather data.\n",
    "\n",
    "    :param weather_data: A list of dictionaries of the weather data.\n",
    "    :returns: The day with the most rain in the weather data.\n",
    "    \"\"\"\n",
    "        \n",
    "    max_rain_date: datetime = datetime.now()\n",
    "    max_rain_value: float = float('-inf')\n",
    "    for weather_record in weather_data:\n",
    "        if max_rain_value < weather_record['Hourly Precipitation Amount (mm)']:\n",
    "            max_rain_date = weather_record['Date']\n",
    "            max_rain_value = weather_record['Hourly Precipitation Amount (mm)']\n",
    "    \n",
    "    return max_rain_date\n",
    "\n",
    "#// END_TODO [rain_day]\n",
    "\n",
    "find_day_with_most_rain(weather_data)"
   ],
   "outputs": [
    {
     "data": {
      "text/plain": [
       "datetime.datetime(2022, 6, 5, 0, 0)"
      ]
     },
     "execution_count": 68,
     "metadata": {},
     "output_type": "execute_result"
    }
   ],
   "execution_count": 68
  },
  {
   "cell_type": "markdown",
   "id": "90e00927",
   "metadata": {},
   "source": [
    "---\n",
    "\n",
    "## (End of Notebook)\n",
    "\n",
    "&copy; 2024 - **TU/e** - Eindhoven University of Technology\n",
    "\n",
    "All rights reserved. You are only allowed to use this notebook for private purposes. You are not allowed to distribute or share it with other parties."
   ]
  }
 ],
 "metadata": {
  "anaconda-cloud": {},
  "kernelspec": {
   "display_name": "Python 3",
   "language": "python",
   "name": "python3"
  },
  "language_info": {
   "codemirror_mode": {
    "name": "ipython",
    "version": 3
   },
   "file_extension": ".py",
   "mimetype": "text/x-python",
   "name": "python",
   "nbconvert_exporter": "python",
   "pygments_lexer": "ipython3",
   "version": "3.10.2"
  },
  "toc": {
   "base_numbering": 1,
   "nav_menu": {},
   "number_sections": true,
   "sideBar": true,
   "skip_h1_title": false,
   "title_cell": "Table of Contents",
   "title_sidebar": "Contents",
   "toc_cell": false,
   "toc_position": {},
   "toc_section_display": true,
   "toc_window_display": false
  }
 },
 "nbformat": 4,
 "nbformat_minor": 5
}
